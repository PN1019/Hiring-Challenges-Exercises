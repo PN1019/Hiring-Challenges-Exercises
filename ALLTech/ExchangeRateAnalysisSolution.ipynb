{
  "nbformat": 4,
  "nbformat_minor": 0,
  "metadata": {
    "colab": {
      "name": "ExchangeRateAnalysis.ipynb",
      "provenance": [],
      "authorship_tag": "ABX9TyMTYseoARq8a/GIsnTas0Mu",
      "include_colab_link": true
    },
    "kernelspec": {
      "name": "python3",
      "display_name": "Python 3"
    },
    "language_info": {
      "name": "python"
    }
  },
  "cells": [
    {
      "cell_type": "markdown",
      "metadata": {
        "id": "view-in-github",
        "colab_type": "text"
      },
      "source": [
        "<a href=\"https://colab.research.google.com/github/PN1019/Hiring-Challenges-Exercises/blob/main/ALLTech/ExchangeRateAnalysisSolution.ipynb\" target=\"_parent\"><img src=\"https://colab.research.google.com/assets/colab-badge.svg\" alt=\"Open In Colab\"/></a>"
      ]
    },
    {
      "cell_type": "markdown",
      "metadata": {
        "id": "cdSu_w_c1ucu"
      },
      "source": [
        "## TASK 1\n",
        "\n",
        "* Imported the JSON file(orders.json) in python pandas and perform all the data cleaning and manipulation ; \n",
        "* Export the currency data from the provided API (https://exchangeratesapi.io/) \n",
        "\n",
        "* Create the final required output file;\n",
        "\n"
      ]
    },
    {
      "cell_type": "code",
      "metadata": {
        "id": "7_6hdKdD1mWT"
      },
      "source": [
        "# Import required libraries\n",
        "\n",
        "import pandas as pd\n",
        "import requests\n",
        "import json\n"
      ],
      "execution_count": null,
      "outputs": []
    },
    {
      "cell_type": "code",
      "metadata": {
        "colab": {
          "resources": {
            "http://localhost:8080/nbextensions/google.colab/files.js": {
              "data": "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",
              "ok": true,
              "headers": [
                [
                  "content-type",
                  "application/javascript"
                ]
              ],
              "status": 200,
              "status_text": ""
            }
          },
          "base_uri": "https://localhost:8080/",
          "height": 73
        },
        "id": "wpNM2Mq42eD7",
        "outputId": "ce989b9d-8b89-4176-c3bd-d29a0802ce9a"
      },
      "source": [
        "from google.colab import files\n",
        "uploaded = files.upload()\n"
      ],
      "execution_count": null,
      "outputs": [
        {
          "output_type": "display_data",
          "data": {
            "text/html": [
              "\n",
              "     <input type=\"file\" id=\"files-f55d045b-bfe4-4b36-8d3d-0dc0e8ccc991\" name=\"files[]\" multiple disabled\n",
              "        style=\"border:none\" />\n",
              "     <output id=\"result-f55d045b-bfe4-4b36-8d3d-0dc0e8ccc991\">\n",
              "      Upload widget is only available when the cell has been executed in the\n",
              "      current browser session. Please rerun this cell to enable.\n",
              "      </output>\n",
              "      <script src=\"/nbextensions/google.colab/files.js\"></script> "
            ],
            "text/plain": [
              "<IPython.core.display.HTML object>"
            ]
          },
          "metadata": {}
        },
        {
          "output_type": "stream",
          "name": "stdout",
          "text": [
            "Saving orders.json to orders.json\n"
          ]
        }
      ]
    },
    {
      "cell_type": "code",
      "metadata": {
        "colab": {
          "base_uri": "https://localhost:8080/",
          "height": 202
        },
        "id": "G4pCAZaJ2YV8",
        "outputId": "4c523fce-0f09-4f7a-9ffe-9c2aabcb0f77"
      },
      "source": [
        "# Import the data provided for the task\n",
        "df_data = pd.read_json('orders.json')\n",
        "df_data.head()\n"
      ],
      "execution_count": null,
      "outputs": [
        {
          "output_type": "execute_result",
          "data": {
            "text/html": [
              "<div>\n",
              "<style scoped>\n",
              "    .dataframe tbody tr th:only-of-type {\n",
              "        vertical-align: middle;\n",
              "    }\n",
              "\n",
              "    .dataframe tbody tr th {\n",
              "        vertical-align: top;\n",
              "    }\n",
              "\n",
              "    .dataframe thead th {\n",
              "        text-align: right;\n",
              "    }\n",
              "</style>\n",
              "<table border=\"1\" class=\"dataframe\">\n",
              "  <thead>\n",
              "    <tr style=\"text-align: right;\">\n",
              "      <th></th>\n",
              "      <th>id</th>\n",
              "      <th>customer</th>\n",
              "      <th>total_price</th>\n",
              "      <th>created_at</th>\n",
              "      <th>line_items</th>\n",
              "    </tr>\n",
              "  </thead>\n",
              "  <tbody>\n",
              "    <tr>\n",
              "      <th>0</th>\n",
              "      <td>8369263756632563</td>\n",
              "      <td>{'id': 47178, 'name': 'William Doe', 'email': ...</td>\n",
              "      <td>79.39</td>\n",
              "      <td>2020-03-07 14:31:11+00:00</td>\n",
              "      <td>[{'id': 610448, 'product_id': 632910392, 'prod...</td>\n",
              "    </tr>\n",
              "    <tr>\n",
              "      <th>1</th>\n",
              "      <td>7262170348080494</td>\n",
              "      <td>{'id': 94720, 'name': 'Emile Tumson', 'email':...</td>\n",
              "      <td>86.98</td>\n",
              "      <td>2020-03-01 09:16:30+00:00</td>\n",
              "      <td>[{'id': 997208, 'product_id': 278266679, 'prod...</td>\n",
              "    </tr>\n",
              "    <tr>\n",
              "      <th>2</th>\n",
              "      <td>7722055557038194</td>\n",
              "      <td>{'id': 59933, 'name': 'Ethan Jones', 'email': ...</td>\n",
              "      <td>36.99</td>\n",
              "      <td>2020-01-01 09:17:03+00:00</td>\n",
              "      <td>[{'id': 759658, 'product_id': 573794972, 'prod...</td>\n",
              "    </tr>\n",
              "    <tr>\n",
              "      <th>3</th>\n",
              "      <td>4280852170163518</td>\n",
              "      <td>{'id': 23955, 'name': 'Daniel Smith', 'email':...</td>\n",
              "      <td>55.98</td>\n",
              "      <td>2020-03-10 11:59:46+00:00</td>\n",
              "      <td>[{'id': 317808, 'product_id': 477365777, 'prod...</td>\n",
              "    </tr>\n",
              "    <tr>\n",
              "      <th>4</th>\n",
              "      <td>5058732129957127</td>\n",
              "      <td>{'id': 59933, 'name': 'Ethan Jones', 'email': ...</td>\n",
              "      <td>309.98</td>\n",
              "      <td>2020-03-15 07:27:24+00:00</td>\n",
              "      <td>[{'id': 604665, 'product_id': 510650809, 'prod...</td>\n",
              "    </tr>\n",
              "  </tbody>\n",
              "</table>\n",
              "</div>"
            ],
            "text/plain": [
              "                 id  ...                                         line_items\n",
              "0  8369263756632563  ...  [{'id': 610448, 'product_id': 632910392, 'prod...\n",
              "1  7262170348080494  ...  [{'id': 997208, 'product_id': 278266679, 'prod...\n",
              "2  7722055557038194  ...  [{'id': 759658, 'product_id': 573794972, 'prod...\n",
              "3  4280852170163518  ...  [{'id': 317808, 'product_id': 477365777, 'prod...\n",
              "4  5058732129957127  ...  [{'id': 604665, 'product_id': 510650809, 'prod...\n",
              "\n",
              "[5 rows x 5 columns]"
            ]
          },
          "metadata": {},
          "execution_count": 3
        }
      ]
    },
    {
      "cell_type": "code",
      "metadata": {
        "id": "kQjArhPI2-da"
      },
      "source": [
        "# Rename the column id to Order_id\n",
        "df_data = df_data.rename(columns = {'id':'Order_id' })\n"
      ],
      "execution_count": null,
      "outputs": []
    },
    {
      "cell_type": "code",
      "metadata": {
        "colab": {
          "base_uri": "https://localhost:8080/",
          "height": 202
        },
        "id": "hdQab_4D3M4b",
        "outputId": "4e98846b-2ffd-40d2-ac48-04621175f75f"
      },
      "source": [
        "# Convert the dictionaries of customer into separate columns\n",
        "df_data = pd.concat([df_data.drop(['customer'], axis=1), df_data['customer'].apply(pd.Series)], axis=1)\n",
        "df_data.head()\n"
      ],
      "execution_count": null,
      "outputs": [
        {
          "output_type": "execute_result",
          "data": {
            "text/html": [
              "<div>\n",
              "<style scoped>\n",
              "    .dataframe tbody tr th:only-of-type {\n",
              "        vertical-align: middle;\n",
              "    }\n",
              "\n",
              "    .dataframe tbody tr th {\n",
              "        vertical-align: top;\n",
              "    }\n",
              "\n",
              "    .dataframe thead th {\n",
              "        text-align: right;\n",
              "    }\n",
              "</style>\n",
              "<table border=\"1\" class=\"dataframe\">\n",
              "  <thead>\n",
              "    <tr style=\"text-align: right;\">\n",
              "      <th></th>\n",
              "      <th>Order_id</th>\n",
              "      <th>total_price</th>\n",
              "      <th>created_at</th>\n",
              "      <th>line_items</th>\n",
              "      <th>id</th>\n",
              "      <th>name</th>\n",
              "      <th>email</th>\n",
              "    </tr>\n",
              "  </thead>\n",
              "  <tbody>\n",
              "    <tr>\n",
              "      <th>0</th>\n",
              "      <td>8369263756632563</td>\n",
              "      <td>79.39</td>\n",
              "      <td>2020-03-07 14:31:11+00:00</td>\n",
              "      <td>[{'id': 610448, 'product_id': 632910392, 'prod...</td>\n",
              "      <td>47178</td>\n",
              "      <td>William Doe</td>\n",
              "      <td>william.doe@gmail.com</td>\n",
              "    </tr>\n",
              "    <tr>\n",
              "      <th>1</th>\n",
              "      <td>7262170348080494</td>\n",
              "      <td>86.98</td>\n",
              "      <td>2020-03-01 09:16:30+00:00</td>\n",
              "      <td>[{'id': 997208, 'product_id': 278266679, 'prod...</td>\n",
              "      <td>94720</td>\n",
              "      <td>Emile Tumson</td>\n",
              "      <td>emile.tumson@gmail.com</td>\n",
              "    </tr>\n",
              "    <tr>\n",
              "      <th>2</th>\n",
              "      <td>7722055557038194</td>\n",
              "      <td>36.99</td>\n",
              "      <td>2020-01-01 09:17:03+00:00</td>\n",
              "      <td>[{'id': 759658, 'product_id': 573794972, 'prod...</td>\n",
              "      <td>59933</td>\n",
              "      <td>Ethan Jones</td>\n",
              "      <td>ethan.jones@gmail.com</td>\n",
              "    </tr>\n",
              "    <tr>\n",
              "      <th>3</th>\n",
              "      <td>4280852170163518</td>\n",
              "      <td>55.98</td>\n",
              "      <td>2020-03-10 11:59:46+00:00</td>\n",
              "      <td>[{'id': 317808, 'product_id': 477365777, 'prod...</td>\n",
              "      <td>23955</td>\n",
              "      <td>Daniel Smith</td>\n",
              "      <td>daniel.smith@gmail.com</td>\n",
              "    </tr>\n",
              "    <tr>\n",
              "      <th>4</th>\n",
              "      <td>5058732129957127</td>\n",
              "      <td>309.98</td>\n",
              "      <td>2020-03-15 07:27:24+00:00</td>\n",
              "      <td>[{'id': 604665, 'product_id': 510650809, 'prod...</td>\n",
              "      <td>59933</td>\n",
              "      <td>Ethan Jones</td>\n",
              "      <td>ethan.jones@gmail.com</td>\n",
              "    </tr>\n",
              "  </tbody>\n",
              "</table>\n",
              "</div>"
            ],
            "text/plain": [
              "           Order_id  total_price  ...          name                   email\n",
              "0  8369263756632563        79.39  ...   William Doe   william.doe@gmail.com\n",
              "1  7262170348080494        86.98  ...  Emile Tumson  emile.tumson@gmail.com\n",
              "2  7722055557038194        36.99  ...   Ethan Jones   ethan.jones@gmail.com\n",
              "3  4280852170163518        55.98  ...  Daniel Smith  daniel.smith@gmail.com\n",
              "4  5058732129957127       309.98  ...   Ethan Jones   ethan.jones@gmail.com\n",
              "\n",
              "[5 rows x 7 columns]"
            ]
          },
          "metadata": {},
          "execution_count": 5
        }
      ]
    },
    {
      "cell_type": "code",
      "metadata": {
        "id": "qjxcj_fD34_j"
      },
      "source": [
        "# Rename the newly created columns\n",
        "df_data = df_data.rename(columns = {'id':'customer_id','name':'customer_name' })\n"
      ],
      "execution_count": null,
      "outputs": []
    },
    {
      "cell_type": "code",
      "metadata": {
        "colab": {
          "base_uri": "https://localhost:8080/",
          "height": 285
        },
        "id": "kK6Big824JS1",
        "outputId": "0024f2e4-92ad-4298-82e6-eafdd9d3826a"
      },
      "source": [
        "# Convert the dictionaries of line_items into separate columns\n",
        "df_data = pd.concat([df_data.drop(['line_items'], axis=1), df_data['line_items'].apply(pd.Series)], axis=1)\n",
        "df_data = df_data.drop([1, 2,3], axis=1)\n",
        "df_data = df_data.rename(columns = {0:'line_items'})\n",
        "df_data = pd.concat([df_data.drop(['line_items'], axis=1), df_data['line_items'].apply(pd.Series)], axis=1)\n",
        "df_data = df_data.rename(columns = {'price':'product_price'})\n",
        "df_data.head()\n"
      ],
      "execution_count": null,
      "outputs": [
        {
          "output_type": "execute_result",
          "data": {
            "text/html": [
              "<div>\n",
              "<style scoped>\n",
              "    .dataframe tbody tr th:only-of-type {\n",
              "        vertical-align: middle;\n",
              "    }\n",
              "\n",
              "    .dataframe tbody tr th {\n",
              "        vertical-align: top;\n",
              "    }\n",
              "\n",
              "    .dataframe thead th {\n",
              "        text-align: right;\n",
              "    }\n",
              "</style>\n",
              "<table border=\"1\" class=\"dataframe\">\n",
              "  <thead>\n",
              "    <tr style=\"text-align: right;\">\n",
              "      <th></th>\n",
              "      <th>Order_id</th>\n",
              "      <th>total_price</th>\n",
              "      <th>created_at</th>\n",
              "      <th>customer_id</th>\n",
              "      <th>customer_name</th>\n",
              "      <th>email</th>\n",
              "      <th>id</th>\n",
              "      <th>product_id</th>\n",
              "      <th>product_sku</th>\n",
              "      <th>product_name</th>\n",
              "      <th>product_price</th>\n",
              "    </tr>\n",
              "  </thead>\n",
              "  <tbody>\n",
              "    <tr>\n",
              "      <th>0</th>\n",
              "      <td>8369263756632563</td>\n",
              "      <td>79.39</td>\n",
              "      <td>2020-03-07 14:31:11+00:00</td>\n",
              "      <td>47178</td>\n",
              "      <td>William Doe</td>\n",
              "      <td>william.doe@gmail.com</td>\n",
              "      <td>610448</td>\n",
              "      <td>632910392</td>\n",
              "      <td>PPLEPUNCH20-05</td>\n",
              "      <td>Purple Punch 2.0 Dried Flower</td>\n",
              "      <td>29.40</td>\n",
              "    </tr>\n",
              "    <tr>\n",
              "      <th>1</th>\n",
              "      <td>7262170348080494</td>\n",
              "      <td>86.98</td>\n",
              "      <td>2020-03-01 09:16:30+00:00</td>\n",
              "      <td>94720</td>\n",
              "      <td>Emile Tumson</td>\n",
              "      <td>emile.tumson@gmail.com</td>\n",
              "      <td>997208</td>\n",
              "      <td>278266679</td>\n",
              "      <td>GPSTASH-01</td>\n",
              "      <td>Grandpa's Stash Dried Flower</td>\n",
              "      <td>49.99</td>\n",
              "    </tr>\n",
              "    <tr>\n",
              "      <th>2</th>\n",
              "      <td>7722055557038194</td>\n",
              "      <td>36.99</td>\n",
              "      <td>2020-01-01 09:17:03+00:00</td>\n",
              "      <td>59933</td>\n",
              "      <td>Ethan Jones</td>\n",
              "      <td>ethan.jones@gmail.com</td>\n",
              "      <td>759658</td>\n",
              "      <td>573794972</td>\n",
              "      <td>SAGENSOUR-01</td>\n",
              "      <td>Sage N Sour Dried Flower</td>\n",
              "      <td>36.99</td>\n",
              "    </tr>\n",
              "    <tr>\n",
              "      <th>3</th>\n",
              "      <td>4280852170163518</td>\n",
              "      <td>55.98</td>\n",
              "      <td>2020-03-10 11:59:46+00:00</td>\n",
              "      <td>23955</td>\n",
              "      <td>Daniel Smith</td>\n",
              "      <td>daniel.smith@gmail.com</td>\n",
              "      <td>317808</td>\n",
              "      <td>477365777</td>\n",
              "      <td>GOGPR-07</td>\n",
              "      <td>Glueberry OG Pre-Rolls</td>\n",
              "      <td>5.99</td>\n",
              "    </tr>\n",
              "    <tr>\n",
              "      <th>4</th>\n",
              "      <td>5058732129957127</td>\n",
              "      <td>309.98</td>\n",
              "      <td>2020-03-15 07:27:24+00:00</td>\n",
              "      <td>59933</td>\n",
              "      <td>Ethan Jones</td>\n",
              "      <td>ethan.jones@gmail.com</td>\n",
              "      <td>604665</td>\n",
              "      <td>510650809</td>\n",
              "      <td>PAX-3</td>\n",
              "      <td>Pax 3 Vaporizer</td>\n",
              "      <td>259.99</td>\n",
              "    </tr>\n",
              "  </tbody>\n",
              "</table>\n",
              "</div>"
            ],
            "text/plain": [
              "           Order_id  total_price  ...                   product_name  product_price\n",
              "0  8369263756632563        79.39  ...  Purple Punch 2.0 Dried Flower          29.40\n",
              "1  7262170348080494        86.98  ...   Grandpa's Stash Dried Flower          49.99\n",
              "2  7722055557038194        36.99  ...       Sage N Sour Dried Flower          36.99\n",
              "3  4280852170163518        55.98  ...         Glueberry OG Pre-Rolls           5.99\n",
              "4  5058732129957127       309.98  ...                Pax 3 Vaporizer         259.99\n",
              "\n",
              "[5 rows x 11 columns]"
            ]
          },
          "metadata": {},
          "execution_count": 7
        }
      ]
    },
    {
      "cell_type": "markdown",
      "metadata": {
        "id": "1HbfieS0RnTi"
      },
      "source": [
        "###  Exporting Currency Data from API"
      ]
    },
    {
      "cell_type": "code",
      "metadata": {
        "colab": {
          "base_uri": "https://localhost:8080/",
          "height": 78
        },
        "id": "Br5Ni5KH44aE",
        "outputId": "e67e8df1-7aaf-45c1-b69c-989f89f53db9"
      },
      "source": [
        "# Get the data from URL\n",
        "r = requests.get('http://api.exchangeratesapi.io/v1/2020-01-01?access_key=#ACCESS_KEY_CREDENTIALS&symbols=CAD')\n",
        "#under free subscription I don't have access to conversion API for currency base and end date so using api data for which I have access currently\n",
        "x = r.json()\n",
        "df = pd.read_json(json.dumps(x))\n",
        "df.head()\n",
        "\n",
        "#Above API Link is giving me access to \"historical\"endpoint- request historical rates for a specific day for base EUR by deafault\n",
        "# after u have access to conversion api u just need to change the access link to this\n",
        "#http://api.exchangeratesapi.io/v1/timeseries?access_key=##ACCESS_KEY_CREDENTIALS&start_date=2020-01-01&end_date=2020-04-01&base=USD&symbols=CAD&format=1"
      ],
      "execution_count": null,
      "outputs": [
        {
          "output_type": "execute_result",
          "data": {
            "text/html": [
              "<div>\n",
              "<style scoped>\n",
              "    .dataframe tbody tr th:only-of-type {\n",
              "        vertical-align: middle;\n",
              "    }\n",
              "\n",
              "    .dataframe tbody tr th {\n",
              "        vertical-align: top;\n",
              "    }\n",
              "\n",
              "    .dataframe thead th {\n",
              "        text-align: right;\n",
              "    }\n",
              "</style>\n",
              "<table border=\"1\" class=\"dataframe\">\n",
              "  <thead>\n",
              "    <tr style=\"text-align: right;\">\n",
              "      <th></th>\n",
              "      <th>success</th>\n",
              "      <th>timestamp</th>\n",
              "      <th>historical</th>\n",
              "      <th>base</th>\n",
              "      <th>date</th>\n",
              "      <th>rates</th>\n",
              "    </tr>\n",
              "  </thead>\n",
              "  <tbody>\n",
              "    <tr>\n",
              "      <th>CAD</th>\n",
              "      <td>True</td>\n",
              "      <td>2020-01-01 23:59:59</td>\n",
              "      <td>True</td>\n",
              "      <td>EUR</td>\n",
              "      <td>2020-01-01</td>\n",
              "      <td>1.45563</td>\n",
              "    </tr>\n",
              "  </tbody>\n",
              "</table>\n",
              "</div>"
            ],
            "text/plain": [
              "     success           timestamp  historical base       date    rates\n",
              "CAD     True 2020-01-01 23:59:59        True  EUR 2020-01-01  1.45563"
            ]
          },
          "metadata": {},
          "execution_count": 63
        }
      ]
    },
    {
      "cell_type": "markdown",
      "metadata": {
        "id": "9tozPYwrsc0I"
      },
      "source": [
        "If we have used this #http://api.exchangeratesapi.io/v1/timeseries?access_key=##ACCESS_KEY_CREDENTIALS&start_date=2020-01-01&end_date=2020-04-01&base=USD&symbols=CAD&format=1\n",
        "below image shows the resultant response to request\n",
        "we have to perform data manipulation according to data provided by API Request.\n",
        "\n",
        "![apirequest.png](data:image/png;base64,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)"
      ]
    },
    {
      "cell_type": "code",
      "metadata": {
        "colab": {
          "base_uri": "https://localhost:8080/",
          "height": 78
        },
        "id": "n2e_RdIE_cFa",
        "outputId": "355292d2-23c3-4a6c-ff11-f002fe35a4d3"
      },
      "source": [
        "# Deleting the non required columns\n",
        "df = df.drop(df.columns[[0,1,2,3]], axis=1) \n",
        "df.head()\n"
      ],
      "execution_count": null,
      "outputs": [
        {
          "output_type": "execute_result",
          "data": {
            "text/html": [
              "<div>\n",
              "<style scoped>\n",
              "    .dataframe tbody tr th:only-of-type {\n",
              "        vertical-align: middle;\n",
              "    }\n",
              "\n",
              "    .dataframe tbody tr th {\n",
              "        vertical-align: top;\n",
              "    }\n",
              "\n",
              "    .dataframe thead th {\n",
              "        text-align: right;\n",
              "    }\n",
              "</style>\n",
              "<table border=\"1\" class=\"dataframe\">\n",
              "  <thead>\n",
              "    <tr style=\"text-align: right;\">\n",
              "      <th></th>\n",
              "      <th>date</th>\n",
              "      <th>rates</th>\n",
              "    </tr>\n",
              "  </thead>\n",
              "  <tbody>\n",
              "    <tr>\n",
              "      <th>CAD</th>\n",
              "      <td>2020-01-01</td>\n",
              "      <td>1.45563</td>\n",
              "    </tr>\n",
              "  </tbody>\n",
              "</table>\n",
              "</div>"
            ],
            "text/plain": [
              "          date    rates\n",
              "CAD 2020-01-01  1.45563"
            ]
          },
          "metadata": {},
          "execution_count": 48
        }
      ]
    },
    {
      "cell_type": "code",
      "metadata": {
        "colab": {
          "base_uri": "https://localhost:8080/",
          "height": 78
        },
        "id": "lPT53jgAiSi9",
        "outputId": "b2f61ba5-17a0-4793-d7c4-1b08924427aa"
      },
      "source": [
        "## Convert the rate column into general columns and rename it\n",
        "#df = pd.concat([df.drop(['rates'], axis=1), df['rates'].apply(pd.Series)], axis=1)\n",
        "df = df.rename(columns = {'rates':'CAD_rate'})\n",
        "df.head()\n"
      ],
      "execution_count": null,
      "outputs": [
        {
          "output_type": "execute_result",
          "data": {
            "text/html": [
              "<div>\n",
              "<style scoped>\n",
              "    .dataframe tbody tr th:only-of-type {\n",
              "        vertical-align: middle;\n",
              "    }\n",
              "\n",
              "    .dataframe tbody tr th {\n",
              "        vertical-align: top;\n",
              "    }\n",
              "\n",
              "    .dataframe thead th {\n",
              "        text-align: right;\n",
              "    }\n",
              "</style>\n",
              "<table border=\"1\" class=\"dataframe\">\n",
              "  <thead>\n",
              "    <tr style=\"text-align: right;\">\n",
              "      <th></th>\n",
              "      <th>date</th>\n",
              "      <th>CAD_rate</th>\n",
              "    </tr>\n",
              "  </thead>\n",
              "  <tbody>\n",
              "    <tr>\n",
              "      <th>CAD</th>\n",
              "      <td>2020-01-01</td>\n",
              "      <td>1.45563</td>\n",
              "    </tr>\n",
              "  </tbody>\n",
              "</table>\n",
              "</div>"
            ],
            "text/plain": [
              "          date  CAD_rate\n",
              "CAD 2020-01-01   1.45563"
            ]
          },
          "metadata": {},
          "execution_count": 49
        }
      ]
    },
    {
      "cell_type": "code",
      "metadata": {
        "colab": {
          "base_uri": "https://localhost:8080/",
          "height": 318
        },
        "id": "nbcfZHzkiaRc",
        "outputId": "a5ab64a8-8ae4-452d-a209-616a163c1e1c"
      },
      "source": [
        "df_data['date'] = df_data['created_at']\n",
        "df_data['date'] = df_data['date'].dt.date\n",
        "df_data.head()\n"
      ],
      "execution_count": null,
      "outputs": [
        {
          "output_type": "execute_result",
          "data": {
            "text/html": [
              "<div>\n",
              "<style scoped>\n",
              "    .dataframe tbody tr th:only-of-type {\n",
              "        vertical-align: middle;\n",
              "    }\n",
              "\n",
              "    .dataframe tbody tr th {\n",
              "        vertical-align: top;\n",
              "    }\n",
              "\n",
              "    .dataframe thead th {\n",
              "        text-align: right;\n",
              "    }\n",
              "</style>\n",
              "<table border=\"1\" class=\"dataframe\">\n",
              "  <thead>\n",
              "    <tr style=\"text-align: right;\">\n",
              "      <th></th>\n",
              "      <th>Order_id</th>\n",
              "      <th>total_price</th>\n",
              "      <th>created_at</th>\n",
              "      <th>customer_id</th>\n",
              "      <th>customer_name</th>\n",
              "      <th>email</th>\n",
              "      <th>id</th>\n",
              "      <th>product_id</th>\n",
              "      <th>product_sku</th>\n",
              "      <th>product_name</th>\n",
              "      <th>product_price</th>\n",
              "      <th>date</th>\n",
              "    </tr>\n",
              "  </thead>\n",
              "  <tbody>\n",
              "    <tr>\n",
              "      <th>0</th>\n",
              "      <td>8369263756632563</td>\n",
              "      <td>79.39</td>\n",
              "      <td>2020-03-07 14:31:11+00:00</td>\n",
              "      <td>47178</td>\n",
              "      <td>William Doe</td>\n",
              "      <td>william.doe@gmail.com</td>\n",
              "      <td>610448</td>\n",
              "      <td>632910392</td>\n",
              "      <td>PPLEPUNCH20-05</td>\n",
              "      <td>Purple Punch 2.0 Dried Flower</td>\n",
              "      <td>29.40</td>\n",
              "      <td>2020-03-07</td>\n",
              "    </tr>\n",
              "    <tr>\n",
              "      <th>1</th>\n",
              "      <td>7262170348080494</td>\n",
              "      <td>86.98</td>\n",
              "      <td>2020-03-01 09:16:30+00:00</td>\n",
              "      <td>94720</td>\n",
              "      <td>Emile Tumson</td>\n",
              "      <td>emile.tumson@gmail.com</td>\n",
              "      <td>997208</td>\n",
              "      <td>278266679</td>\n",
              "      <td>GPSTASH-01</td>\n",
              "      <td>Grandpa's Stash Dried Flower</td>\n",
              "      <td>49.99</td>\n",
              "      <td>2020-03-01</td>\n",
              "    </tr>\n",
              "    <tr>\n",
              "      <th>2</th>\n",
              "      <td>7722055557038194</td>\n",
              "      <td>36.99</td>\n",
              "      <td>2020-01-01 09:17:03+00:00</td>\n",
              "      <td>59933</td>\n",
              "      <td>Ethan Jones</td>\n",
              "      <td>ethan.jones@gmail.com</td>\n",
              "      <td>759658</td>\n",
              "      <td>573794972</td>\n",
              "      <td>SAGENSOUR-01</td>\n",
              "      <td>Sage N Sour Dried Flower</td>\n",
              "      <td>36.99</td>\n",
              "      <td>2020-01-01</td>\n",
              "    </tr>\n",
              "    <tr>\n",
              "      <th>3</th>\n",
              "      <td>4280852170163518</td>\n",
              "      <td>55.98</td>\n",
              "      <td>2020-03-10 11:59:46+00:00</td>\n",
              "      <td>23955</td>\n",
              "      <td>Daniel Smith</td>\n",
              "      <td>daniel.smith@gmail.com</td>\n",
              "      <td>317808</td>\n",
              "      <td>477365777</td>\n",
              "      <td>GOGPR-07</td>\n",
              "      <td>Glueberry OG Pre-Rolls</td>\n",
              "      <td>5.99</td>\n",
              "      <td>2020-03-10</td>\n",
              "    </tr>\n",
              "    <tr>\n",
              "      <th>4</th>\n",
              "      <td>5058732129957127</td>\n",
              "      <td>309.98</td>\n",
              "      <td>2020-03-15 07:27:24+00:00</td>\n",
              "      <td>59933</td>\n",
              "      <td>Ethan Jones</td>\n",
              "      <td>ethan.jones@gmail.com</td>\n",
              "      <td>604665</td>\n",
              "      <td>510650809</td>\n",
              "      <td>PAX-3</td>\n",
              "      <td>Pax 3 Vaporizer</td>\n",
              "      <td>259.99</td>\n",
              "      <td>2020-03-15</td>\n",
              "    </tr>\n",
              "  </tbody>\n",
              "</table>\n",
              "</div>"
            ],
            "text/plain": [
              "           Order_id  total_price  ... product_price        date\n",
              "0  8369263756632563        79.39  ...         29.40  2020-03-07\n",
              "1  7262170348080494        86.98  ...         49.99  2020-03-01\n",
              "2  7722055557038194        36.99  ...         36.99  2020-01-01\n",
              "3  4280852170163518        55.98  ...          5.99  2020-03-10\n",
              "4  5058732129957127       309.98  ...        259.99  2020-03-15\n",
              "\n",
              "[5 rows x 12 columns]"
            ]
          },
          "metadata": {},
          "execution_count": 50
        }
      ]
    },
    {
      "cell_type": "code",
      "metadata": {
        "id": "2vtHRPkilFXd"
      },
      "source": [
        "# format the date column in the other file\n",
        "df['date'] = df['date'].dt.date\n"
      ],
      "execution_count": null,
      "outputs": []
    },
    {
      "cell_type": "code",
      "metadata": {
        "colab": {
          "base_uri": "https://localhost:8080/",
          "height": 163
        },
        "id": "YGNhxnRblKr8",
        "outputId": "69c943d3-f632-4c1b-e6f5-f4ea3183dcfc"
      },
      "source": [
        "# merging the files to get the CAD rate in the main file\n",
        "df_data = pd.merge(df_data,df,on = 'date')\n",
        "df_data.head()\n"
      ],
      "execution_count": null,
      "outputs": [
        {
          "output_type": "execute_result",
          "data": {
            "text/html": [
              "<div>\n",
              "<style scoped>\n",
              "    .dataframe tbody tr th:only-of-type {\n",
              "        vertical-align: middle;\n",
              "    }\n",
              "\n",
              "    .dataframe tbody tr th {\n",
              "        vertical-align: top;\n",
              "    }\n",
              "\n",
              "    .dataframe thead th {\n",
              "        text-align: right;\n",
              "    }\n",
              "</style>\n",
              "<table border=\"1\" class=\"dataframe\">\n",
              "  <thead>\n",
              "    <tr style=\"text-align: right;\">\n",
              "      <th></th>\n",
              "      <th>Order_id</th>\n",
              "      <th>total_price</th>\n",
              "      <th>created_at</th>\n",
              "      <th>customer_id</th>\n",
              "      <th>customer_name</th>\n",
              "      <th>email</th>\n",
              "      <th>id</th>\n",
              "      <th>product_id</th>\n",
              "      <th>product_sku</th>\n",
              "      <th>product_name</th>\n",
              "      <th>product_price</th>\n",
              "      <th>date</th>\n",
              "      <th>CAD_rate</th>\n",
              "    </tr>\n",
              "  </thead>\n",
              "  <tbody>\n",
              "    <tr>\n",
              "      <th>0</th>\n",
              "      <td>7722055557038194</td>\n",
              "      <td>36.99</td>\n",
              "      <td>2020-01-01 09:17:03+00:00</td>\n",
              "      <td>59933</td>\n",
              "      <td>Ethan Jones</td>\n",
              "      <td>ethan.jones@gmail.com</td>\n",
              "      <td>759658</td>\n",
              "      <td>573794972</td>\n",
              "      <td>SAGENSOUR-01</td>\n",
              "      <td>Sage N Sour Dried Flower</td>\n",
              "      <td>36.99</td>\n",
              "      <td>2020-01-01</td>\n",
              "      <td>1.45563</td>\n",
              "    </tr>\n",
              "    <tr>\n",
              "      <th>1</th>\n",
              "      <td>5825547264855968</td>\n",
              "      <td>55.98</td>\n",
              "      <td>2020-01-01 12:59:26+00:00</td>\n",
              "      <td>59933</td>\n",
              "      <td>Ethan Jones</td>\n",
              "      <td>ethan.jones@gmail.com</td>\n",
              "      <td>771854</td>\n",
              "      <td>694165761</td>\n",
              "      <td>HYBTINC-03</td>\n",
              "      <td>Hybrid Blend THC Tincture</td>\n",
              "      <td>49.99</td>\n",
              "      <td>2020-01-01</td>\n",
              "      <td>1.45563</td>\n",
              "    </tr>\n",
              "  </tbody>\n",
              "</table>\n",
              "</div>"
            ],
            "text/plain": [
              "           Order_id  total_price  ...        date  CAD_rate\n",
              "0  7722055557038194        36.99  ...  2020-01-01   1.45563\n",
              "1  5825547264855968        55.98  ...  2020-01-01   1.45563\n",
              "\n",
              "[2 rows x 13 columns]"
            ]
          },
          "metadata": {},
          "execution_count": 53
        }
      ]
    },
    {
      "cell_type": "code",
      "metadata": {
        "colab": {
          "base_uri": "https://localhost:8080/",
          "height": 163
        },
        "id": "Gmjs2fmElgnt",
        "outputId": "73b7b3d2-bb66-4066-fe1e-00fa66b5c920"
      },
      "source": [
        "# convert the original order price and the product price to CAD\n",
        "df_data['order_price_CAD'] = df_data['total_price']*df_data['CAD_rate']\n",
        "df_data['product_price_CAD'] = df_data['product_price']*df_data['CAD_rate']\n",
        "df_data.head()\n"
      ],
      "execution_count": null,
      "outputs": [
        {
          "output_type": "execute_result",
          "data": {
            "text/html": [
              "<div>\n",
              "<style scoped>\n",
              "    .dataframe tbody tr th:only-of-type {\n",
              "        vertical-align: middle;\n",
              "    }\n",
              "\n",
              "    .dataframe tbody tr th {\n",
              "        vertical-align: top;\n",
              "    }\n",
              "\n",
              "    .dataframe thead th {\n",
              "        text-align: right;\n",
              "    }\n",
              "</style>\n",
              "<table border=\"1\" class=\"dataframe\">\n",
              "  <thead>\n",
              "    <tr style=\"text-align: right;\">\n",
              "      <th></th>\n",
              "      <th>Order_id</th>\n",
              "      <th>total_price</th>\n",
              "      <th>created_at</th>\n",
              "      <th>customer_id</th>\n",
              "      <th>customer_name</th>\n",
              "      <th>email</th>\n",
              "      <th>id</th>\n",
              "      <th>product_id</th>\n",
              "      <th>product_sku</th>\n",
              "      <th>product_name</th>\n",
              "      <th>product_price</th>\n",
              "      <th>date</th>\n",
              "      <th>CAD_rate</th>\n",
              "      <th>order_price_CAD</th>\n",
              "      <th>product_price_CAD</th>\n",
              "    </tr>\n",
              "  </thead>\n",
              "  <tbody>\n",
              "    <tr>\n",
              "      <th>0</th>\n",
              "      <td>7722055557038194</td>\n",
              "      <td>36.99</td>\n",
              "      <td>2020-01-01 09:17:03+00:00</td>\n",
              "      <td>59933</td>\n",
              "      <td>Ethan Jones</td>\n",
              "      <td>ethan.jones@gmail.com</td>\n",
              "      <td>759658</td>\n",
              "      <td>573794972</td>\n",
              "      <td>SAGENSOUR-01</td>\n",
              "      <td>Sage N Sour Dried Flower</td>\n",
              "      <td>36.99</td>\n",
              "      <td>2020-01-01</td>\n",
              "      <td>1.45563</td>\n",
              "      <td>53.843754</td>\n",
              "      <td>53.843754</td>\n",
              "    </tr>\n",
              "    <tr>\n",
              "      <th>1</th>\n",
              "      <td>5825547264855968</td>\n",
              "      <td>55.98</td>\n",
              "      <td>2020-01-01 12:59:26+00:00</td>\n",
              "      <td>59933</td>\n",
              "      <td>Ethan Jones</td>\n",
              "      <td>ethan.jones@gmail.com</td>\n",
              "      <td>771854</td>\n",
              "      <td>694165761</td>\n",
              "      <td>HYBTINC-03</td>\n",
              "      <td>Hybrid Blend THC Tincture</td>\n",
              "      <td>49.99</td>\n",
              "      <td>2020-01-01</td>\n",
              "      <td>1.45563</td>\n",
              "      <td>81.486167</td>\n",
              "      <td>72.766944</td>\n",
              "    </tr>\n",
              "  </tbody>\n",
              "</table>\n",
              "</div>"
            ],
            "text/plain": [
              "           Order_id  total_price  ... order_price_CAD  product_price_CAD\n",
              "0  7722055557038194        36.99  ...       53.843754          53.843754\n",
              "1  5825547264855968        55.98  ...       81.486167          72.766944\n",
              "\n",
              "[2 rows x 15 columns]"
            ]
          },
          "metadata": {},
          "execution_count": 55
        }
      ]
    },
    {
      "cell_type": "code",
      "metadata": {
        "colab": {
          "base_uri": "https://localhost:8080/",
          "height": 163
        },
        "id": "BJahac7gl6Fk",
        "outputId": "e7326d62-8f8b-4421-adf2-36426cd1894e"
      },
      "source": [
        "# round the decimal places\n",
        "df_data = df_data.round({'order_price_CAD': 2, 'product_price_CAD': 2})\n",
        "df_data.head()\n"
      ],
      "execution_count": null,
      "outputs": [
        {
          "output_type": "execute_result",
          "data": {
            "text/html": [
              "<div>\n",
              "<style scoped>\n",
              "    .dataframe tbody tr th:only-of-type {\n",
              "        vertical-align: middle;\n",
              "    }\n",
              "\n",
              "    .dataframe tbody tr th {\n",
              "        vertical-align: top;\n",
              "    }\n",
              "\n",
              "    .dataframe thead th {\n",
              "        text-align: right;\n",
              "    }\n",
              "</style>\n",
              "<table border=\"1\" class=\"dataframe\">\n",
              "  <thead>\n",
              "    <tr style=\"text-align: right;\">\n",
              "      <th></th>\n",
              "      <th>Order_id</th>\n",
              "      <th>total_price</th>\n",
              "      <th>created_at</th>\n",
              "      <th>customer_id</th>\n",
              "      <th>customer_name</th>\n",
              "      <th>email</th>\n",
              "      <th>id</th>\n",
              "      <th>product_id</th>\n",
              "      <th>product_sku</th>\n",
              "      <th>product_name</th>\n",
              "      <th>product_price</th>\n",
              "      <th>date</th>\n",
              "      <th>CAD_rate</th>\n",
              "      <th>order_price_CAD</th>\n",
              "      <th>product_price_CAD</th>\n",
              "    </tr>\n",
              "  </thead>\n",
              "  <tbody>\n",
              "    <tr>\n",
              "      <th>0</th>\n",
              "      <td>7722055557038194</td>\n",
              "      <td>36.99</td>\n",
              "      <td>2020-01-01 09:17:03+00:00</td>\n",
              "      <td>59933</td>\n",
              "      <td>Ethan Jones</td>\n",
              "      <td>ethan.jones@gmail.com</td>\n",
              "      <td>759658</td>\n",
              "      <td>573794972</td>\n",
              "      <td>SAGENSOUR-01</td>\n",
              "      <td>Sage N Sour Dried Flower</td>\n",
              "      <td>36.99</td>\n",
              "      <td>2020-01-01</td>\n",
              "      <td>1.45563</td>\n",
              "      <td>53.84</td>\n",
              "      <td>53.84</td>\n",
              "    </tr>\n",
              "    <tr>\n",
              "      <th>1</th>\n",
              "      <td>5825547264855968</td>\n",
              "      <td>55.98</td>\n",
              "      <td>2020-01-01 12:59:26+00:00</td>\n",
              "      <td>59933</td>\n",
              "      <td>Ethan Jones</td>\n",
              "      <td>ethan.jones@gmail.com</td>\n",
              "      <td>771854</td>\n",
              "      <td>694165761</td>\n",
              "      <td>HYBTINC-03</td>\n",
              "      <td>Hybrid Blend THC Tincture</td>\n",
              "      <td>49.99</td>\n",
              "      <td>2020-01-01</td>\n",
              "      <td>1.45563</td>\n",
              "      <td>81.49</td>\n",
              "      <td>72.77</td>\n",
              "    </tr>\n",
              "  </tbody>\n",
              "</table>\n",
              "</div>"
            ],
            "text/plain": [
              "           Order_id  total_price  ... order_price_CAD  product_price_CAD\n",
              "0  7722055557038194        36.99  ...           53.84              53.84\n",
              "1  5825547264855968        55.98  ...           81.49              72.77\n",
              "\n",
              "[2 rows x 15 columns]"
            ]
          },
          "metadata": {},
          "execution_count": 56
        }
      ]
    },
    {
      "cell_type": "code",
      "metadata": {
        "id": "ZQCX8_ial6DT"
      },
      "source": [
        "# a summary file with Order_id and the final price\n",
        "data_Order =df_data[['Order_id','order_price_CAD']]\n"
      ],
      "execution_count": null,
      "outputs": []
    },
    {
      "cell_type": "markdown",
      "metadata": {
        "id": "HUl5VyBPRy5j"
      },
      "source": [
        "### Required Output stored in CSV Files"
      ]
    },
    {
      "cell_type": "code",
      "metadata": {
        "id": "Gx1vWOlLmTAV"
      },
      "source": [
        "df_data.to_csv('Output\\data.csv',index = False)\n",
        "data_Order.to_csv('Output\\data_order.csv',index = False)\n"
      ],
      "execution_count": null,
      "outputs": []
    },
    {
      "cell_type": "markdown",
      "metadata": {
        "id": "RoVm2z0YvayY"
      },
      "source": [
        "# TASK 2\n",
        "* Persist the data obtained from task 1;\n",
        "* Upload your data to a SQL database of your choice (SQLite, MySQL, PostgreSQL.);\n",
        "* Design the right data model for your data Create the SQL tables Import your \n",
        "data in SQL;\n",
        "* Write SQL statements to create tables for the data ;\n",
        "* Write A Python script to upload the data (or the one from Task 1, extended);\n"
      ]
    },
    {
      "cell_type": "code",
      "metadata": {
        "colab": {
          "base_uri": "https://localhost:8080/"
        },
        "id": "FMsXxY_wsbTB",
        "outputId": "906a0ab6-79ee-4451-dd89-485da01e1f08"
      },
      "source": [
        "# Get the columns of data so that same structured table can be created in SQL\n",
        "df_data.columns\n"
      ],
      "execution_count": null,
      "outputs": [
        {
          "output_type": "execute_result",
          "data": {
            "text/plain": [
              "Index(['Order_id', 'total_price', 'created_at', 'customer_id', 'customer_name',\n",
              "       'email', 'id', 'product_id', 'product_sku', 'product_name',\n",
              "       'product_price', 'date', 'CAD_rate', 'order_price_CAD',\n",
              "       'product_price_CAD'],\n",
              "      dtype='object')"
            ]
          },
          "metadata": {},
          "execution_count": 65
        }
      ]
    },
    {
      "cell_type": "code",
      "metadata": {
        "id": "gKkqkN-1vhQV"
      },
      "source": [
        "# formatting the date column\n",
        "df_data['date'] =df_data['date'].astype('datetime64[ns]')\n"
      ],
      "execution_count": null,
      "outputs": []
    },
    {
      "cell_type": "code",
      "metadata": {
        "colab": {
          "base_uri": "https://localhost:8080/"
        },
        "id": "RHTj7RgdwcER",
        "outputId": "05ee2241-fefd-4a2c-ba34-75b3b174f6d5"
      },
      "source": [
        "!pip install pyodbc"
      ],
      "execution_count": 1,
      "outputs": [
        {
          "output_type": "stream",
          "name": "stdout",
          "text": [
            "Collecting pyodbc\n",
            "  Downloading pyodbc-4.0.32.tar.gz (280 kB)\n",
            "\u001b[?25l\r\u001b[K     |█▏                              | 10 kB 22.7 MB/s eta 0:00:01\r\u001b[K     |██▍                             | 20 kB 27.3 MB/s eta 0:00:01\r\u001b[K     |███▌                            | 30 kB 17.8 MB/s eta 0:00:01\r\u001b[K     |████▊                           | 40 kB 12.2 MB/s eta 0:00:01\r\u001b[K     |█████▉                          | 51 kB 5.5 MB/s eta 0:00:01\r\u001b[K     |███████                         | 61 kB 5.8 MB/s eta 0:00:01\r\u001b[K     |████████▏                       | 71 kB 5.2 MB/s eta 0:00:01\r\u001b[K     |█████████▍                      | 81 kB 5.8 MB/s eta 0:00:01\r\u001b[K     |██████████▌                     | 92 kB 5.9 MB/s eta 0:00:01\r\u001b[K     |███████████▊                    | 102 kB 5.1 MB/s eta 0:00:01\r\u001b[K     |████████████▉                   | 112 kB 5.1 MB/s eta 0:00:01\r\u001b[K     |██████████████                  | 122 kB 5.1 MB/s eta 0:00:01\r\u001b[K     |███████████████▏                | 133 kB 5.1 MB/s eta 0:00:01\r\u001b[K     |████████████████▍               | 143 kB 5.1 MB/s eta 0:00:01\r\u001b[K     |█████████████████▌              | 153 kB 5.1 MB/s eta 0:00:01\r\u001b[K     |██████████████████▊             | 163 kB 5.1 MB/s eta 0:00:01\r\u001b[K     |████████████████████            | 174 kB 5.1 MB/s eta 0:00:01\r\u001b[K     |█████████████████████           | 184 kB 5.1 MB/s eta 0:00:01\r\u001b[K     |██████████████████████▎         | 194 kB 5.1 MB/s eta 0:00:01\r\u001b[K     |███████████████████████▍        | 204 kB 5.1 MB/s eta 0:00:01\r\u001b[K     |████████████████████████▋       | 215 kB 5.1 MB/s eta 0:00:01\r\u001b[K     |█████████████████████████▊      | 225 kB 5.1 MB/s eta 0:00:01\r\u001b[K     |███████████████████████████     | 235 kB 5.1 MB/s eta 0:00:01\r\u001b[K     |████████████████████████████    | 245 kB 5.1 MB/s eta 0:00:01\r\u001b[K     |█████████████████████████████▎  | 256 kB 5.1 MB/s eta 0:00:01\r\u001b[K     |██████████████████████████████▍ | 266 kB 5.1 MB/s eta 0:00:01\r\u001b[K     |███████████████████████████████▋| 276 kB 5.1 MB/s eta 0:00:01\r\u001b[K     |████████████████████████████████| 280 kB 5.1 MB/s \n",
            "\u001b[?25hBuilding wheels for collected packages: pyodbc\n",
            "  Building wheel for pyodbc (setup.py) ... \u001b[?25l\u001b[?25hdone\n",
            "  Created wheel for pyodbc: filename=pyodbc-4.0.32-cp37-cp37m-linux_x86_64.whl size=287275 sha256=2fe386dff726c3b1a175863d07d22783076e89ad8759f86b1ec291cbba4904ca\n",
            "  Stored in directory: /root/.cache/pip/wheels/2e/9c/da/8652fd42e0f662015554f00a9e96fe4f438dfd1ef59787879e\n",
            "Successfully built pyodbc\n",
            "Installing collected packages: pyodbc\n",
            "Successfully installed pyodbc-4.0.32\n"
          ]
        }
      ]
    },
    {
      "cell_type": "code",
      "metadata": {
        "colab": {
          "base_uri": "https://localhost:8080/"
        },
        "id": "sMnGDZKOBoxt",
        "outputId": "d6f40dca-1632-442e-83ac-d8d83776a358"
      },
      "source": [
        "#code to install the Microsoft ODBC driver 17 from the bash shell for ubuntu\n",
        "%%sh\n",
        "curl https://packages.microsoft.com/keys/microsoft.asc | apt-key add -\n",
        "curl https://packages.microsoft.com/config/ubuntu/21.04/prod.list > /etc/apt/sources.list.d/mssql-release.list\n",
        "\n",
        "sudo apt-get update\n",
        "sudo ACCEPT_EULA=Y apt-get -q -y install msodbcsql17\n"
      ],
      "execution_count": 14,
      "outputs": [
        {
          "output_type": "stream",
          "name": "stdout",
          "text": [
            "OK\n",
            "Get:1 http://security.ubuntu.com/ubuntu bionic-security InRelease [88.7 kB]\n",
            "Hit:2 https://packages.microsoft.com/ubuntu/21.04/prod hirsute InRelease\n",
            "Hit:3 https://cloud.r-project.org/bin/linux/ubuntu bionic-cran40/ InRelease\n",
            "Ign:4 https://developer.download.nvidia.com/compute/cuda/repos/ubuntu1804/x86_64  InRelease\n",
            "Ign:5 https://developer.download.nvidia.com/compute/machine-learning/repos/ubuntu1804/x86_64  InRelease\n",
            "Hit:6 http://ppa.launchpad.net/c2d4u.team/c2d4u4.0+/ubuntu bionic InRelease\n",
            "Hit:7 http://archive.ubuntu.com/ubuntu bionic InRelease\n",
            "Hit:8 https://developer.download.nvidia.com/compute/cuda/repos/ubuntu1804/x86_64  Release\n",
            "Hit:9 https://developer.download.nvidia.com/compute/machine-learning/repos/ubuntu1804/x86_64  Release\n",
            "Get:10 http://archive.ubuntu.com/ubuntu bionic-updates InRelease [88.7 kB]\n",
            "Hit:11 http://ppa.launchpad.net/cran/libgit2/ubuntu bionic InRelease\n",
            "Hit:12 http://ppa.launchpad.net/deadsnakes/ppa/ubuntu bionic InRelease\n",
            "Get:13 http://archive.ubuntu.com/ubuntu bionic-backports InRelease [74.6 kB]\n",
            "Hit:14 http://ppa.launchpad.net/graphics-drivers/ppa/ubuntu bionic InRelease\n",
            "Fetched 252 kB in 1s (179 kB/s)\n",
            "Reading package lists...\n",
            "Reading package lists...\n",
            "Building dependency tree...\n",
            "Reading state information...\n",
            "msodbcsql17 is already the newest version (17.8.1.1-1).\n",
            "0 upgraded, 0 newly installed, 0 to remove and 66 not upgraded.\n"
          ]
        },
        {
          "output_type": "stream",
          "name": "stderr",
          "text": [
            "  % Total    % Received % Xferd  Average Speed   Time    Time     Time  Current\n",
            "                                 Dload  Upload   Total   Spent    Left  Speed\n",
            "\r  0     0    0     0    0     0      0      0 --:--:-- --:--:-- --:--:--     0Warning: apt-key output should not be parsed (stdout is not a terminal)\n",
            "\r100   983  100   983    0     0   4349      0 --:--:-- --:--:-- --:--:--  4349\n",
            "  % Total    % Received % Xferd  Average Speed   Time    Time     Time  Current\n",
            "                                 Dload  Upload   Total   Spent    Left  Speed\n",
            "\r  0     0    0     0    0     0      0      0 --:--:-- --:--:-- --:--:--     0\r100    90  100    90    0     0    909      0 --:--:-- --:--:-- --:--:--   909\n"
          ]
        }
      ]
    },
    {
      "cell_type": "code",
      "metadata": {
        "colab": {
          "base_uri": "https://localhost:8080/"
        },
        "id": "IlbqUd52Hsqc",
        "outputId": "66f38d22-2d96-4fcd-ff19-f4ec99836a34"
      },
      "source": [
        "pyodbc.drivers()"
      ],
      "execution_count": 15,
      "outputs": [
        {
          "output_type": "execute_result",
          "data": {
            "text/plain": [
              "['ODBC Driver 17 for SQL Server']"
            ]
          },
          "metadata": {},
          "execution_count": 15
        }
      ]
    },
    {
      "cell_type": "markdown",
      "metadata": {
        "id": "k8tgAF8KD3p5"
      },
      "source": [
        "# NOTE: \n",
        "# Perhaps below code for connecting python to sqlserver will not run on Google Collab due to the specialty of its work,you will need to download this code and run it on your local ide by putting up system specification details."
      ]
    },
    {
      "cell_type": "markdown",
      "metadata": {
        "id": "KnJhuv_uJpb4"
      },
      "source": [
        "# SQL Queries for Creation and Retrival of data\n",
        "### Creation of Order Table:\n",
        "create table order_table (\n",
        "             Order_id varchar(30) PRIMARY KEY, total_price money,\n",
        "\t\t\t created_at DateTime, date DateTime,\n",
        "\t\t\t CAD_rate money, order_price_CAD money\n",
        "\t\t\t )\n",
        "\t  \n",
        "select *\n",
        "from order_table\n",
        "\n",
        "### Creation of Customer Table:\n",
        "create table customer_table(\n",
        "             Order_id varchar(30) FOREIGN KEY REFERENCES order_table(Order_id),\n",
        "\t\t\t customer_id varchar(30),\n",
        "\t\t\t customer_name varchar(50), email varchar(30)\n",
        "\t\t\t )\n",
        "\n",
        "select *\n",
        "from customer_table\n",
        "### Creation of Product Table:\n",
        "create table product_table(\n",
        "             Order_id varchar(30) FOREIGN KEY REFERENCES order_table(Order_id),\n",
        "\t\t\t id varchar(30), product_id varchar(30), product_sku varchar(30),\n",
        "\t\t\t product_name varchar(50), product_price money,\n",
        "\t\t\t date DateTime, CAD_rate money, product_price_CAD money\n",
        "\t\t\t )\n",
        "\n",
        "select *\n",
        "from product_table\n"
      ]
    },
    {
      "cell_type": "code",
      "metadata": {
        "id": "l04x9Aryv1Bo"
      },
      "source": [
        "#connecting python to sql-server database using pyodbc \n",
        "import pyodbc\n",
        "\n",
        "conn = pyodbc.connect('Driver={SQL Server};'\n",
        "                      'Server=your_server_name;'\n",
        "                      'Database=test_database;'\n",
        "                      'Trusted_Connection=yes;')\n",
        "\n",
        "cursor = conn.cursor()\n",
        "cursor.execute('SELECT * FROM test_database.dbo.order_table')\n",
        " \n",
        "# Insert DataFrame to Table(order_table)\n",
        "for row in data.itertuples():\n",
        "    cursor.execute('''\n",
        "                INSERT INTO test_database.dbo.order_table (Order_id,total_price,created_at,date,CAD_rate,order_price_CAD)\n",
        "                VALUES (?,?,?,?,?,?)\n",
        "                ''',\n",
        "                \n",
        "                row.Order_id,\n",
        "                row.total_price,\n",
        "                row.created_at,\n",
        "                row.date,\n",
        "                row.CAD_rate,\n",
        "                row.order_price_CAD\n",
        "                        \n",
        "                )\n",
        "conn.commit()\n"
      ],
      "execution_count": null,
      "outputs": []
    },
    {
      "cell_type": "code",
      "metadata": {
        "id": "WwoD867iU7Vy"
      },
      "source": [
        "#connecting python to sql-server database using pyodbc \n",
        "import pyodbc\n",
        "\n",
        "conn = pyodbc.connect('Driver={SQL Server};'\n",
        "                      'Server=your_server_name;'\n",
        "                      'Database=test_database;'\n",
        "                      'Trusted_Connection=yes;')\n",
        "\n",
        "cursor = conn.cursor()\n",
        "cursor.execute('SELECT * FROM test_database.dbo.customer_table')\n",
        " \n",
        "# Insert DataFrame to Table(customer_table)\n",
        "for row in data.itertuples():\n",
        "    cursor.execute('''\n",
        "                INSERT INTO test_database.dbo.customer_table (Order_id,customer_id,customer_name,email)\n",
        "                VALUES (?,?,?,?)\n",
        "                ''',\n",
        "                \n",
        "                row.Order_id,\n",
        "                row.customer_id,\n",
        "                row.customer_name,\n",
        "                row.email\n",
        "                        \n",
        "                )\n",
        "conn.commit()\n",
        "    "
      ],
      "execution_count": null,
      "outputs": []
    },
    {
      "cell_type": "code",
      "metadata": {
        "id": "27EC8O2nWOzy"
      },
      "source": [
        "# connecting python to sql-server database using pyodbc \n",
        "import pyodbc\n",
        "\n",
        "conn = pyodbc.connect('Driver={SQL Server};'\n",
        "                      'Server=your_server_name;'\n",
        "                      'Database=test_database;'\n",
        "                      'Trusted_Connection=yes;')\n",
        "\n",
        "cursor = conn.cursor()\n",
        "cursor.execute('SELECT * FROM test_database.dbo.product_table')\n",
        " \n",
        "# Insert DataFrame to Table(product_table)\n",
        "for row in data.itertuples():\n",
        "    cursor.execute('''\n",
        "                INSERT INTO test_database.dbo.product_table (Order_id,id,product_id,product_sku,product_name,\n",
        "                                                                           product_price,date,CAD_rate,product_price_CAD)\n",
        "                VALUES (?,?,?,?,?,?,?,?,?)\n",
        "                ''',\n",
        "                \n",
        "                row.Order_id,\n",
        "                row.id,\n",
        "                row.product_id,\n",
        "                row.product_sku,\n",
        "                row.product_name,\n",
        "                row.product_price,\n",
        "                row.date,\n",
        "                row.CAD_rate,\n",
        "                row.product_price_CAD\n",
        "                        \n",
        "                )\n",
        "conn.commit()\n"
      ],
      "execution_count": null,
      "outputs": []
    },
    {
      "cell_type": "markdown",
      "metadata": {
        "id": "tecvFcIbWYHD"
      },
      "source": [
        "### TASK 3\n",
        "Create visualizations/Dashboard to analyze the data from task1.\n",
        "\n",
        "*Note: I have used sample data instead of data obtained above due to insufficient data.*"
      ]
    },
    {
      "cell_type": "markdown",
      "metadata": {
        "id": "SZ5_vXlAHMBy"
      },
      "source": [
        "Solution Present on  [tableau public](https://public.tableau.com/authoring/ExchangeRateAnalysis_16371482082830/CustomersVsProductVSProductPrice#1) "
      ]
    }
  ]
}