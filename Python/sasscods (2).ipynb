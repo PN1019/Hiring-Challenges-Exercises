{
 "cells": [
  {
   "cell_type": "code",
   "execution_count": 1,
   "id": "ad860822",
   "metadata": {
    "execution": {
     "iopub.execute_input": "2022-04-18T09:07:46.019243Z",
     "iopub.status.busy": "2022-04-18T09:07:46.018048Z",
     "iopub.status.idle": "2022-04-18T09:07:46.021993Z",
     "shell.execute_reply": "2022-04-18T09:07:46.022567Z",
     "shell.execute_reply.started": "2022-04-18T09:03:09.809930Z"
    },
    "papermill": {
     "duration": 0.069022,
     "end_time": "2022-04-18T09:07:46.022878",
     "exception": false,
     "start_time": "2022-04-18T09:07:45.953856",
     "status": "completed"
    },
    "tags": []
   },
   "outputs": [],
   "source": [
    "from IPython.core.display import display,Markdown"
   ]
  },
  {
   "cell_type": "markdown",
   "id": "dfeb45c9",
   "metadata": {
    "execution": {
     "iopub.execute_input": "2022-02-03T11:39:56.233314Z",
     "iopub.status.busy": "2022-02-03T11:39:56.232593Z",
     "iopub.status.idle": "2022-02-03T11:39:56.236634Z",
     "shell.execute_reply": "2022-02-03T11:39:56.235809Z",
     "shell.execute_reply.started": "2022-02-03T11:39:56.233278Z"
    },
    "papermill": {
     "duration": 0.054648,
     "end_time": "2022-04-18T09:07:46.133292",
     "exception": false,
     "start_time": "2022-04-18T09:07:46.078644",
     "status": "completed"
    },
    "tags": []
   },
   "source": [
    "# <p style=\"background-color:#535353;font-family:newtimeroman;color:#FFF9ED;font-size:250%;text-align:center;border-radius:10px 10px;\">SaaS Company EDA</p>\n",
    "\n"
   ]
  },
  {
   "cell_type": "markdown",
   "id": "2b658142",
   "metadata": {
    "papermill": {
     "duration": 0.050335,
     "end_time": "2022-04-18T09:07:46.236938",
     "exception": false,
     "start_time": "2022-04-18T09:07:46.186603",
     "status": "completed"
    },
    "tags": []
   },
   "source": [
    "# <p style=\"background-color:#535360;font-family:arial;color:#FFF7EF;font-size:150%;text-align:left;border-radius:10px 10px;\">Module Imports</p>\n"
   ]
  },
  {
   "cell_type": "code",
   "execution_count": 2,
   "id": "c0c38a9d",
   "metadata": {
    "execution": {
     "iopub.execute_input": "2022-04-18T09:07:46.342129Z",
     "iopub.status.busy": "2022-04-18T09:07:46.341325Z",
     "iopub.status.idle": "2022-04-18T09:07:48.642213Z",
     "shell.execute_reply": "2022-04-18T09:07:48.641625Z",
     "shell.execute_reply.started": "2022-04-18T09:03:09.881576Z"
    },
    "papermill": {
     "duration": 2.355178,
     "end_time": "2022-04-18T09:07:48.642353",
     "exception": false,
     "start_time": "2022-04-18T09:07:46.287175",
     "status": "completed"
    },
    "tags": []
   },
   "outputs": [],
   "source": [
    "import pandas as pd\n",
    "import numpy as np\n",
    "import matplotlib.pyplot as plt\n",
    "from mpl_toolkits.axes_grid1 import host_subplot\n",
    "import seaborn as sns\n",
    "import datetime\n",
    "import plotly.graph_objects as go\n",
    "import plotly.express as px\n",
    "import math\n"
   ]
  },
  {
   "cell_type": "code",
   "execution_count": 3,
   "id": "989ec650",
   "metadata": {
    "execution": {
     "iopub.execute_input": "2022-04-18T09:07:48.745165Z",
     "iopub.status.busy": "2022-04-18T09:07:48.744471Z",
     "iopub.status.idle": "2022-04-18T09:07:48.746214Z",
     "shell.execute_reply": "2022-04-18T09:07:48.746686Z",
     "shell.execute_reply.started": "2022-04-18T09:03:12.587410Z"
    },
    "papermill": {
     "duration": 0.055509,
     "end_time": "2022-04-18T09:07:48.746846",
     "exception": false,
     "start_time": "2022-04-18T09:07:48.691337",
     "status": "completed"
    },
    "tags": []
   },
   "outputs": [],
   "source": [
    "import warnings\n",
    "warnings.filterwarnings(\"ignore\")"
   ]
  },
  {
   "cell_type": "code",
   "execution_count": 4,
   "id": "b1dc5c2b",
   "metadata": {
    "execution": {
     "iopub.execute_input": "2022-04-18T09:07:48.848726Z",
     "iopub.status.busy": "2022-04-18T09:07:48.847785Z",
     "iopub.status.idle": "2022-04-18T09:07:48.850635Z",
     "shell.execute_reply": "2022-04-18T09:07:48.851229Z",
     "shell.execute_reply.started": "2022-04-18T09:03:12.593322Z"
    },
    "papermill": {
     "duration": 0.055146,
     "end_time": "2022-04-18T09:07:48.851404",
     "exception": false,
     "start_time": "2022-04-18T09:07:48.796258",
     "status": "completed"
    },
    "tags": []
   },
   "outputs": [],
   "source": [
    "# <p style=\"background-color:#535360;font-family:arial;color:#FFF7EF;font-size:150%;text-align:left;border-radius:10px 10px;\">Table/Data Imports</p>\n"
   ]
  },
  {
   "cell_type": "code",
   "execution_count": 5,
   "id": "bb852559",
   "metadata": {
    "execution": {
     "iopub.execute_input": "2022-04-18T09:07:48.952871Z",
     "iopub.status.busy": "2022-04-18T09:07:48.952099Z",
     "iopub.status.idle": "2022-04-18T09:07:49.200284Z",
     "shell.execute_reply": "2022-04-18T09:07:49.200928Z",
     "shell.execute_reply.started": "2022-04-18T09:03:12.610048Z"
    },
    "papermill": {
     "duration": 0.300376,
     "end_time": "2022-04-18T09:07:49.201127",
     "exception": false,
     "start_time": "2022-04-18T09:07:48.900751",
     "status": "completed"
    },
    "tags": []
   },
   "outputs": [],
   "source": [
    "# Importing tables\n",
    "subs = pd.read_csv(\"../input/sasscompanydataset/data/subscriptions.csv\",\n",
    "                   parse_dates=[\"created_at\", \"cancelled_at\"])\\\n",
    "                   .drop(\"Unnamed: 0\", axis=1)\n",
    "subs.rename(columns={\"id\":\"subs_id\",\n",
    "                     \"created_at\":\"subs_created_at\",\n",
    "                     \"cancelled_at\":\"subs_cancelled_at\"}, inplace=True)\n",
    "\n",
    "accs = pd.read_csv(\"../input/sasscompanydataset/data/accounts.csv\").drop(\"Unnamed: 0\", axis=1)\n",
    "\n",
    "usrs = pd.read_csv(\"../input/sasscompanydataset/data/users.csv\",\n",
    "                   parse_dates=[\"created_at\"]).drop(\"Unnamed: 0\", axis=1)\n",
    "usrs.rename(columns={\"id\":\"user_id\",\n",
    "                     \"created_at\":\"usrs_created_at\",\n",
    "                     \"state\":\"usrs_state\"}, inplace=True)\n",
    "\n",
    "dvcs = pd.read_csv(\"../input/sasscompanydataset/data/devices.csv\",\n",
    "                   parse_dates=[\"created_at\"]).drop(\"Unnamed: 0\", axis=1)\n",
    "dvcs.rename(columns={\"id\":\"dvcs_id\",\n",
    "                     \"created_at\":\"dvcs_created_at\",\n",
    "                     \"state\":\"dvcs_state\"}, inplace=True)\n"
   ]
  },
  {
   "cell_type": "code",
   "execution_count": 6,
   "id": "5d949655",
   "metadata": {
    "execution": {
     "iopub.execute_input": "2022-04-18T09:07:49.302903Z",
     "iopub.status.busy": "2022-04-18T09:07:49.302222Z",
     "iopub.status.idle": "2022-04-18T09:07:49.328518Z",
     "shell.execute_reply": "2022-04-18T09:07:49.329106Z",
     "shell.execute_reply.started": "2022-04-18T09:03:12.872997Z"
    },
    "papermill": {
     "duration": 0.078364,
     "end_time": "2022-04-18T09:07:49.329299",
     "exception": false,
     "start_time": "2022-04-18T09:07:49.250935",
     "status": "completed"
    },
    "tags": []
   },
   "outputs": [
    {
     "name": "stdout",
     "output_type": "stream",
     "text": [
      "<class 'pandas.core.frame.DataFrame'>\n",
      "RangeIndex: 1924 entries, 0 to 1923\n",
      "Data columns (total 12 columns):\n",
      " #   Column               Non-Null Count  Dtype         \n",
      "---  ------               --------------  -----         \n",
      " 0   subs_id              1924 non-null   object        \n",
      " 1   customer_id          1924 non-null   object        \n",
      " 2   plan                 1924 non-null   object        \n",
      " 3   plan_quantity        1924 non-null   int64         \n",
      " 4   plan_unit_price      1504 non-null   float64       \n",
      " 5   plan_amount          1504 non-null   float64       \n",
      " 6   billing_period       1924 non-null   int64         \n",
      " 7   billing_period_unit  1924 non-null   object        \n",
      " 8   status               1924 non-null   object        \n",
      " 9   subs_created_at      1924 non-null   datetime64[ns]\n",
      " 10  subs_cancelled_at    1053 non-null   datetime64[ns]\n",
      " 11  mrr                  1904 non-null   float64       \n",
      "dtypes: datetime64[ns](2), float64(3), int64(2), object(5)\n",
      "memory usage: 180.5+ KB\n",
      "      subs_id customer_id                plan  plan_quantity  plan_unit_price  \\\n",
      "0  432b3039f9  fcfb0eb83c      empresa-yearly             10            19.44   \n",
      "1  69357f2a75  faf4000b11   individual-yearly              1            54.00   \n",
      "2  f609532873  0193c994c3   individual-yearly              1            54.00   \n",
      "3  84f5f0ca99  8bec648ce3  individual-monthly              1             5.00   \n",
      "4  cc827d512c  0cf4a05adc   individual-yearly              1            54.00   \n",
      "\n",
      "   plan_amount  billing_period billing_period_unit     status  \\\n",
      "0        194.4               1                year     active   \n",
      "1         54.0               1                year     active   \n",
      "2         54.0               1                year     active   \n",
      "3          5.0               1               month  cancelled   \n",
      "4         54.0               1                year  cancelled   \n",
      "\n",
      "      subs_created_at   subs_cancelled_at     mrr  \n",
      "0 2020-11-03 20:01:32                 NaT  1620.0  \n",
      "1 2019-03-21 21:41:13                 NaT   450.0  \n",
      "2 2019-12-01 15:44:50                 NaT   450.0  \n",
      "3 2019-01-21 06:01:34 2019-01-22 17:10:20     0.0  \n",
      "4 2019-05-02 00:16:49 2020-04-27 13:29:02     0.0   \n",
      "\n",
      "None\n"
     ]
    }
   ],
   "source": [
    "print(f\"{subs.head()} \\n\\n{subs.info()}\")\n"
   ]
  },
  {
   "cell_type": "markdown",
   "id": "49be25ae",
   "metadata": {
    "papermill": {
     "duration": 0.049019,
     "end_time": "2022-04-18T09:07:49.428671",
     "exception": false,
     "start_time": "2022-04-18T09:07:49.379652",
     "status": "completed"
    },
    "tags": []
   },
   "source": [
    "### <p style=\"background-color:#535360;font-family:arial;color:#FFF7EF;font-size:250%;text-align:left;border-radius:10px 10px;\">Table SUBS Summary</p>\n",
    "<div class=\"alert alert-info\" role=\"alert\">\n",
    "\n",
    "- Found 420 NaNs in plan_unit_price column. Values filled in by calculating the means of their respective plans associated.\n",
    "\n",
    "- Found 420 NaNs in plan_amount columm. Values filled in by multiplying plan_unit_price x plan_quantity.\n",
    "\n",
    "- Found 871 NaTs in subs_cancelled_at. Values filled in with today's (today = whenever the nb is run) date.\n",
    "\n",
    "- Found 20 NaNs in mrr column. Filled most of them with 0.\n",
    "\n",
    "- Generated barplots and boxplots to see data distribution.\n",
    "</div>\n"
   ]
  },
  {
   "cell_type": "code",
   "execution_count": 7,
   "id": "558b3e17",
   "metadata": {
    "execution": {
     "iopub.execute_input": "2022-04-18T09:07:49.537469Z",
     "iopub.status.busy": "2022-04-18T09:07:49.533774Z",
     "iopub.status.idle": "2022-04-18T09:07:49.541987Z",
     "shell.execute_reply": "2022-04-18T09:07:49.542533Z",
     "shell.execute_reply.started": "2022-04-18T09:03:12.904710Z"
    },
    "papermill": {
     "duration": 0.065325,
     "end_time": "2022-04-18T09:07:49.542704",
     "exception": false,
     "start_time": "2022-04-18T09:07:49.477379",
     "status": "completed"
    },
    "tags": []
   },
   "outputs": [
    {
     "name": "stdout",
     "output_type": "stream",
     "text": [
      "status\n",
      "active             0\n",
      "cancelled       1045\n",
      "future             0\n",
      "in_trial           6\n",
      "non_renewing       2\n",
      "Name: subs_cancelled_at, dtype: int64\n",
      "\n",
      " Groupby result shows distribution of non NaT's in \u001b[1mcancelled_at\u001b[0m column; at the other hand active \u001b[1mstatus\u001b[0m count of \u001b[1m857\u001b[0m and future status count of 11 sum up the remaining amount to complete \u001b[1m1924\u001b[0m observations.\n"
     ]
    }
   ],
   "source": [
    "#Checking NaT's that are not related to active status\n",
    "grp_count = subs.groupby([\"status\"])[\"subs_cancelled_at\"].count()\n",
    "\n",
    "#Checking active and future status\n",
    "act_count = subs.loc[subs[\"status\"] == \"active\"][\"status\"].count()\n",
    "fut_count = subs.loc[subs[\"status\"] == \"future\"][\"status\"].count()\n",
    "\n",
    "print(f\"{grp_count}\\n\\n Groupby result shows distribution of non NaT's in \\\n",
    "\\033[1mcancelled_at\\033[0m column; at the other hand active \\033[1mstatus\\033[0m count of \\\n",
    "\\033[1m{act_count}\\033[0m and future status count of {fut_count} sum up the remaining \\\n",
    "amount to complete \\033[1m1924\\033[0m observations.\")\n"
   ]
  },
  {
   "cell_type": "markdown",
   "id": "45bc2c02",
   "metadata": {
    "papermill": {
     "duration": 0.048954,
     "end_time": "2022-04-18T09:07:49.641700",
     "exception": false,
     "start_time": "2022-04-18T09:07:49.592746",
     "status": "completed"
    },
    "tags": []
   },
   "source": [
    "<div class=\"alert alert-info\" role=\"alert\">\n",
    "Null elements detected in: subscriptions.\n",
    "\n",
    "Null elements in subscriptions table are located at:\n",
    "\n",
    "- plan_unit_price: float type. Null elements most probably can be interpolated by calculating the means of their respective plans.\n",
    "- plan_amount: float type. It seems that plan_amount is calculated as plan_quantity times -- plan_unit_price, so interpolating plan_unit_price should be enough to find null values in this column.\n",
    "- subs_cancelled_at: this values are probably missing because they indicate when a plan has been (or will be) cancelled. From the groupby it is posible to see that Nat's are divided on two categories: active, future. Active status count is 857, so the other 14 NaT's count should be allocated at \"future\" status.\n",
    "- mrr: since it's a calculation it will be calculated as means per similar plans.\n",
    "</div>"
   ]
  },
  {
   "cell_type": "code",
   "execution_count": 8,
   "id": "de2eb3b7",
   "metadata": {
    "execution": {
     "iopub.execute_input": "2022-04-18T09:07:49.748349Z",
     "iopub.status.busy": "2022-04-18T09:07:49.747111Z",
     "iopub.status.idle": "2022-04-18T09:07:49.756102Z",
     "shell.execute_reply": "2022-04-18T09:07:49.756685Z",
     "shell.execute_reply.started": "2022-04-18T09:03:12.920169Z"
    },
    "papermill": {
     "duration": 0.06526,
     "end_time": "2022-04-18T09:07:49.756855",
     "exception": false,
     "start_time": "2022-04-18T09:07:49.691595",
     "status": "completed"
    },
    "tags": []
   },
   "outputs": [
    {
     "name": "stdout",
     "output_type": "stream",
     "text": [
      "plan_count has \u001b[1m17\u001b[0m elements, while notnull_count has \u001b[1m14\u001b[0m elements. There are \u001b[1m3\u001b[0m missing elements\n"
     ]
    }
   ],
   "source": [
    "# counting plan categories\n",
    "plan_count = subs.groupby([\"plan\"])[\"plan_unit_price\"].count()\n",
    "\n",
    "# counting not-null plan_unit_price plan categories\n",
    "notnull = subs[subs[\"plan_unit_price\"].notna()]\n",
    "notnull_count = notnull.groupby(\"plan\")[\"plan_unit_price\"].mean()\n",
    "\n",
    "print(f\"plan_count has \\033[1m{plan_count.count()}\\033[0m elements, while notnull_count \\\n",
    "has \\033[1m{notnull_count.count()}\\033[0m elements. There are \\\n",
    "\\033[1m{abs(plan_count.count() - notnull_count.count())}\\033[0m missing elements\")\n"
   ]
  },
  {
   "cell_type": "code",
   "execution_count": 9,
   "id": "3953ef00",
   "metadata": {
    "execution": {
     "iopub.execute_input": "2022-04-18T09:07:49.859466Z",
     "iopub.status.busy": "2022-04-18T09:07:49.858821Z",
     "iopub.status.idle": "2022-04-18T09:07:49.867782Z",
     "shell.execute_reply": "2022-04-18T09:07:49.868449Z",
     "shell.execute_reply.started": "2022-04-18T09:03:12.943086Z"
    },
    "papermill": {
     "duration": 0.062029,
     "end_time": "2022-04-18T09:07:49.868623",
     "exception": false,
     "start_time": "2022-04-18T09:07:49.806594",
     "status": "completed"
    },
    "tags": []
   },
   "outputs": [
    {
     "name": "stdout",
     "output_type": "stream",
     "text": [
      "Missing categories with plan_unit_price are contained in ['free-yearly', 'regalo-yearly', 'trial-daily']. This should be obvious since no price would be assigned to a free or trial plan.\n",
      "\n",
      "This three categories will have assigned to them the value of 0 to their plan_unit_price\n"
     ]
    }
   ],
   "source": [
    "# checking missing categories\n",
    "l1 = plan_count.reset_index().plan.to_list()\n",
    "l2 = notnull_count.reset_index().plan.to_list()\n",
    "\n",
    "miss_cat = []\n",
    "for l in l1:\n",
    "    if l not in l2:\n",
    "        miss_cat.append(l)\n",
    "\n",
    "print(f\"Missing categories with plan_unit_price are contained in {miss_cat}. This should \\\n",
    "be obvious since no price would be assigned to a free or trial plan.\\n\\nThis three \\\n",
    "categories will have assigned to them the value of 0 to their plan_unit_price\")"
   ]
  },
  {
   "cell_type": "code",
   "execution_count": 10,
   "id": "e5866147",
   "metadata": {
    "execution": {
     "iopub.execute_input": "2022-04-18T09:07:49.973882Z",
     "iopub.status.busy": "2022-04-18T09:07:49.973154Z",
     "iopub.status.idle": "2022-04-18T09:07:49.983161Z",
     "shell.execute_reply": "2022-04-18T09:07:49.983788Z",
     "shell.execute_reply.started": "2022-04-18T09:03:12.957728Z"
    },
    "papermill": {
     "duration": 0.063971,
     "end_time": "2022-04-18T09:07:49.983958",
     "exception": false,
     "start_time": "2022-04-18T09:07:49.919987",
     "status": "completed"
    },
    "tags": []
   },
   "outputs": [
    {
     "data": {
      "text/plain": [
       "{'empresa-monthly': 1.6460000000000001,\n",
       " 'empresa-yearly': 16.802345679012348,\n",
       " 'empresa-yearly-2': 34.85272727272727,\n",
       " 'empresa-yearly-3': 35.695,\n",
       " 'empresa-yearly-4': 46.809285714285714,\n",
       " 'familia-monthly': 15.0,\n",
       " 'familia-yearly': 162.0,\n",
       " 'individual-monthly': 5.0,\n",
       " 'individual-yearly': 54.0,\n",
       " 'nonprofit-monthly': 0.98,\n",
       " 'nonprofit-yearly': 9.865,\n",
       " 'nonprofit-yearly-2': 17.5,\n",
       " 'nonprofit-yearly-3': 21.115000000000002,\n",
       " 'nonprofit-yearly-4': 24.132,\n",
       " 'free-yearly': 0,\n",
       " 'regalo-yearly': 0,\n",
       " 'trial-daily': 0}"
      ]
     },
     "execution_count": 10,
     "metadata": {},
     "output_type": "execute_result"
    }
   ],
   "source": [
    "# Converting non null unit prices to means using plan as grouping criteria\n",
    "# pup: plan unit price\n",
    "mean_pup = notnull.groupby([\"plan\"])[\"plan_unit_price\"].mean()\n",
    "mean_pup = mean_pup.to_dict()\n",
    "\n",
    "# mean_pup onverted to dict to properly use it to map new values in NaN's\n",
    "# will manually add the values for the free categories\n",
    "for miss in miss_cat:\n",
    "    mean_pup[miss] = 0\n",
    "\n",
    "mean_pup\n"
   ]
  },
  {
   "cell_type": "code",
   "execution_count": 11,
   "id": "f3ce58ff",
   "metadata": {
    "execution": {
     "iopub.execute_input": "2022-04-18T09:07:50.088594Z",
     "iopub.status.busy": "2022-04-18T09:07:50.087845Z",
     "iopub.status.idle": "2022-04-18T09:07:50.106913Z",
     "shell.execute_reply": "2022-04-18T09:07:50.107477Z",
     "shell.execute_reply.started": "2022-04-18T09:03:12.977025Z"
    },
    "papermill": {
     "duration": 0.073458,
     "end_time": "2022-04-18T09:07:50.107659",
     "exception": false,
     "start_time": "2022-04-18T09:07:50.034201",
     "status": "completed"
    },
    "tags": []
   },
   "outputs": [
    {
     "name": "stdout",
     "output_type": "stream",
     "text": [
      "<class 'pandas.core.frame.DataFrame'>\n",
      "RangeIndex: 1924 entries, 0 to 1923\n",
      "Data columns (total 12 columns):\n",
      " #   Column               Non-Null Count  Dtype         \n",
      "---  ------               --------------  -----         \n",
      " 0   subs_id              1924 non-null   object        \n",
      " 1   customer_id          1924 non-null   object        \n",
      " 2   plan                 1924 non-null   object        \n",
      " 3   plan_quantity        1924 non-null   int64         \n",
      " 4   plan_unit_price      1924 non-null   float64       \n",
      " 5   plan_amount          1924 non-null   float64       \n",
      " 6   billing_period       1924 non-null   int64         \n",
      " 7   billing_period_unit  1924 non-null   object        \n",
      " 8   status               1924 non-null   object        \n",
      " 9   subs_created_at      1924 non-null   datetime64[ns]\n",
      " 10  subs_cancelled_at    1053 non-null   datetime64[ns]\n",
      " 11  mrr                  1904 non-null   float64       \n",
      "dtypes: datetime64[ns](2), float64(3), int64(2), object(5)\n",
      "memory usage: 180.5+ KB\n",
      "None)\n",
      "\n",
      "The result from .info() method shows a successful fillna process at both\u001b[1m plan_unit_price \u001b[0mand \u001b[1mplan_amount\u001b[0m columns.\n"
     ]
    }
   ],
   "source": [
    "# Mapping dict values into plan_unit_price NaNs\n",
    "subs[\"plan_unit_price\"] = subs.plan_unit_price.fillna(subs.plan.map(mean_pup))\n",
    "\n",
    "# Calculating plan_amount NaNs as: plan_unit_price * plan_quantity\n",
    "subs[\"plan_amount\"] = subs.plan_amount.fillna(\n",
    "    subs.plan_quantity * subs.plan_unit_price)\n",
    "\n",
    "# Rounding to two decimals\n",
    "subs[[\"plan_unit_price\", \"plan_amount\"]] = subs[[\"plan_unit_price\",\n",
    "                                                 \"plan_amount\"]].round(2)\n",
    "\n",
    "print(f\"{subs.info()})\\n\\nThe result from .info() method shows a successful fillna process \\\n",
    "at both\\033[1m plan_unit_price \\033[0mand \\033[1mplan_amount\\033[0m columns.\")\n"
   ]
  },
  {
   "cell_type": "markdown",
   "id": "01f9a9ea",
   "metadata": {
    "papermill": {
     "duration": 0.050453,
     "end_time": "2022-04-18T09:07:50.209217",
     "exception": false,
     "start_time": "2022-04-18T09:07:50.158764",
     "status": "completed"
    },
    "tags": []
   },
   "source": [
    "<div class=\"alert alert-success\" role=\"alert\">\n",
    "\n",
    "As explained before, NaTs values in subs_cancelled_at column will be filled with today's date in order to perform future data examination regarding to subscriptions lasting time.\n",
    "\n",
    "Since datetime will be used to fillna, today's date will always be today's date when the notebook is opened and run.\n",
    "</div>\n"
   ]
  },
  {
   "cell_type": "code",
   "execution_count": 12,
   "id": "dff14496",
   "metadata": {
    "execution": {
     "iopub.execute_input": "2022-04-18T09:07:50.313688Z",
     "iopub.status.busy": "2022-04-18T09:07:50.313051Z",
     "iopub.status.idle": "2022-04-18T09:07:50.327956Z",
     "shell.execute_reply": "2022-04-18T09:07:50.327388Z",
     "shell.execute_reply.started": "2022-04-18T09:03:13.006376Z"
    },
    "papermill": {
     "duration": 0.068095,
     "end_time": "2022-04-18T09:07:50.328127",
     "exception": false,
     "start_time": "2022-04-18T09:07:50.260032",
     "status": "completed"
    },
    "tags": []
   },
   "outputs": [
    {
     "name": "stdout",
     "output_type": "stream",
     "text": [
      "<class 'pandas.core.frame.DataFrame'>\n",
      "RangeIndex: 1924 entries, 0 to 1923\n",
      "Data columns (total 12 columns):\n",
      " #   Column               Non-Null Count  Dtype         \n",
      "---  ------               --------------  -----         \n",
      " 0   subs_id              1924 non-null   object        \n",
      " 1   customer_id          1924 non-null   object        \n",
      " 2   plan                 1924 non-null   object        \n",
      " 3   plan_quantity        1924 non-null   int64         \n",
      " 4   plan_unit_price      1924 non-null   float64       \n",
      " 5   plan_amount          1924 non-null   float64       \n",
      " 6   billing_period       1924 non-null   int64         \n",
      " 7   billing_period_unit  1924 non-null   object        \n",
      " 8   status               1924 non-null   object        \n",
      " 9   subs_created_at      1924 non-null   datetime64[ns]\n",
      " 10  subs_cancelled_at    1924 non-null   datetime64[ns]\n",
      " 11  mrr                  1904 non-null   float64       \n",
      "dtypes: datetime64[ns](2), float64(3), int64(2), object(5)\n",
      "memory usage: 180.5+ KB\n"
     ]
    }
   ],
   "source": [
    "subs[\"subs_cancelled_at\"] = subs.subs_cancelled_at.fillna(pd.to_datetime(\"today\"))\n",
    "subs.info()\n"
   ]
  },
  {
   "cell_type": "code",
   "execution_count": 13,
   "id": "1c8599e1",
   "metadata": {
    "execution": {
     "iopub.execute_input": "2022-04-18T09:07:50.435520Z",
     "iopub.status.busy": "2022-04-18T09:07:50.434868Z",
     "iopub.status.idle": "2022-04-18T09:07:50.450241Z",
     "shell.execute_reply": "2022-04-18T09:07:50.449650Z",
     "shell.execute_reply.started": "2022-04-18T09:03:13.028868Z"
    },
    "papermill": {
     "duration": 0.069136,
     "end_time": "2022-04-18T09:07:50.450389",
     "exception": false,
     "start_time": "2022-04-18T09:07:50.381253",
     "status": "completed"
    },
    "tags": []
   },
   "outputs": [
    {
     "name": "stdout",
     "output_type": "stream",
     "text": [
      "Acoording to mrr_na, there are 19 NaNs associated to trial-daily plans, and 1 associated to a nonprofit-yearly-4 plan.\n",
      "\n",
      "From the looks of mrr_trialdaily, these NaN values will be filled with 0 and for the case of the missing nonprofit-yearly-4 plan it will filled using plan_amount times [1.79] which is the mean of the mrrplan_amount ratio for that plan\n"
     ]
    }
   ],
   "source": [
    "# subset shows that mrr NaNs are mainly composed of \"trial-daily\" plans\n",
    "mrr_na = subs[subs[\"mrr\"].isna()].groupby(\"plan\")[\"subs_created_at\"].count()\n",
    "\n",
    "# Trying to figure out a way to determine mrr for the missing value\n",
    "subs[\"ratio\"] = subs[\"mrr\"] / subs[\"plan_amount\"]\n",
    "\n",
    "mrr_nonprofit = subs[subs[\"plan\"] == \"nonprofit-yearly-4\"][[\"plan\", \"mrr\",\n",
    "                                                            \"ratio\"]]\n",
    "mrr_trialdaily = subs[subs[\"plan\"] == \"trial-daily\"][[\"mrr\", \"ratio\"]]\n",
    "\n",
    "nnprft_mrrmean = mrr_nonprofit.groupby([\"plan\"])[\"ratio\"].mean()\n",
    "nnprft_mrrmean = nnprft_mrrmean.values.round(2)\n",
    "\n",
    "print(f\"Acoording to mrr_na, there are {mrr_na[1]} NaNs associated to trial-daily plans, \\\n",
    "and {mrr_na[0]} associated to a nonprofit-yearly-4 plan.\\n\\nFrom the looks of \\\n",
    "mrr_trialdaily, these NaN values will be filled with 0 and for the case of the missing \\\n",
    "nonprofit-yearly-4 plan it will filled using plan_amount times {nnprft_mrrmean} which is \\\n",
    "the mean of the mrrplan_amount ratio for that plan\")\n"
   ]
  },
  {
   "cell_type": "code",
   "execution_count": 14,
   "id": "067e33fc",
   "metadata": {
    "execution": {
     "iopub.execute_input": "2022-04-18T09:07:50.556159Z",
     "iopub.status.busy": "2022-04-18T09:07:50.555544Z",
     "iopub.status.idle": "2022-04-18T09:07:50.577165Z",
     "shell.execute_reply": "2022-04-18T09:07:50.577884Z",
     "shell.execute_reply.started": "2022-04-18T09:03:13.047978Z"
    },
    "papermill": {
     "duration": 0.076446,
     "end_time": "2022-04-18T09:07:50.578139",
     "exception": false,
     "start_time": "2022-04-18T09:07:50.501693",
     "status": "completed"
    },
    "tags": []
   },
   "outputs": [
    {
     "name": "stdout",
     "output_type": "stream",
     "text": [
      "<class 'pandas.core.frame.DataFrame'>\n",
      "RangeIndex: 1924 entries, 0 to 1923\n",
      "Data columns (total 13 columns):\n",
      " #   Column               Non-Null Count  Dtype         \n",
      "---  ------               --------------  -----         \n",
      " 0   subs_id              1924 non-null   object        \n",
      " 1   customer_id          1924 non-null   object        \n",
      " 2   plan                 1924 non-null   object        \n",
      " 3   plan_quantity        1924 non-null   int64         \n",
      " 4   plan_unit_price      1924 non-null   float64       \n",
      " 5   plan_amount          1924 non-null   float64       \n",
      " 6   billing_period       1924 non-null   int64         \n",
      " 7   billing_period_unit  1924 non-null   object        \n",
      " 8   status               1924 non-null   object        \n",
      " 9   subs_created_at      1924 non-null   datetime64[ns]\n",
      " 10  subs_cancelled_at    1924 non-null   datetime64[ns]\n",
      " 11  mrr                  1924 non-null   int64         \n",
      " 12  ratio                1504 non-null   float64       \n",
      "dtypes: datetime64[ns](2), float64(3), int64(3), object(5)\n",
      "memory usage: 195.5+ KB\n"
     ]
    }
   ],
   "source": [
    "# dict for mrr filling NaNs\n",
    "mrr_dict = {'trial-daily': 0, 'nonprofit-yearly-4': nnprft_mrrmean}\n",
    "\n",
    "# mapping dict values\n",
    "subs[\"mrr\"] = subs.mrr.fillna(subs.plan.map(mrr_dict) * subs.plan_amount)\n",
    "\n",
    "# checking current state of DF\n",
    "subs[subs[\"plan\"] == \"nonprofit-yearly-4\"][[\"plan\", \"mrr\", \"ratio\"]]\n",
    "\n",
    "# converting subs.mrr into int type\n",
    "subs[\"mrr\"] = subs.mrr.astype(\"int\")\n",
    "subs.info()\n"
   ]
  },
  {
   "cell_type": "code",
   "execution_count": 15,
   "id": "d63b1dc7",
   "metadata": {
    "execution": {
     "iopub.execute_input": "2022-04-18T09:07:50.685957Z",
     "iopub.status.busy": "2022-04-18T09:07:50.685301Z",
     "iopub.status.idle": "2022-04-18T09:07:50.689634Z",
     "shell.execute_reply": "2022-04-18T09:07:50.690115Z",
     "shell.execute_reply.started": "2022-04-18T09:03:13.074901Z"
    },
    "papermill": {
     "duration": 0.059573,
     "end_time": "2022-04-18T09:07:50.690302",
     "exception": false,
     "start_time": "2022-04-18T09:07:50.630729",
     "status": "completed"
    },
    "tags": []
   },
   "outputs": [],
   "source": [
    "# creating timedelta object for duration of plans\n",
    "subs[\"subs_duration\"] = subs.subs_cancelled_at - subs.subs_created_at\n"
   ]
  },
  {
   "cell_type": "markdown",
   "id": "2d36a4f8",
   "metadata": {
    "papermill": {
     "duration": 0.052222,
     "end_time": "2022-04-18T09:07:50.794142",
     "exception": false,
     "start_time": "2022-04-18T09:07:50.741920",
     "status": "completed"
    },
    "tags": []
   },
   "source": [
    "### <p style=\"background-color:#535360;font-family:arial;color:#FFF7EF;font-size:250%;text-align:left;border-radius:10px 10px;\">Plans Distribution Plots</p>\n"
   ]
  },
  {
   "cell_type": "code",
   "execution_count": 16,
   "id": "f3d40daa",
   "metadata": {
    "execution": {
     "iopub.execute_input": "2022-04-18T09:07:50.901711Z",
     "iopub.status.busy": "2022-04-18T09:07:50.901032Z",
     "iopub.status.idle": "2022-04-18T09:07:50.905830Z",
     "shell.execute_reply": "2022-04-18T09:07:50.906342Z",
     "shell.execute_reply.started": "2022-04-18T09:03:13.083952Z"
    },
    "papermill": {
     "duration": 0.059844,
     "end_time": "2022-04-18T09:07:50.906513",
     "exception": false,
     "start_time": "2022-04-18T09:07:50.846669",
     "status": "completed"
    },
    "tags": []
   },
   "outputs": [
    {
     "data": {
      "text/plain": [
       "['Solarize_Light2',\n",
       " '_classic_test_patch',\n",
       " '_mpl-gallery',\n",
       " '_mpl-gallery-nogrid',\n",
       " 'bmh',\n",
       " 'classic',\n",
       " 'dark_background',\n",
       " 'fast',\n",
       " 'fivethirtyeight',\n",
       " 'ggplot',\n",
       " 'grayscale',\n",
       " 'seaborn',\n",
       " 'seaborn-bright',\n",
       " 'seaborn-colorblind',\n",
       " 'seaborn-dark',\n",
       " 'seaborn-dark-palette',\n",
       " 'seaborn-darkgrid',\n",
       " 'seaborn-deep',\n",
       " 'seaborn-muted',\n",
       " 'seaborn-notebook',\n",
       " 'seaborn-paper',\n",
       " 'seaborn-pastel',\n",
       " 'seaborn-poster',\n",
       " 'seaborn-talk',\n",
       " 'seaborn-ticks',\n",
       " 'seaborn-white',\n",
       " 'seaborn-whitegrid',\n",
       " 'tableau-colorblind10']"
      ]
     },
     "execution_count": 16,
     "metadata": {},
     "output_type": "execute_result"
    }
   ],
   "source": [
    "plt.style.available"
   ]
  },
  {
   "cell_type": "code",
   "execution_count": 17,
   "id": "ac66d2f3",
   "metadata": {
    "execution": {
     "iopub.execute_input": "2022-04-18T09:07:51.016634Z",
     "iopub.status.busy": "2022-04-18T09:07:51.015617Z",
     "iopub.status.idle": "2022-04-18T09:07:51.030551Z",
     "shell.execute_reply": "2022-04-18T09:07:51.031282Z",
     "shell.execute_reply.started": "2022-04-18T09:03:13.104908Z"
    },
    "papermill": {
     "duration": 0.071857,
     "end_time": "2022-04-18T09:07:51.031478",
     "exception": false,
     "start_time": "2022-04-18T09:07:50.959621",
     "status": "completed"
    },
    "tags": []
   },
   "outputs": [],
   "source": [
    "# styling the graphs\n",
    "plt.style.use(\"seaborn-poster\")\n",
    "\n",
    "# going for barplot vs accumulated curve.\n",
    "series_plan = subs.groupby([\"plan\"])[\"plan_quantity\"].sum().sort_values(\n",
    "    ascending=False)\n",
    "\n",
    "# Creating columns to reflect cumulative values\n",
    "plan_df = pd.DataFrame(series_plan).reset_index()\n",
    "plan_df[\"values_norm\"] = plan_df.plan_quantity / plan_df.plan_quantity.sum()\n",
    "plan_df[\"cumulative\"] = plan_df.values_norm.cumsum()\n",
    "plan_df[\"perc_cumulative\"] = plan_df.cumulative / plan_df.cumulative.max()\n",
    "plan_df[\"perc_cum_label\"] = plan_df.apply(\n",
    "    lambda x: str(round(x.perc_cumulative, 2)), axis=1)\n"
   ]
  },
  {
   "cell_type": "code",
   "execution_count": 18,
   "id": "d3dd8b9a",
   "metadata": {
    "execution": {
     "iopub.execute_input": "2022-04-18T09:07:51.140742Z",
     "iopub.status.busy": "2022-04-18T09:07:51.139758Z",
     "iopub.status.idle": "2022-04-18T09:07:52.243892Z",
     "shell.execute_reply": "2022-04-18T09:07:52.244421Z",
     "shell.execute_reply.started": "2022-04-18T09:03:13.124609Z"
    },
    "papermill": {
     "duration": 1.160144,
     "end_time": "2022-04-18T09:07:52.244594",
     "exception": false,
     "start_time": "2022-04-18T09:07:51.084450",
     "status": "completed"
    },
    "tags": []
   },
   "outputs": [
    {
     "data": {
      "image/png": "[encoded data removed]",
      "text/plain": [
       "<Figure size 921.6x633.6 with 1 Axes>"
      ]
     },
     "metadata": {
      "needs_background": "light"
     },
     "output_type": "display_data"
    }
   ],
   "source": [
    "# generating figure and twin axes\n",
    "plt.figure()\n",
    "host = host_subplot(111)\n",
    "par = host.twinx()\n",
    "\n",
    "# we plot the bars (use host. instead of plt.)\n",
    "x = np.array(plan_df['plan'])\n",
    "y = np.array(plan_df['values_norm'])\n",
    "p1 = host.bar(x, y)\n",
    "\n",
    "# changing color for free plans\n",
    "p1.patches[0].set_color(\"#fcb900\")\n",
    "p1.patches[2].set_color(\"#fcb900\")\n",
    "p1.patches[16].set_color(\"#fcb900\")\n",
    "\n",
    "# plotting the curve (use par. instead of plt.)\n",
    "x = list(range(len(x)))\n",
    "y = list(plan_df['perc_cumulative'])\n",
    "\n",
    "p2 = par.plot(x, y, color=\"#9b51e0\",marker='o')\n",
    "\n",
    "# plotting the values from the cumulative curve on top of it\n",
    "y_labels = list(plan_df['perc_cum_label'])\n",
    "for i,j in zip(x,y):\n",
    "    inplot = par.annotate(str(y_labels[i]), xy=(i-0.1,j+0.05), fontsize=12,\n",
    "                          color='seagreen')\n",
    "\n",
    "   \n",
    "# some final tweaking in title, axis and labels\n",
    "par.axis(ymin=0, ymax=1.1)\n",
    "plt.title('Plan Quantity and Cumulative Curve', fontsize=20, pad=18)\n",
    "host.set_xlabel('Plans', size=15, labelpad=18)\n",
    "host.set_ylabel('Plans normed quantities', size=15, labelpad=18)\n",
    "par.set_ylabel('Plans cumulative curve', size=15, labelpad=18)\n",
    "host.tick_params(axis='x', labelsize = 14, labelrotation=-90)\n",
    "\n",
    "# saving files to dir\n",
    "plt.savefig(f\"Plan_quantity_cumulative_curve.png\",\n",
    "            bbox_inches = 'tight')\n",
    "plt.show()\n"
   ]
  },
  {
   "cell_type": "markdown",
   "id": "390aa666",
   "metadata": {
    "papermill": {
     "duration": 0.054367,
     "end_time": "2022-04-18T09:07:52.353723",
     "exception": false,
     "start_time": "2022-04-18T09:07:52.299356",
     "status": "completed"
    },
    "tags": []
   },
   "source": [
    "<div class=\"alert alert-warning\" role=\"alert\">From the barplot, it's pretty clear that trial-daily has about 33% of plan quantity and if paired with free-yearly and regalo-yearly they would up to almost 50%.\n",
    "Lets check out fowithout free plans accounts.\n",
    "</div>"
   ]
  },
  {
   "cell_type": "code",
   "execution_count": 19,
   "id": "df8ececd",
   "metadata": {
    "execution": {
     "iopub.execute_input": "2022-04-18T09:07:52.478254Z",
     "iopub.status.busy": "2022-04-18T09:07:52.477136Z",
     "iopub.status.idle": "2022-04-18T09:07:52.486923Z",
     "shell.execute_reply": "2022-04-18T09:07:52.487476Z",
     "shell.execute_reply.started": "2022-04-18T09:03:14.199210Z"
    },
    "papermill": {
     "duration": 0.071989,
     "end_time": "2022-04-18T09:07:52.487650",
     "exception": false,
     "start_time": "2022-04-18T09:07:52.415661",
     "status": "completed"
    },
    "tags": []
   },
   "outputs": [],
   "source": [
    "# Creating columns to reflect cumulative values (having removed free plans)\n",
    "plan_nofree = pd.DataFrame(series_plan).reset_index()\n",
    "plan_nofree = plan_nofree.drop([0, 2, 16]).reset_index()\n",
    "plan_nofree = plan_nofree.drop(\"index\", axis=1)\n",
    "plan_nofree[\"values_norm\"] = plan_nofree.plan_quantity / \\\n",
    "    plan_nofree.plan_quantity.sum()\n",
    "plan_nofree[\"cumulative\"] = plan_nofree.values_norm.cumsum()\n",
    "plan_nofree[\"perc_cumulative\"] = plan_nofree.cumulative / \\\n",
    "    plan_nofree.cumulative.max()\n",
    "plan_nofree[\"perc_cum_label\"] = plan_nofree.apply(\n",
    "    lambda x: str(round(x.perc_cumulative, 2)), axis=1)\n"
   ]
  },
  {
   "cell_type": "code",
   "execution_count": 20,
   "id": "aee0a735",
   "metadata": {
    "execution": {
     "iopub.execute_input": "2022-04-18T09:07:52.599732Z",
     "iopub.status.busy": "2022-04-18T09:07:52.598700Z",
     "iopub.status.idle": "2022-04-18T09:07:53.334858Z",
     "shell.execute_reply": "2022-04-18T09:07:53.334203Z",
     "shell.execute_reply.started": "2022-04-18T09:03:14.219033Z"
    },
    "papermill": {
     "duration": 0.793179,
     "end_time": "2022-04-18T09:07:53.334999",
     "exception": false,
     "start_time": "2022-04-18T09:07:52.541820",
     "status": "completed"
    },
    "tags": []
   },
   "outputs": [
    {
     "data": {
      "image/png": "[encoded data removed]",
      "text/plain": [
       "<Figure size 1152x576 with 1 Axes>"
      ]
     },
     "metadata": {
      "needs_background": "light"
     },
     "output_type": "display_data"
    }
   ],
   "source": [
    "# generating figure and twin axes\n",
    "plt.figure(figsize=(16, 8))\n",
    "host = host_subplot(111)\n",
    "par = host.twinx()\n",
    "\n",
    "# we plot the bars (use host. instead of plt.)\n",
    "x = np.array(plan_nofree['plan'])\n",
    "y = np.array(plan_nofree['values_norm'])\n",
    "p1 = host.bar(x, y)\n",
    "\n",
    "# changing color for largest plans\n",
    "for i in range(4):\n",
    "    p1.patches[i].set_color(\"#fcb900\")\n",
    "\n",
    "# plotting the curve (use par. instead of plt.)\n",
    "x = list(range(len(x)))\n",
    "y = list(plan_nofree['perc_cumulative'])\n",
    "p2 = par.plot(x, y, color=\"#9b51e0\",marker='o')\n",
    "\n",
    "# plotting the values from the cumulative curve on top of it\n",
    "y_labels = list(plan_nofree['perc_cum_label'])\n",
    "for i,j in zip(x,y):\n",
    "    inplot = par.annotate(str(y_labels[i]), xy=(i-0.1,j+0.05), fontsize=12,\n",
    "                          color='seagreen')\n",
    "    \n",
    "# some final tweaking in title, axis and labels\n",
    "par.axis(ymin=0, ymax=1.1)\n",
    "plt.title('Paid Plans Quantity and Cumulative Curve', fontsize=20)\n",
    "host.set_xlabel('Paid Plans', size=15, labelpad=18)\n",
    "host.set_ylabel('Paid Plans normed quantities', size=15, labelpad=18)\n",
    "par.set_ylabel('Paid Plans cumulative curve', size=15, labelpad=18)\n",
    "host.tick_params(axis=\"x\", labelsize = 14, labelrotation=-90)\n",
    "\n",
    "# saving files to dir\n",
    "plt.savefig(f\"Paid_Plans_quantity_cumulative_curve.png\",\n",
    "            bbox_inches = 'tight')\n",
    "plt.show()"
   ]
  },
  {
   "cell_type": "code",
   "execution_count": 21,
   "id": "3fe65268",
   "metadata": {
    "execution": {
     "iopub.execute_input": "2022-04-18T09:07:53.452126Z",
     "iopub.status.busy": "2022-04-18T09:07:53.451140Z",
     "iopub.status.idle": "2022-04-18T09:07:53.495254Z",
     "shell.execute_reply": "2022-04-18T09:07:53.494548Z",
     "shell.execute_reply.started": "2022-04-18T09:03:14.998666Z"
    },
    "papermill": {
     "duration": 0.103723,
     "end_time": "2022-04-18T09:07:53.495403",
     "exception": false,
     "start_time": "2022-04-18T09:07:53.391680",
     "status": "completed"
    },
    "tags": []
   },
   "outputs": [
    {
     "data": {
      "text/html": [
       "<div>\n",
       "<style scoped>\n",
       "    .dataframe tbody tr th:only-of-type {\n",
       "        vertical-align: middle;\n",
       "    }\n",
       "\n",
       "    .dataframe tbody tr th {\n",
       "        vertical-align: top;\n",
       "    }\n",
       "\n",
       "    .dataframe thead th {\n",
       "        text-align: right;\n",
       "    }\n",
       "</style>\n",
       "<table border=\"1\" class=\"dataframe\">\n",
       "  <thead>\n",
       "    <tr style=\"text-align: right;\">\n",
       "      <th></th>\n",
       "      <th>plan</th>\n",
       "      <th>status</th>\n",
       "      <th>plan_quantity</th>\n",
       "    </tr>\n",
       "  </thead>\n",
       "  <tbody>\n",
       "    <tr>\n",
       "      <th>0</th>\n",
       "      <td>empresa-monthly</td>\n",
       "      <td>active</td>\n",
       "      <td>2593</td>\n",
       "    </tr>\n",
       "    <tr>\n",
       "      <th>1</th>\n",
       "      <td>empresa-monthly</td>\n",
       "      <td>cancelled</td>\n",
       "      <td>0</td>\n",
       "    </tr>\n",
       "    <tr>\n",
       "      <th>2</th>\n",
       "      <td>empresa-yearly</td>\n",
       "      <td>active</td>\n",
       "      <td>5062</td>\n",
       "    </tr>\n",
       "    <tr>\n",
       "      <th>3</th>\n",
       "      <td>empresa-yearly</td>\n",
       "      <td>cancelled</td>\n",
       "      <td>1371</td>\n",
       "    </tr>\n",
       "    <tr>\n",
       "      <th>4</th>\n",
       "      <td>nonprofit-yearly</td>\n",
       "      <td>active</td>\n",
       "      <td>11827</td>\n",
       "    </tr>\n",
       "    <tr>\n",
       "      <th>5</th>\n",
       "      <td>nonprofit-yearly</td>\n",
       "      <td>cancelled</td>\n",
       "      <td>3576</td>\n",
       "    </tr>\n",
       "    <tr>\n",
       "      <th>6</th>\n",
       "      <td>nonprofit-yearly-4</td>\n",
       "      <td>active</td>\n",
       "      <td>3469</td>\n",
       "    </tr>\n",
       "    <tr>\n",
       "      <th>7</th>\n",
       "      <td>nonprofit-yearly-4</td>\n",
       "      <td>cancelled</td>\n",
       "      <td>0</td>\n",
       "    </tr>\n",
       "  </tbody>\n",
       "</table>\n",
       "</div>"
      ],
      "text/plain": [
       "                 plan     status  plan_quantity\n",
       "0     empresa-monthly     active           2593\n",
       "1     empresa-monthly  cancelled              0\n",
       "2      empresa-yearly     active           5062\n",
       "3      empresa-yearly  cancelled           1371\n",
       "4    nonprofit-yearly     active          11827\n",
       "5    nonprofit-yearly  cancelled           3576\n",
       "6  nonprofit-yearly-4     active           3469\n",
       "7  nonprofit-yearly-4  cancelled              0"
      ]
     },
     "execution_count": 21,
     "metadata": {},
     "output_type": "execute_result"
    }
   ],
   "source": [
    "series_plan = subs.groupby([\"plan\", \"status\"])[\"plan_quantity\"].sum().\\\n",
    "    sort_values(ascending=False)\n",
    "\n",
    "free_plans = [\"trial-daily\", \"free-yearly\", \"regalo-yearly\"]\n",
    "\n",
    "# Creating new DF\n",
    "plan_df = pd.DataFrame(series_plan).reset_index()\n",
    "\n",
    "# Dropping free plans\n",
    "for free in free_plans:\n",
    "    plan_df = plan_df[plan_df.plan != free]\n",
    "\n",
    "# Creating columns to reflect cumulative values\n",
    "plan_df[\"values_norm\"] = plan_df.plan_quantity / plan_df.plan_quantity.sum()\n",
    "plan_df[\"cumulative\"] = plan_df.values_norm.cumsum()\n",
    "plan_df[\"perc_cumulative\"] = plan_df.cumulative / plan_df.cumulative.max()\n",
    "plan_df[\"perc_cum_label\"] = plan_df.apply(\n",
    "      lambda x: str(round(x.perc_cumulative * 100, 1)) + \"%\", axis=1)\n",
    "\n",
    "#Dropping plans past 0.86 cumulative\n",
    "top85 = plan_df[plan_df[\"cumulative\"] <= 0.86]\n",
    "top85[[\"plan\", \"status\"]] = top85[[\"plan\", \"status\"]].astype(\"category\")\n",
    "top85 = top85.groupby([\"plan\", \"status\"])[\"plan_quantity\"].sum().fillna(0)\n",
    "top85 = pd.DataFrame(top85).reset_index()\n",
    "\n",
    "top85\n"
   ]
  },
  {
   "cell_type": "code",
   "execution_count": 22,
   "id": "96829b11",
   "metadata": {
    "execution": {
     "iopub.execute_input": "2022-04-18T09:07:53.615285Z",
     "iopub.status.busy": "2022-04-18T09:07:53.614597Z",
     "iopub.status.idle": "2022-04-18T09:07:53.864182Z",
     "shell.execute_reply": "2022-04-18T09:07:53.864859Z",
     "shell.execute_reply.started": "2022-04-18T09:03:15.051023Z"
    },
    "papermill": {
     "duration": 0.312542,
     "end_time": "2022-04-18T09:07:53.865071",
     "exception": false,
     "start_time": "2022-04-18T09:07:53.552529",
     "status": "completed"
    },
    "tags": []
   },
   "outputs": [
    {
     "data": {
      "image/png": "[encoded data removed]",
      "text/plain": [
       "<Figure size 864x432 with 1 Axes>"
      ]
     },
     "metadata": {
      "needs_background": "light"
     },
     "output_type": "display_data"
    }
   ],
   "source": [
    "labels = top85.plan.unique().tolist()\n",
    "\n",
    "active = top85[\"plan_quantity\"][top85[\"status\"] == \"active\"].to_list()\n",
    "cancelled = top85[\"plan_quantity\"][top85[\"status\"] == \"cancelled\"].to_list()\n",
    "\n",
    "# plotting the stacked histogram\n",
    "fig, ax = plt.subplots(figsize=(12,6))\n",
    "\n",
    "ax.bar(labels, active, width=0.35, label='Active')\n",
    "ax.bar(labels, cancelled, width=0.35, bottom=active, label='Cancelled')\n",
    "\n",
    "ax.set_ylabel('Plan quantity', fontsize=15, labelpad=18)\n",
    "ax.set_xlabel('Plans', fontsize=15, labelpad=18)\n",
    "ax.set_title('Plan subscriptions by plans and status', fontsize=20)\n",
    "ax.tick_params(axis=\"x\", labelsize = 14, labelrotation=-90)\n",
    "ax.legend(fontsize=15)\n",
    "\n",
    "plt.show()\n"
   ]
  },
  {
   "cell_type": "code",
   "execution_count": 23,
   "id": "4a62e8d1",
   "metadata": {
    "execution": {
     "iopub.execute_input": "2022-04-18T09:07:53.986790Z",
     "iopub.status.busy": "2022-04-18T09:07:53.985776Z",
     "iopub.status.idle": "2022-04-18T09:07:55.282981Z",
     "shell.execute_reply": "2022-04-18T09:07:55.282315Z",
     "shell.execute_reply.started": "2022-04-18T09:03:15.312876Z"
    },
    "papermill": {
     "duration": 1.358637,
     "end_time": "2022-04-18T09:07:55.283150",
     "exception": false,
     "start_time": "2022-04-18T09:07:53.924513",
     "status": "completed"
    },
    "tags": []
   },
   "outputs": [
    {
     "data": {
      "image/png": "[encoded data removed]",
      "text/plain": [
       "<Figure size 1728x576 with 2 Axes>"
      ]
     },
     "metadata": {
      "needs_background": "light"
     },
     "output_type": "display_data"
    }
   ],
   "source": [
    "# Removing free plans of this calculation\n",
    "boxplot_df = subs[subs.plan_unit_price != 0]\n",
    "\n",
    "# setting up boxplot\n",
    "fig, axs = plt.subplots(1, 2, figsize=(24,8))\n",
    "\n",
    "sns.boxplot(x=\"plan\", y=\"plan_unit_price\", data=boxplot_df, ax=axs[0])\n",
    "axs[0].tick_params(axis='x', labelsize = 14, labelrotation=-90)\n",
    "axs[0].set_title('Plan vs Plan Unit Price', fontsize=20)\n",
    "axs[0].set_xlabel(\"Plan\", size=15, labelpad=18)\n",
    "axs[0].set_ylabel(\"Plan Unit Price\", size=15, labelpad=18)\n",
    "\n",
    "sns.boxplot(x=\"plan\", y=\"plan_amount\", data=boxplot_df, ax=axs[1])\n",
    "axs[1].tick_params(axis='x', labelsize = 14, labelrotation=-90)\n",
    "axs[1].set_title('Plan amount vs Plan', fontsize=20)\n",
    "axs[1].set_xlabel(\"Plan\", size=15, labelpad=18)\n",
    "axs[1].set_ylabel(\"Plan Amount\", size=15, labelpad=18)\n",
    "\n",
    "# saving files to dir\n",
    "plt.savefig(f\"Plan_boxplots_1.png\", bbox_inches = 'tight')\n",
    "plt.show()"
   ]
  },
  {
   "cell_type": "code",
   "execution_count": 24,
   "id": "43965b19",
   "metadata": {
    "execution": {
     "iopub.execute_input": "2022-04-18T09:07:55.409670Z",
     "iopub.status.busy": "2022-04-18T09:07:55.408913Z",
     "iopub.status.idle": "2022-04-18T09:07:56.247823Z",
     "shell.execute_reply": "2022-04-18T09:07:56.248289Z",
     "shell.execute_reply.started": "2022-04-18T09:03:16.647067Z"
    },
    "papermill": {
     "duration": 0.902708,
     "end_time": "2022-04-18T09:07:56.248462",
     "exception": false,
     "start_time": "2022-04-18T09:07:55.345754",
     "status": "completed"
    },
    "tags": []
   },
   "outputs": [
    {
     "data": {
      "image/png": "[encoded data removed]",
      "text/plain": [
       "<Figure size 1728x576 with 2 Axes>"
      ]
     },
     "metadata": {
      "needs_background": "light"
     },
     "output_type": "display_data"
    }
   ],
   "source": [
    "# Removing free plans of this calculation\n",
    "boxplot_df2 = subs[subs.plan_unit_price != 0]\n",
    "\n",
    "# removing plans with low variance\n",
    "low_var = [\"individual-yearly\", \"individual-monthly\", \"familia-monthly\",\n",
    "           \"empresa-monthly\", \"familia-yearly\", \"nonprofit-monthly\",\n",
    "           \"nonprofit-yearly-3\"]\n",
    "\n",
    "for plan in low_var:\n",
    "    boxplot_df2 = boxplot_df2[boxplot_df2.plan != plan]\n",
    "\n",
    "# setting up boxplot\n",
    "fig, axs = plt.subplots(1, 2, figsize=(24,8))\n",
    "\n",
    "sns.boxplot(x=\"plan\", y=\"plan_unit_price\", data=boxplot_df2, ax=axs[0])\n",
    "axs[0].tick_params(axis='x', labelsize = 14, labelrotation=-90)\n",
    "axs[0].set_title('Plan vs Plan Unit Price', fontsize=20)\n",
    "axs[0].set_xlabel(\"Plan\", size=15, labelpad=18)\n",
    "axs[0].set_ylabel(\"Plan Unit Price\", size=15, labelpad=18)\n",
    "\n",
    "sns.boxplot(x=\"plan\", y=\"plan_amount\", data=boxplot_df2, ax=axs[1])\n",
    "axs[1].tick_params(axis='x', labelsize = 14, labelrotation=-90)\n",
    "axs[1].set_title('Plan amount vs Plan', fontsize=20)\n",
    "axs[1].set_xlabel(\"Plan\", size=15, labelpad=18)\n",
    "axs[1].set_ylabel(\"Plan Amount\", size=15, labelpad=18)\n",
    "\n",
    "# saving files to dir\n",
    "plt.savefig(f\"Plan_boxplots_2.png\", bbox_inches = 'tight')\n",
    "plt.show()\n"
   ]
  },
  {
   "cell_type": "code",
   "execution_count": 25,
   "id": "96898bd5",
   "metadata": {
    "execution": {
     "iopub.execute_input": "2022-04-18T09:07:56.375918Z",
     "iopub.status.busy": "2022-04-18T09:07:56.374890Z",
     "iopub.status.idle": "2022-04-18T09:07:56.893685Z",
     "shell.execute_reply": "2022-04-18T09:07:56.894210Z",
     "shell.execute_reply.started": "2022-04-18T09:03:17.565141Z"
    },
    "papermill": {
     "duration": 0.583518,
     "end_time": "2022-04-18T09:07:56.894395",
     "exception": false,
     "start_time": "2022-04-18T09:07:56.310877",
     "status": "completed"
    },
    "tags": []
   },
   "outputs": [
    {
     "data": {
      "image/png": "[encoded data removed]",
      "text/plain": [
       "<Figure size 921.6x633.6 with 1 Axes>"
      ]
     },
     "metadata": {
      "needs_background": "light"
     },
     "output_type": "display_data"
    }
   ],
   "source": [
    "# setting up boxplot for plan duration in days\n",
    "boxplot_df3 = boxplot_df2\n",
    "boxplot_df3[\"subs_duration\"] = boxplot_df3.subs_duration.dt.days\n",
    "fig = plt.figure()\n",
    "ax = fig.gca()\n",
    "\n",
    "sns.boxplot(x=\"plan\", y=\"subs_duration\", data=boxplot_df3, ax=ax)\n",
    "ax.tick_params(axis='x', labelsize = 14, labelrotation=-90)\n",
    "ax.set_title('Plan vs Duration in days', fontsize=20)\n",
    "ax.set_xlabel(\"Plan\", size=15, labelpad=18)\n",
    "ax.set_ylabel(\"Duration\", size=15, labelpad=18)\n",
    "\n",
    "# saving file to dir\n",
    "plt.savefig(f\"Plan_boxplots_3.png\", bbox_inches = 'tight')\n",
    "plt.show()\n"
   ]
  },
  {
   "cell_type": "code",
   "execution_count": 26,
   "id": "e2264f58",
   "metadata": {
    "execution": {
     "iopub.execute_input": "2022-04-18T09:07:57.024520Z",
     "iopub.status.busy": "2022-04-18T09:07:57.023506Z",
     "iopub.status.idle": "2022-04-18T09:07:57.033723Z",
     "shell.execute_reply": "2022-04-18T09:07:57.034229Z",
     "shell.execute_reply.started": "2022-04-18T09:03:18.091148Z"
    },
    "papermill": {
     "duration": 0.076845,
     "end_time": "2022-04-18T09:07:57.034406",
     "exception": false,
     "start_time": "2022-04-18T09:07:56.957561",
     "status": "completed"
    },
    "tags": []
   },
   "outputs": [
    {
     "data": {
      "text/plain": [
       "plan\n",
       "empresa-monthly         7\n",
       "empresa-yearly         20\n",
       "empresa-yearly-2        1\n",
       "empresa-yearly-3        2\n",
       "familia-monthly        93\n",
       "familia-yearly         39\n",
       "free-yearly            37\n",
       "individual-monthly    530\n",
       "individual-yearly      78\n",
       "nonprofit-monthly       2\n",
       "nonprofit-yearly       11\n",
       "nonprofit-yearly-4      2\n",
       "trial-daily           225\n",
       "Name: customer_id, dtype: int64"
      ]
     },
     "execution_count": 26,
     "metadata": {},
     "output_type": "execute_result"
    }
   ],
   "source": [
    "# subsetting \"cancelled\" and \"non_renewing\" subscriptions\n",
    "cancelled = subs[subs[\"status\"].isin([\"cancelled\", \"non_renewing\"])]\n",
    "cancelled.groupby([\"plan\"])[\"customer_id\"].count()\n"
   ]
  },
  {
   "cell_type": "code",
   "execution_count": 27,
   "id": "b2a0fe26",
   "metadata": {
    "execution": {
     "iopub.execute_input": "2022-04-18T09:07:57.167222Z",
     "iopub.status.busy": "2022-04-18T09:07:57.164151Z",
     "iopub.status.idle": "2022-04-18T09:07:57.172424Z",
     "shell.execute_reply": "2022-04-18T09:07:57.172922Z",
     "shell.execute_reply.started": "2022-04-18T09:03:18.108210Z"
    },
    "papermill": {
     "duration": 0.075633,
     "end_time": "2022-04-18T09:07:57.173106",
     "exception": false,
     "start_time": "2022-04-18T09:07:57.097473",
     "status": "completed"
    },
    "tags": []
   },
   "outputs": [],
   "source": [
    "# getting rid of free and trial plans because those are not paid plans\n",
    "cancelled = cancelled[~cancelled[\"plan\"].isin([\"free-yearly\", \"trial-daily\"])]\n",
    "\n",
    "# converting timedelta \"subs_duration\" to int type\n",
    "cancelled[\"subs_duration\"] = cancelled.subs_duration.dt.days.astype(\"int\")\n"
   ]
  },
  {
   "cell_type": "code",
   "execution_count": 28,
   "id": "37eaf2e7",
   "metadata": {
    "execution": {
     "iopub.execute_input": "2022-04-18T09:07:57.302988Z",
     "iopub.status.busy": "2022-04-18T09:07:57.302354Z",
     "iopub.status.idle": "2022-04-18T09:07:57.774681Z",
     "shell.execute_reply": "2022-04-18T09:07:57.774057Z",
     "shell.execute_reply.started": "2022-04-18T09:03:18.119481Z"
    },
    "papermill": {
     "duration": 0.538701,
     "end_time": "2022-04-18T09:07:57.774819",
     "exception": false,
     "start_time": "2022-04-18T09:07:57.236118",
     "status": "completed"
    },
    "tags": []
   },
   "outputs": [
    {
     "data": {
      "image/png": "[encoded data removed]",
      "text/plain": [
       "<Figure size 921.6x633.6 with 1 Axes>"
      ]
     },
     "metadata": {
      "needs_background": "light"
     },
     "output_type": "display_data"
    }
   ],
   "source": [
    "# checking on duration of cancelled/non-renewing subscriptions\n",
    "fig = plt.figure()\n",
    "ax = fig.gca()\n",
    "\n",
    "bins = int(math.sqrt(cancelled.subs_duration.count()))\n",
    "\n",
    "ax = plt.hist(cancelled.subs_duration, bins=bins)\n",
    "plt.title(\"Cancelled/Non-renewing Plan duration in days histogram\", size=\"20\", pad=18)\n",
    "plt.xlabel(\"Days\", size=15, labelpad=18)\n",
    "plt.ylabel(\"Quantity\", size=15, labelpad=18)\n",
    "plt.tick_params(axis=\"x\", labelsize=14, labelrotation=-90)\n",
    "\n",
    "plt.savefig(f\"CancelledNonRenewing_duration_histogram.png\",\n",
    "            bbox_inches = 'tight')\n",
    "plt.show()\n"
   ]
  },
  {
   "cell_type": "markdown",
   "id": "5ddffe05",
   "metadata": {
    "papermill": {
     "duration": 0.064577,
     "end_time": "2022-04-18T09:07:57.903439",
     "exception": false,
     "start_time": "2022-04-18T09:07:57.838862",
     "status": "completed"
    },
    "tags": []
   },
   "source": [
    "<div class=\"alert alert-warning\" role=\"alert\"> Bummer. I was expecting to see a normal-like distribution so I could perform a test to verify or reject that assumption. It is very clear that this is not the case, at least for all plans at once. I'll try again creating one histogram per plan billing period unit.\n",
    "\n",
    "According to this histogram, most cancelled/non-renewing plans are terminated within the first 100 days.</div>\n",
    "\n"
   ]
  },
  {
   "cell_type": "code",
   "execution_count": 29,
   "id": "644a52f8",
   "metadata": {
    "execution": {
     "iopub.execute_input": "2022-04-18T09:07:58.038124Z",
     "iopub.status.busy": "2022-04-18T09:07:58.037388Z",
     "iopub.status.idle": "2022-04-18T09:07:58.045050Z",
     "shell.execute_reply": "2022-04-18T09:07:58.045567Z",
     "shell.execute_reply.started": "2022-04-18T09:03:18.627321Z"
    },
    "papermill": {
     "duration": 0.078077,
     "end_time": "2022-04-18T09:07:58.045735",
     "exception": false,
     "start_time": "2022-04-18T09:07:57.967658",
     "status": "completed"
    },
    "tags": []
   },
   "outputs": [
    {
     "data": {
      "text/plain": [
       "billing_period_unit  plan              \n",
       "month                empresa-monthly         7\n",
       "                     familia-monthly        93\n",
       "                     individual-monthly    530\n",
       "                     nonprofit-monthly       2\n",
       "year                 empresa-yearly         20\n",
       "                     empresa-yearly-2        1\n",
       "                     empresa-yearly-3        2\n",
       "                     familia-yearly         39\n",
       "                     individual-yearly      78\n",
       "                     nonprofit-yearly       11\n",
       "                     nonprofit-yearly-4      2\n",
       "Name: subs_duration, dtype: int64"
      ]
     },
     "execution_count": 29,
     "metadata": {},
     "output_type": "execute_result"
    }
   ],
   "source": [
    "# checking that billing_period_unit correlates to plan's names\n",
    "cancelled.groupby([\"billing_period_unit\", \"plan\"])[\"subs_duration\"].count()\n"
   ]
  },
  {
   "cell_type": "markdown",
   "id": "2aa29016",
   "metadata": {
    "papermill": {
     "duration": 0.063445,
     "end_time": "2022-04-18T09:07:58.173198",
     "exception": false,
     "start_time": "2022-04-18T09:07:58.109753",
     "status": "completed"
    },
    "tags": []
   },
   "source": [
    "<div class=\"alert alert-success\" role=\"alert\">From the groupby operation it's pretty clear that individual-monthly is by far the most cancelled/non-renewing plan. If anything, individual-monthly should be targeted by marketing teams to develop retention strategies before the 100 days limit.\n",
    "</div>\n"
   ]
  },
  {
   "cell_type": "code",
   "execution_count": 30,
   "id": "f2303f55",
   "metadata": {
    "execution": {
     "iopub.execute_input": "2022-04-18T09:07:58.305249Z",
     "iopub.status.busy": "2022-04-18T09:07:58.304586Z",
     "iopub.status.idle": "2022-04-18T09:07:58.310828Z",
     "shell.execute_reply": "2022-04-18T09:07:58.311323Z",
     "shell.execute_reply.started": "2022-04-18T09:03:18.641660Z"
    },
    "papermill": {
     "duration": 0.074373,
     "end_time": "2022-04-18T09:07:58.311500",
     "exception": false,
     "start_time": "2022-04-18T09:07:58.237127",
     "status": "completed"
    },
    "tags": []
   },
   "outputs": [],
   "source": [
    "monthly = cancelled.loc[cancelled[\"billing_period_unit\"] == \"month\"]\n",
    "yearly = cancelled.loc[cancelled[\"billing_period_unit\"] == \"year\"]\n"
   ]
  },
  {
   "cell_type": "code",
   "execution_count": 31,
   "id": "b1b55040",
   "metadata": {
    "execution": {
     "iopub.execute_input": "2022-04-18T09:07:58.445018Z",
     "iopub.status.busy": "2022-04-18T09:07:58.444320Z",
     "iopub.status.idle": "2022-04-18T09:07:59.161253Z",
     "shell.execute_reply": "2022-04-18T09:07:59.161777Z",
     "shell.execute_reply.started": "2022-04-18T09:03:18.657955Z"
    },
    "papermill": {
     "duration": 0.785531,
     "end_time": "2022-04-18T09:07:59.161948",
     "exception": false,
     "start_time": "2022-04-18T09:07:58.376417",
     "status": "completed"
    },
    "tags": []
   },
   "outputs": [
    {
     "data": {
      "image/png": "[encoded data removed]",
      "text/plain": [
       "<Figure size 1008x1296 with 2 Axes>"
      ]
     },
     "metadata": {
      "needs_background": "light"
     },
     "output_type": "display_data"
    }
   ],
   "source": [
    "bins = min(int(math.sqrt(monthly.subs_duration.count())),\n",
    "           int(math.sqrt(yearly.subs_duration.count())))\n",
    "\n",
    "# subplotting according to billing period unit\n",
    "fig, axs = plt.subplots(2, 1, sharex=False, figsize=(14, 18))\n",
    "\n",
    "axs[0].hist(monthly.subs_duration, bins=bins)\n",
    "axs[0].set_title(\"Cancelled/Non renewing monthly Plans duration in days histogram\",\n",
    "                 size=\"20\", pad=18)\n",
    "axs[0].set_xlabel(\"Days\", size=15, labelpad=18)\n",
    "axs[0].set_ylabel(\"Quantity\", size=15, labelpad=18)\n",
    "\n",
    "axs[1].hist(yearly.subs_duration, bins=bins)\n",
    "axs[1].set_title(\"Cancelled/Non renewing yearly Plans duration in days histogram\",\n",
    "                 size=\"20\", pad=18)\n",
    "axs[1].set_xlabel(\"Days\", size=15, labelpad=18)\n",
    "axs[1].set_ylabel(\"Quantity\", size=15, labelpad=18)\n",
    "\n",
    "plt.savefig(f\"CancelledNonRenewing_duration_histogram2.png\",\n",
    "            bbox_inches = 'tight')\n",
    "plt.show()\n"
   ]
  },
  {
   "cell_type": "markdown",
   "id": "d991e5bf",
   "metadata": {
    "papermill": {
     "duration": 0.065534,
     "end_time": "2022-04-18T09:07:59.293166",
     "exception": false,
     "start_time": "2022-04-18T09:07:59.227632",
     "status": "completed"
    },
    "tags": []
   },
   "source": [
    "### <p style=\"background-color:#535360;font-family:arial;color:#FFF7EF;font-size:250%;text-align:left;border-radius:10px 10px;\">Table DVCS Summary</p>\n",
    "- DVCS table has not a single NaN value on any of its colums.\n"
   ]
  },
  {
   "cell_type": "code",
   "execution_count": 32,
   "id": "55346974",
   "metadata": {
    "execution": {
     "iopub.execute_input": "2022-04-18T09:07:59.428223Z",
     "iopub.status.busy": "2022-04-18T09:07:59.427565Z",
     "iopub.status.idle": "2022-04-18T09:07:59.475051Z",
     "shell.execute_reply": "2022-04-18T09:07:59.475724Z",
     "shell.execute_reply.started": "2022-04-18T09:03:19.418536Z"
    },
    "papermill": {
     "duration": 0.116416,
     "end_time": "2022-04-18T09:07:59.475900",
     "exception": false,
     "start_time": "2022-04-18T09:07:59.359484",
     "status": "completed"
    },
    "tags": []
   },
   "outputs": [
    {
     "name": "stdout",
     "output_type": "stream",
     "text": [
      "<class 'pandas.core.frame.DataFrame'>\n",
      "RangeIndex: 56240 entries, 0 to 56239\n",
      "Data columns (total 6 columns):\n",
      " #   Column           Non-Null Count  Dtype         \n",
      "---  ------           --------------  -----         \n",
      " 0   dvcs_id          56240 non-null  object        \n",
      " 1   user_id          56240 non-null  object        \n",
      " 2   dvcs_created_at  56240 non-null  datetime64[ns]\n",
      " 3   type             56240 non-null  object        \n",
      " 4   os               56240 non-null  object        \n",
      " 5   dvcs_state       56240 non-null  object        \n",
      "dtypes: datetime64[ns](1), object(5)\n",
      "memory usage: 2.6+ MB\n",
      "None\n",
      "\n",
      "      dvcs_id     user_id     dvcs_created_at    type       os dvcs_state\n",
      "0  b4ac4cfb6a  f76d3628cb 2013-02-12 13:46:37   Phone  Android    deleted\n",
      "1  3740780237  f76d3628cb 2014-04-11 08:32:44  Tablet  Android    deleted\n",
      "2  3a78940895  f76d3628cb 2014-04-19 14:52:01  Tablet  Android    deleted\n",
      "3  74ab455a9d  f76d3628cb 2015-04-20 15:51:23   Phone  Android    deleted\n",
      "4  400458972f  f76d3628cb 2016-06-21 10:56:59   Phone  Android    deleted)\n"
     ]
    }
   ],
   "source": [
    "# basic review of dvcs table\n",
    "print(f\"{dvcs.info()}\\n\\n{dvcs.head()})\")\n"
   ]
  },
  {
   "cell_type": "markdown",
   "id": "67349aa3",
   "metadata": {
    "papermill": {
     "duration": 0.066447,
     "end_time": "2022-04-18T09:07:59.608207",
     "exception": false,
     "start_time": "2022-04-18T09:07:59.541760",
     "status": "completed"
    },
    "tags": []
   },
   "source": [
    "\n",
    " Changing **type**, **os**, and **state** columns to category type reduced the memory usage from 2.6MB to 1.4MB. Memory saving might not be a big deal for such a reduced DataFrame object but it might come in handy if we have to increase it's size.\n",
    "\n"
   ]
  },
  {
   "cell_type": "code",
   "execution_count": 33,
   "id": "c9ec46a2",
   "metadata": {
    "execution": {
     "iopub.execute_input": "2022-04-18T09:07:59.750154Z",
     "iopub.status.busy": "2022-04-18T09:07:59.749508Z",
     "iopub.status.idle": "2022-04-18T09:07:59.810230Z",
     "shell.execute_reply": "2022-04-18T09:07:59.810727Z",
     "shell.execute_reply.started": "2022-04-18T09:03:19.473282Z"
    },
    "papermill": {
     "duration": 0.136483,
     "end_time": "2022-04-18T09:07:59.810894",
     "exception": false,
     "start_time": "2022-04-18T09:07:59.674411",
     "status": "completed"
    },
    "tags": []
   },
   "outputs": [
    {
     "name": "stdout",
     "output_type": "stream",
     "text": [
      " type has 4 categories\n",
      " os has 16 categories\n",
      " state has 4 categories\n"
     ]
    },
    {
     "data": {
      "text/html": [
       "<div>\n",
       "<style scoped>\n",
       "    .dataframe tbody tr th:only-of-type {\n",
       "        vertical-align: middle;\n",
       "    }\n",
       "\n",
       "    .dataframe tbody tr th {\n",
       "        vertical-align: top;\n",
       "    }\n",
       "\n",
       "    .dataframe thead th {\n",
       "        text-align: right;\n",
       "    }\n",
       "</style>\n",
       "<table border=\"1\" class=\"dataframe\">\n",
       "  <thead>\n",
       "    <tr style=\"text-align: right;\">\n",
       "      <th></th>\n",
       "      <th></th>\n",
       "      <th></th>\n",
       "      <th>user_id</th>\n",
       "      <th>dvcs_id</th>\n",
       "    </tr>\n",
       "    <tr>\n",
       "      <th>type</th>\n",
       "      <th>dvcs_state</th>\n",
       "      <th>os</th>\n",
       "      <th></th>\n",
       "      <th></th>\n",
       "    </tr>\n",
       "  </thead>\n",
       "  <tbody>\n",
       "    <tr>\n",
       "      <th rowspan=\"11\" valign=\"top\">Desktop</th>\n",
       "      <th rowspan=\"5\" valign=\"top\">deleted</th>\n",
       "      <th>Centos</th>\n",
       "      <td>1</td>\n",
       "      <td>1</td>\n",
       "    </tr>\n",
       "    <tr>\n",
       "      <th>Debian</th>\n",
       "      <td>1</td>\n",
       "      <td>1</td>\n",
       "    </tr>\n",
       "    <tr>\n",
       "      <th>Mac</th>\n",
       "      <td>611</td>\n",
       "      <td>611</td>\n",
       "    </tr>\n",
       "    <tr>\n",
       "      <th>Ubuntu</th>\n",
       "      <td>6</td>\n",
       "      <td>6</td>\n",
       "    </tr>\n",
       "    <tr>\n",
       "      <th>Windows</th>\n",
       "      <td>1604</td>\n",
       "      <td>1604</td>\n",
       "    </tr>\n",
       "    <tr>\n",
       "      <th rowspan=\"2\" valign=\"top\">missing</th>\n",
       "      <th>Mac</th>\n",
       "      <td>4</td>\n",
       "      <td>4</td>\n",
       "    </tr>\n",
       "    <tr>\n",
       "      <th>Windows</th>\n",
       "      <td>25</td>\n",
       "      <td>25</td>\n",
       "    </tr>\n",
       "    <tr>\n",
       "      <th rowspan=\"3\" valign=\"top\">ok</th>\n",
       "      <th>Mac</th>\n",
       "      <td>931</td>\n",
       "      <td>931</td>\n",
       "    </tr>\n",
       "    <tr>\n",
       "      <th>Ubuntu</th>\n",
       "      <td>3</td>\n",
       "      <td>3</td>\n",
       "    </tr>\n",
       "    <tr>\n",
       "      <th>Windows</th>\n",
       "      <td>1028</td>\n",
       "      <td>1028</td>\n",
       "    </tr>\n",
       "    <tr>\n",
       "      <th>unverified</th>\n",
       "      <th>Windows</th>\n",
       "      <td>1</td>\n",
       "      <td>1</td>\n",
       "    </tr>\n",
       "    <tr>\n",
       "      <th rowspan=\"28\" valign=\"top\">Laptop</th>\n",
       "      <th rowspan=\"10\" valign=\"top\">deleted</th>\n",
       "      <th>Android</th>\n",
       "      <td>82</td>\n",
       "      <td>82</td>\n",
       "    </tr>\n",
       "    <tr>\n",
       "      <th>Arch</th>\n",
       "      <td>6</td>\n",
       "      <td>6</td>\n",
       "    </tr>\n",
       "    <tr>\n",
       "      <th>Chrome</th>\n",
       "      <td>2</td>\n",
       "      <td>2</td>\n",
       "    </tr>\n",
       "    <tr>\n",
       "      <th>Debian</th>\n",
       "      <td>1</td>\n",
       "      <td>1</td>\n",
       "    </tr>\n",
       "    <tr>\n",
       "      <th>Linux</th>\n",
       "      <td>2</td>\n",
       "      <td>2</td>\n",
       "    </tr>\n",
       "    <tr>\n",
       "      <th>Mac</th>\n",
       "      <td>3278</td>\n",
       "      <td>3278</td>\n",
       "    </tr>\n",
       "    <tr>\n",
       "      <th>Mint</th>\n",
       "      <td>11</td>\n",
       "      <td>11</td>\n",
       "    </tr>\n",
       "    <tr>\n",
       "      <th>Neon</th>\n",
       "      <td>3</td>\n",
       "      <td>3</td>\n",
       "    </tr>\n",
       "    <tr>\n",
       "      <th>Ubuntu</th>\n",
       "      <td>158</td>\n",
       "      <td>158</td>\n",
       "    </tr>\n",
       "    <tr>\n",
       "      <th>Windows</th>\n",
       "      <td>11006</td>\n",
       "      <td>11006</td>\n",
       "    </tr>\n",
       "    <tr>\n",
       "      <th rowspan=\"3\" valign=\"top\">missing</th>\n",
       "      <th>Android</th>\n",
       "      <td>2</td>\n",
       "      <td>2</td>\n",
       "    </tr>\n",
       "    <tr>\n",
       "      <th>Mac</th>\n",
       "      <td>70</td>\n",
       "      <td>70</td>\n",
       "    </tr>\n",
       "    <tr>\n",
       "      <th>Windows</th>\n",
       "      <td>419</td>\n",
       "      <td>419</td>\n",
       "    </tr>\n",
       "    <tr>\n",
       "      <th rowspan=\"14\" valign=\"top\">ok</th>\n",
       "      <th>Android</th>\n",
       "      <td>95</td>\n",
       "      <td>95</td>\n",
       "    </tr>\n",
       "    <tr>\n",
       "      <th>Arch</th>\n",
       "      <td>3</td>\n",
       "      <td>3</td>\n",
       "    </tr>\n",
       "    <tr>\n",
       "      <th>Centos</th>\n",
       "      <td>2</td>\n",
       "      <td>2</td>\n",
       "    </tr>\n",
       "    <tr>\n",
       "      <th>Chrome</th>\n",
       "      <td>1</td>\n",
       "      <td>1</td>\n",
       "    </tr>\n",
       "    <tr>\n",
       "      <th>Debian</th>\n",
       "      <td>4</td>\n",
       "      <td>4</td>\n",
       "    </tr>\n",
       "    <tr>\n",
       "      <th>Elementary</th>\n",
       "      <td>1</td>\n",
       "      <td>1</td>\n",
       "    </tr>\n",
       "    <tr>\n",
       "      <th>Fedora</th>\n",
       "      <td>1</td>\n",
       "      <td>1</td>\n",
       "    </tr>\n",
       "    <tr>\n",
       "      <th>Kali</th>\n",
       "      <td>1</td>\n",
       "      <td>1</td>\n",
       "    </tr>\n",
       "    <tr>\n",
       "      <th>Mac</th>\n",
       "      <td>3353</td>\n",
       "      <td>3353</td>\n",
       "    </tr>\n",
       "    <tr>\n",
       "      <th>Mint</th>\n",
       "      <td>4</td>\n",
       "      <td>4</td>\n",
       "    </tr>\n",
       "    <tr>\n",
       "      <th>Neon</th>\n",
       "      <td>1</td>\n",
       "      <td>1</td>\n",
       "    </tr>\n",
       "    <tr>\n",
       "      <th>Solus</th>\n",
       "      <td>1</td>\n",
       "      <td>1</td>\n",
       "    </tr>\n",
       "    <tr>\n",
       "      <th>Ubuntu</th>\n",
       "      <td>157</td>\n",
       "      <td>157</td>\n",
       "    </tr>\n",
       "    <tr>\n",
       "      <th>Windows</th>\n",
       "      <td>21276</td>\n",
       "      <td>21276</td>\n",
       "    </tr>\n",
       "    <tr>\n",
       "      <th>unverified</th>\n",
       "      <th>Mac</th>\n",
       "      <td>1</td>\n",
       "      <td>1</td>\n",
       "    </tr>\n",
       "    <tr>\n",
       "      <th rowspan=\"7\" valign=\"top\">Phone</th>\n",
       "      <th rowspan=\"3\" valign=\"top\">deleted</th>\n",
       "      <th>Android</th>\n",
       "      <td>2951</td>\n",
       "      <td>2951</td>\n",
       "    </tr>\n",
       "    <tr>\n",
       "      <th>Ios</th>\n",
       "      <td>1319</td>\n",
       "      <td>1319</td>\n",
       "    </tr>\n",
       "    <tr>\n",
       "      <th>Linux</th>\n",
       "      <td>1</td>\n",
       "      <td>1</td>\n",
       "    </tr>\n",
       "    <tr>\n",
       "      <th rowspan=\"2\" valign=\"top\">missing</th>\n",
       "      <th>Android</th>\n",
       "      <td>81</td>\n",
       "      <td>81</td>\n",
       "    </tr>\n",
       "    <tr>\n",
       "      <th>Ios</th>\n",
       "      <td>37</td>\n",
       "      <td>37</td>\n",
       "    </tr>\n",
       "    <tr>\n",
       "      <th rowspan=\"2\" valign=\"top\">ok</th>\n",
       "      <th>Android</th>\n",
       "      <td>1430</td>\n",
       "      <td>1430</td>\n",
       "    </tr>\n",
       "    <tr>\n",
       "      <th>Ios</th>\n",
       "      <td>856</td>\n",
       "      <td>856</td>\n",
       "    </tr>\n",
       "    <tr>\n",
       "      <th rowspan=\"9\" valign=\"top\">Tablet</th>\n",
       "      <th rowspan=\"4\" valign=\"top\">deleted</th>\n",
       "      <th>Android</th>\n",
       "      <td>1235</td>\n",
       "      <td>1235</td>\n",
       "    </tr>\n",
       "    <tr>\n",
       "      <th>Ios</th>\n",
       "      <td>1568</td>\n",
       "      <td>1568</td>\n",
       "    </tr>\n",
       "    <tr>\n",
       "      <th>Mac</th>\n",
       "      <td>1</td>\n",
       "      <td>1</td>\n",
       "    </tr>\n",
       "    <tr>\n",
       "      <th>Windows</th>\n",
       "      <td>15</td>\n",
       "      <td>15</td>\n",
       "    </tr>\n",
       "    <tr>\n",
       "      <th rowspan=\"2\" valign=\"top\">missing</th>\n",
       "      <th>Android</th>\n",
       "      <td>10</td>\n",
       "      <td>10</td>\n",
       "    </tr>\n",
       "    <tr>\n",
       "      <th>Ios</th>\n",
       "      <td>14</td>\n",
       "      <td>14</td>\n",
       "    </tr>\n",
       "    <tr>\n",
       "      <th rowspan=\"3\" valign=\"top\">ok</th>\n",
       "      <th>Android</th>\n",
       "      <td>1426</td>\n",
       "      <td>1426</td>\n",
       "    </tr>\n",
       "    <tr>\n",
       "      <th>Ios</th>\n",
       "      <td>1139</td>\n",
       "      <td>1139</td>\n",
       "    </tr>\n",
       "    <tr>\n",
       "      <th>Windows</th>\n",
       "      <td>1</td>\n",
       "      <td>1</td>\n",
       "    </tr>\n",
       "  </tbody>\n",
       "</table>\n",
       "</div>"
      ],
      "text/plain": [
       "                               user_id  dvcs_id\n",
       "type    dvcs_state os                          \n",
       "Desktop deleted    Centos            1        1\n",
       "                   Debian            1        1\n",
       "                   Mac             611      611\n",
       "                   Ubuntu            6        6\n",
       "                   Windows        1604     1604\n",
       "        missing    Mac               4        4\n",
       "                   Windows          25       25\n",
       "        ok         Mac             931      931\n",
       "                   Ubuntu            3        3\n",
       "                   Windows        1028     1028\n",
       "        unverified Windows           1        1\n",
       "Laptop  deleted    Android          82       82\n",
       "                   Arch              6        6\n",
       "                   Chrome            2        2\n",
       "                   Debian            1        1\n",
       "                   Linux             2        2\n",
       "                   Mac            3278     3278\n",
       "                   Mint             11       11\n",
       "                   Neon              3        3\n",
       "                   Ubuntu          158      158\n",
       "                   Windows       11006    11006\n",
       "        missing    Android           2        2\n",
       "                   Mac              70       70\n",
       "                   Windows         419      419\n",
       "        ok         Android          95       95\n",
       "                   Arch              3        3\n",
       "                   Centos            2        2\n",
       "                   Chrome            1        1\n",
       "                   Debian            4        4\n",
       "                   Elementary        1        1\n",
       "                   Fedora            1        1\n",
       "                   Kali              1        1\n",
       "                   Mac            3353     3353\n",
       "                   Mint              4        4\n",
       "                   Neon              1        1\n",
       "                   Solus             1        1\n",
       "                   Ubuntu          157      157\n",
       "                   Windows       21276    21276\n",
       "        unverified Mac               1        1\n",
       "Phone   deleted    Android        2951     2951\n",
       "                   Ios            1319     1319\n",
       "                   Linux             1        1\n",
       "        missing    Android          81       81\n",
       "                   Ios              37       37\n",
       "        ok         Android        1430     1430\n",
       "                   Ios             856      856\n",
       "Tablet  deleted    Android        1235     1235\n",
       "                   Ios            1568     1568\n",
       "                   Mac               1        1\n",
       "                   Windows          15       15\n",
       "        missing    Android          10       10\n",
       "                   Ios              14       14\n",
       "        ok         Android        1426     1426\n",
       "                   Ios            1139     1139\n",
       "                   Windows           1        1"
      ]
     },
     "execution_count": 33,
     "metadata": {},
     "output_type": "execute_result"
    }
   ],
   "source": [
    "# categories by size\n",
    "print(f\" type has {len(dvcs.type.unique())} categories\\n os has {len(dvcs.os.unique())} \\\n",
    "categories\\n state has {len(dvcs.dvcs_state.unique())} categories\")\n",
    "\n",
    "# basic data distribution going from less to more categories\n",
    "dvcs.groupby([\"type\", \"dvcs_state\", \"os\"])[[\"user_id\", \"dvcs_id\"]].count()\n"
   ]
  },
  {
   "cell_type": "markdown",
   "id": "59cda807",
   "metadata": {
    "papermill": {
     "duration": 0.066929,
     "end_time": "2022-04-18T09:07:59.944611",
     "exception": false,
     "start_time": "2022-04-18T09:07:59.877682",
     "status": "completed"
    },
    "tags": []
   },
   "source": [
    "<div class=\"alert alert-success\" role=\"alert\"> \n",
    "From the groupby method I was expecting to find a different count between id and user_id, mostly having user_id <= id, indicating that one user can have more than one device. \n",
    "</div>                                                                                           Instead, the result shows that each user has one and only one device associated.Having this into consideration,let's groupby again, just taking id into consideration."
   ]
  },
  {
   "cell_type": "code",
   "execution_count": 34,
   "id": "af78688e",
   "metadata": {
    "execution": {
     "iopub.execute_input": "2022-04-18T09:08:00.083231Z",
     "iopub.status.busy": "2022-04-18T09:08:00.082504Z",
     "iopub.status.idle": "2022-04-18T09:08:00.120826Z",
     "shell.execute_reply": "2022-04-18T09:08:00.121307Z",
     "shell.execute_reply.started": "2022-04-18T09:03:19.545050Z"
    },
    "papermill": {
     "duration": 0.109551,
     "end_time": "2022-04-18T09:08:00.121495",
     "exception": false,
     "start_time": "2022-04-18T09:08:00.011944",
     "status": "completed"
    },
    "tags": []
   },
   "outputs": [
    {
     "data": {
      "text/html": [
       "<div>\n",
       "<style scoped>\n",
       "    .dataframe tbody tr th:only-of-type {\n",
       "        vertical-align: middle;\n",
       "    }\n",
       "\n",
       "    .dataframe tbody tr th {\n",
       "        vertical-align: top;\n",
       "    }\n",
       "\n",
       "    .dataframe thead th {\n",
       "        text-align: right;\n",
       "    }\n",
       "</style>\n",
       "<table border=\"1\" class=\"dataframe\">\n",
       "  <thead>\n",
       "    <tr style=\"text-align: right;\">\n",
       "      <th></th>\n",
       "      <th>type</th>\n",
       "      <th>dvcs_state</th>\n",
       "      <th>os</th>\n",
       "      <th>total</th>\n",
       "    </tr>\n",
       "  </thead>\n",
       "  <tbody>\n",
       "    <tr>\n",
       "      <th>37</th>\n",
       "      <td>Laptop</td>\n",
       "      <td>ok</td>\n",
       "      <td>Windows</td>\n",
       "      <td>21276</td>\n",
       "    </tr>\n",
       "    <tr>\n",
       "      <th>20</th>\n",
       "      <td>Laptop</td>\n",
       "      <td>deleted</td>\n",
       "      <td>Windows</td>\n",
       "      <td>11006</td>\n",
       "    </tr>\n",
       "    <tr>\n",
       "      <th>32</th>\n",
       "      <td>Laptop</td>\n",
       "      <td>ok</td>\n",
       "      <td>Mac</td>\n",
       "      <td>3353</td>\n",
       "    </tr>\n",
       "    <tr>\n",
       "      <th>16</th>\n",
       "      <td>Laptop</td>\n",
       "      <td>deleted</td>\n",
       "      <td>Mac</td>\n",
       "      <td>3278</td>\n",
       "    </tr>\n",
       "    <tr>\n",
       "      <th>39</th>\n",
       "      <td>Phone</td>\n",
       "      <td>deleted</td>\n",
       "      <td>Android</td>\n",
       "      <td>2951</td>\n",
       "    </tr>\n",
       "  </tbody>\n",
       "</table>\n",
       "</div>"
      ],
      "text/plain": [
       "      type dvcs_state       os  total\n",
       "37  Laptop         ok  Windows  21276\n",
       "20  Laptop    deleted  Windows  11006\n",
       "32  Laptop         ok      Mac   3353\n",
       "16  Laptop    deleted      Mac   3278\n",
       "39   Phone    deleted  Android   2951"
      ]
     },
     "execution_count": 34,
     "metadata": {},
     "output_type": "execute_result"
    }
   ],
   "source": [
    "dvcs_gb = dvcs.groupby([\"type\", \"dvcs_state\", \"os\"])[\"dvcs_id\"].count()\n",
    "dvcs_gb = pd.DataFrame(dvcs_gb).reset_index()\n",
    "dvcs_gb.rename(columns={\"dvcs_id\":\"total\"}, inplace=True)\n",
    "dvcs_gb.sort_values(by=\"total\", axis=\"rows\", ascending=False, inplace=True)\n",
    "\n",
    "dvcs_gb.head()\n"
   ]
  },
  {
   "cell_type": "markdown",
   "id": "208faaff",
   "metadata": {
    "papermill": {
     "duration": 0.067633,
     "end_time": "2022-04-18T09:08:00.257504",
     "exception": false,
     "start_time": "2022-04-18T09:08:00.189871",
     "status": "completed"
    },
    "tags": []
   },
   "source": [
    "<div class=\"alert alert-info\" role=\"alert\">By converting os column into category type, additional rows were created because all categories should have a value, even if it is a zero (this is true for all categories, but os is relevant because as seen earlier it has 16 possible values). In order to deal with this issue I'll create an additional column to summarise less frequent OS. I'll follow an 80-20 rule for each type: OS on the 80% most frequent will be a category on its own while the OS on the 20% will go to a common bin.\n",
    "</div>\n",
    " "
   ]
  },
  {
   "cell_type": "code",
   "execution_count": 35,
   "id": "08eff2ab",
   "metadata": {
    "execution": {
     "iopub.execute_input": "2022-04-18T09:08:00.395873Z",
     "iopub.status.busy": "2022-04-18T09:08:00.395254Z",
     "iopub.status.idle": "2022-04-18T09:08:00.423476Z",
     "shell.execute_reply": "2022-04-18T09:08:00.424244Z",
     "shell.execute_reply.started": "2022-04-18T09:03:19.592667Z"
    },
    "papermill": {
     "duration": 0.099666,
     "end_time": "2022-04-18T09:08:00.424795",
     "exception": false,
     "start_time": "2022-04-18T09:08:00.325129",
     "status": "completed"
    },
    "tags": []
   },
   "outputs": [
    {
     "name": "stdout",
     "output_type": "stream",
     "text": [
      "      type dvcs_state       os  total  values_norm  cumulative\n",
      "4  Desktop    deleted  Windows   1604     0.380546    0.380546\n",
      "9  Desktop         ok  Windows   1028     0.243891    0.624437\n",
      "7  Desktop         ok      Mac    931     0.220878    0.845314\n",
      "2  Desktop    deleted      Mac    611     0.144958    0.990273\n",
      "6  Desktop    missing  Windows     25     0.005931    0.996204\n",
      "\n",
      "      type dvcs_state       os  total  values_norm  cumulative\n",
      "37  Laptop         ok  Windows  21276     0.532686    0.532686\n",
      "20  Laptop    deleted  Windows  11006     0.275556    0.808242\n",
      "32  Laptop         ok      Mac   3353     0.083949    0.892191\n",
      "16  Laptop    deleted      Mac   3278     0.082071    0.974262\n",
      "23  Laptop    missing  Windows    419     0.010490    0.984753\n",
      "\n",
      "     type dvcs_state       os  total  values_norm  cumulative\n",
      "39  Phone    deleted  Android   2951     0.442097    0.442097\n",
      "44  Phone         ok  Android   1430     0.214232    0.656330\n",
      "40  Phone    deleted      Ios   1319     0.197603    0.853933\n",
      "45  Phone         ok      Ios    856     0.128240    0.982172\n",
      "42  Phone    missing  Android     81     0.012135    0.994307\n",
      "\n",
      "      type dvcs_state       os  total  values_norm  cumulative\n",
      "47  Tablet    deleted      Ios   1568     0.289887    0.289887\n",
      "52  Tablet         ok  Android   1426     0.263635    0.553522\n",
      "46  Tablet    deleted  Android   1235     0.228323    0.781845\n",
      "53  Tablet         ok      Ios   1139     0.210575    0.992420\n",
      "49  Tablet    deleted  Windows     15     0.002773    0.995193\n",
      "['Windows' 'Mac']\n",
      "\n",
      "['Windows' 'Mac' 'Ubuntu']\n",
      "\n",
      "['Android' 'Ios']\n",
      "\n",
      "['Ios' 'Android']\n"
     ]
    }
   ],
   "source": [
    "# slicing according to type\n",
    "dsk = dvcs_gb.loc[dvcs_gb[\"type\"] == \"Desktop\"]\n",
    "ltp = dvcs_gb.loc[dvcs_gb[\"type\"] == \"Laptop\"]\n",
    "phn = dvcs_gb.loc[dvcs_gb[\"type\"] == \"Phone\"]\n",
    "tbt = dvcs_gb.loc[dvcs_gb[\"type\"] == \"Tablet\"]\n",
    "\n",
    "df_lst = [dsk, ltp, phn, tbt]\n",
    "for df in df_lst:\n",
    "    df[\"values_norm\"] = df.total / df.total.sum()\n",
    "    df[\"cumulative\"] = df.values_norm.cumsum()\n",
    "    \n",
    "print(f\"{dsk.head()}\\n\\n{ltp.head()}\\n\\n{phn.head()}\\n\\n{tbt.head()}\")\n",
    "\n",
    "# setting up the limit at 0.995 instead of 0.8 because I want 3 \n",
    "mfo_dsk, mfo_ltp, mfo_phn, mfo_tbt = \\\n",
    "    [df[\"os\"][df[\"cumulative\"] <= 0.995].unique() for df in df_lst]\n",
    "\n",
    "print(f\"{mfo_dsk}\\n\\n{mfo_ltp}\\n\\n{mfo_phn}\\n\\n{mfo_tbt}\")\n"
   ]
  },
  {
   "cell_type": "code",
   "execution_count": 36,
   "id": "396248fc",
   "metadata": {
    "execution": {
     "iopub.execute_input": "2022-04-18T09:08:00.569432Z",
     "iopub.status.busy": "2022-04-18T09:08:00.568554Z",
     "iopub.status.idle": "2022-04-18T09:08:00.571950Z",
     "shell.execute_reply": "2022-04-18T09:08:00.572878Z",
     "shell.execute_reply.started": "2022-04-18T09:03:19.631590Z"
    },
    "papermill": {
     "duration": 0.079298,
     "end_time": "2022-04-18T09:08:00.573143",
     "exception": false,
     "start_time": "2022-04-18T09:08:00.493845",
     "status": "completed"
    },
    "tags": []
   },
   "outputs": [
    {
     "name": "stdout",
     "output_type": "stream",
     "text": [
      "DESKTOP most frequent OS dict is {'Windows': 'Windows', 'Mac': 'Mac'}\n",
      "LAPTOP most frequent OS dict is {'Windows': 'Windows', 'Mac': 'Mac', 'Ubuntu': 'Ubuntu'}\n",
      "PHONE most frequent OS dict is {'Android': 'Android', 'Ios': 'Ios'}\n",
      "TABLET most frequent OS dict is {'Ios': 'Ios', 'Android': 'Android'}\n"
     ]
    }
   ],
   "source": [
    "# Creating most frequent OS dictionaries\n",
    "mfo_lst = [mfo_dsk, mfo_ltp, mfo_phn, mfo_tbt]\n",
    "mfo_dsk_dict = {}; mfo_ltp_dict = {}; mfo_phn_dict = {}; mfo_tbt_dict = {}\n",
    "mfo_dct = [mfo_dsk_dict, mfo_ltp_dict, mfo_phn_dict, mfo_tbt_dict]\n",
    "\n",
    "for i in range(len(mfo_lst)):\n",
    "    for j in range(len(mfo_lst[i])):\n",
    "        mfo_dct[i][mfo_lst[i][j]] = mfo_lst[i][j]\n",
    "\n",
    "print(f\"DESKTOP most frequent OS dict is {mfo_dsk_dict}\\n\\\n",
    "LAPTOP most frequent OS dict is {mfo_ltp_dict}\\n\\\n",
    "PHONE most frequent OS dict is {mfo_phn_dict}\\n\\\n",
    "TABLET most frequent OS dict is {mfo_tbt_dict}\")\n"
   ]
  },
  {
   "cell_type": "code",
   "execution_count": 37,
   "id": "585d44f4",
   "metadata": {
    "execution": {
     "iopub.execute_input": "2022-04-18T09:08:00.722811Z",
     "iopub.status.busy": "2022-04-18T09:08:00.722063Z",
     "iopub.status.idle": "2022-04-18T09:08:00.748869Z",
     "shell.execute_reply": "2022-04-18T09:08:00.749395Z",
     "shell.execute_reply.started": "2022-04-18T09:03:19.641058Z"
    },
    "papermill": {
     "duration": 0.105551,
     "end_time": "2022-04-18T09:08:00.749589",
     "exception": false,
     "start_time": "2022-04-18T09:08:00.644038",
     "status": "completed"
    },
    "tags": []
   },
   "outputs": [
    {
     "name": "stdout",
     "output_type": "stream",
     "text": [
      "      type dvcs_state       os  total  values_norm  cumulative     os_1\n",
      "4  Desktop    deleted  Windows   1604     0.380546    0.380546  Windows\n",
      "9  Desktop         ok  Windows   1028     0.243891    0.624437  Windows\n",
      "7  Desktop         ok      Mac    931     0.220878    0.845314      Mac\n",
      "2  Desktop    deleted      Mac    611     0.144958    0.990273      Mac\n",
      "6  Desktop    missing  Windows     25     0.005931    0.996204  Windows\n",
      "\n",
      "      type dvcs_state       os  total  values_norm  cumulative     os_1\n",
      "37  Laptop         ok  Windows  21276     0.532686    0.532686  Windows\n",
      "20  Laptop    deleted  Windows  11006     0.275556    0.808242  Windows\n",
      "32  Laptop         ok      Mac   3353     0.083949    0.892191      Mac\n",
      "16  Laptop    deleted      Mac   3278     0.082071    0.974262      Mac\n",
      "23  Laptop    missing  Windows    419     0.010490    0.984753  Windows\n",
      "\n",
      "     type dvcs_state       os  total  values_norm  cumulative     os_1\n",
      "39  Phone    deleted  Android   2951     0.442097    0.442097  Android\n",
      "44  Phone         ok  Android   1430     0.214232    0.656330  Android\n",
      "40  Phone    deleted      Ios   1319     0.197603    0.853933      Ios\n",
      "45  Phone         ok      Ios    856     0.128240    0.982172      Ios\n",
      "42  Phone    missing  Android     81     0.012135    0.994307  Android\n",
      "\n",
      "      type dvcs_state       os  total  values_norm  cumulative     os_1\n",
      "47  Tablet    deleted      Ios   1568     0.289887    0.289887      Ios\n",
      "52  Tablet         ok  Android   1426     0.263635    0.553522  Android\n",
      "46  Tablet    deleted  Android   1235     0.228323    0.781845  Android\n",
      "53  Tablet         ok      Ios   1139     0.210575    0.992420      Ios\n",
      "49  Tablet    deleted  Windows     15     0.002773    0.995193    Other\n"
     ]
    }
   ],
   "source": [
    "# mapping dict values into DataFrames\n",
    "for i in range(len(df_lst)):\n",
    "    df_lst[i][\"os_1\"] = df_lst[i].os.map(mfo_dct[i])\n",
    "    df_lst[i][\"os_1\"] = df_lst[i].os_1.fillna(\"Other\")\n",
    "    df_lst[i][\"os_1\"] = df_lst[i].os_1.astype(\"category\")\n",
    "\n",
    "print(f\"{dsk.head()}\\n\\n{ltp.head()}\\n\\n{phn.head()}\\n\\n{tbt.head()}\")\n"
   ]
  },
  {
   "cell_type": "code",
   "execution_count": 38,
   "id": "a428fc5a",
   "metadata": {
    "execution": {
     "iopub.execute_input": "2022-04-18T09:08:00.891601Z",
     "iopub.status.busy": "2022-04-18T09:08:00.890847Z",
     "iopub.status.idle": "2022-04-18T09:08:00.941984Z",
     "shell.execute_reply": "2022-04-18T09:08:00.941464Z",
     "shell.execute_reply.started": "2022-04-18T09:03:19.685315Z"
    },
    "papermill": {
     "duration": 0.123471,
     "end_time": "2022-04-18T09:08:00.942165",
     "exception": false,
     "start_time": "2022-04-18T09:08:00.818694",
     "status": "completed"
    },
    "tags": []
   },
   "outputs": [],
   "source": [
    "dsk = pd.DataFrame(dsk.groupby([\"dvcs_state\", \"os_1\"])[\"total\"].sum())\n",
    "dsk = dsk.fillna(0).reset_index()\n",
    "dsk_labels = dsk.dvcs_state.unique().tolist()\n",
    "dsk = dsk.pivot(index=[\"os_1\"], columns=[\"dvcs_state\"], values=[\"total\"])\n",
    "dsk = np.array(dsk.reset_index())\n",
    "\n",
    "ltp = pd.DataFrame(ltp.groupby([\"dvcs_state\", \"os_1\"])[\"total\"].sum())\n",
    "ltp = ltp.fillna(0).reset_index()\n",
    "ltp_labels = ltp.dvcs_state.unique().tolist()\n",
    "ltp = ltp.pivot(index=[\"os_1\"], columns=[\"dvcs_state\"], values=[\"total\"])\n",
    "ltp = np.array(ltp.reset_index())\n",
    "\n",
    "phn = pd.DataFrame(phn.groupby([\"dvcs_state\", \"os_1\"])[\"total\"].sum())\n",
    "phn = phn.fillna(0).reset_index()\n",
    "phn_labels = phn.dvcs_state.unique().tolist()\n",
    "phn = phn.pivot(index=[\"os_1\"], columns=[\"dvcs_state\"], values=[\"total\"])\n",
    "phn = np.array(phn.reset_index())\n",
    "\n",
    "tbt = pd.DataFrame(tbt.groupby([\"dvcs_state\", \"os_1\"])[\"total\"].sum())\n",
    "tbt = tbt.fillna(0).reset_index()\n",
    "tbt_labels = tbt.dvcs_state.unique().tolist()\n",
    "tbt = tbt.pivot(index=[\"os_1\"], columns=[\"dvcs_state\"], values=[\"total\"])\n",
    "tbt = np.array(tbt.reset_index())"
   ]
  },
  {
   "cell_type": "code",
   "execution_count": 39,
   "id": "49bc80fe",
   "metadata": {
    "execution": {
     "iopub.execute_input": "2022-04-18T09:08:01.086194Z",
     "iopub.status.busy": "2022-04-18T09:08:01.085494Z",
     "iopub.status.idle": "2022-04-18T09:08:02.693231Z",
     "shell.execute_reply": "2022-04-18T09:08:02.693721Z",
     "shell.execute_reply.started": "2022-04-18T09:03:19.747440Z"
    },
    "papermill": {
     "duration": 1.68115,
     "end_time": "2022-04-18T09:08:02.693889",
     "exception": false,
     "start_time": "2022-04-18T09:08:01.012739",
     "status": "completed"
    },
    "tags": []
   },
   "outputs": [
    {
     "data": {
      "image/png": "[encoded data removed]",
      "text/plain": [
       "<Figure size 1944x1296 with 4 Axes>"
      ]
     },
     "metadata": {
      "needs_background": "light"
     },
     "output_type": "display_data"
    }
   ],
   "source": [
    "# Plot basic config\n",
    "fig, axs = plt.subplots(2, 2, figsize=(27,18))\n",
    "width = 0.25\n",
    "\n",
    "# DESKTOP BARPLOT\n",
    "x = np.arange(len(dsk_labels))\n",
    "for i in range(dsk.shape[0]):\n",
    "    axs[0, 0].bar(x + (width * i), height=dsk[i, 1:], width=width)\n",
    "\n",
    "axs[0, 0].set_ylabel('Devices')\n",
    "axs[0, 0].set_title('DESKTOP DEVICES: Quantity by STATE and OS')\n",
    "axs[0, 0].set_xticks(x)\n",
    "axs[0, 0].tick_params(axis='x', labelrotation=-90)\n",
    "axs[0, 0].set_xticklabels(dsk_labels)\n",
    "axs[0, 0].legend(dsk[:, 0])\n",
    "\n",
    "# LAPTOP BARPLOT\n",
    "x = np.arange(len(ltp_labels))\n",
    "for i in range(ltp.shape[0]):\n",
    "    axs[0, 1].bar(x + (width * i), height=ltp[i, 1:], width=width)\n",
    "\n",
    "axs[0, 1].set_ylabel('Devices')\n",
    "axs[0, 1].set_title('LAPTOP DEVICES: Quantity by STATE and OS')\n",
    "axs[0, 1].set_xticks(x)\n",
    "axs[0, 1].tick_params(axis='x', labelrotation=-90)\n",
    "axs[0, 1].set_xticklabels(ltp_labels)\n",
    "axs[0, 1].legend(ltp[:, 0])\n",
    "\n",
    "# PHONE BARPLOT\n",
    "x = np.arange(len(phn_labels))\n",
    "for i in range(phn.shape[0]):\n",
    "    axs[1, 0].bar(x + (width * i), height=phn[i, 1:], width=width)\n",
    "\n",
    "axs[1, 0].set_ylabel('Devices')\n",
    "axs[1, 0].set_title('PHONE DEVICES: Quantity by STATE and OS')\n",
    "axs[1, 0].set_xticks(x)\n",
    "axs[1, 0].tick_params(axis='x', labelrotation=-90)\n",
    "axs[1, 0].set_xticklabels(phn_labels)\n",
    "axs[1, 0].legend(phn[:, 0])\n",
    "\n",
    "# TABLET BARPLOT\n",
    "x = np.arange(len(tbt_labels))\n",
    "for i in range(tbt.shape[0]):\n",
    "    axs[1, 1].bar(x + (width * i), height=tbt[i, 1:], width=width)\n",
    "\n",
    "axs[1, 1].set_ylabel('Devices')\n",
    "axs[1, 1].set_title('TABLET DEVICES: Quantity by STATE and OS')\n",
    "axs[1, 1].set_xticks(x)\n",
    "axs[1, 1].tick_params(axis='x', labelrotation=-90)\n",
    "axs[1, 1].set_xticklabels(tbt_labels)\n",
    "axs[1, 1].legend(tbt[:, 0])\n",
    "\n",
    "# saving to file and showing barplots\n",
    "plt.savefig(f\"Devices_barplots.png\", bbox_inches = 'tight')\n",
    "plt.show()"
   ]
  },
  {
   "cell_type": "code",
   "execution_count": 40,
   "id": "156e9e31",
   "metadata": {
    "execution": {
     "iopub.execute_input": "2022-04-18T09:08:02.841841Z",
     "iopub.status.busy": "2022-04-18T09:08:02.841141Z",
     "iopub.status.idle": "2022-04-18T09:08:02.846574Z",
     "shell.execute_reply": "2022-04-18T09:08:02.847166Z",
     "shell.execute_reply.started": "2022-04-18T09:03:21.449269Z"
    },
    "papermill": {
     "duration": 0.081672,
     "end_time": "2022-04-18T09:08:02.847337",
     "exception": false,
     "start_time": "2022-04-18T09:08:02.765665",
     "status": "completed"
    },
    "tags": []
   },
   "outputs": [
    {
     "data": {
      "text/plain": [
       "['Solarize_Light2',\n",
       " '_classic_test_patch',\n",
       " '_mpl-gallery',\n",
       " '_mpl-gallery-nogrid',\n",
       " 'bmh',\n",
       " 'classic',\n",
       " 'dark_background',\n",
       " 'fast',\n",
       " 'fivethirtyeight',\n",
       " 'ggplot',\n",
       " 'grayscale',\n",
       " 'seaborn',\n",
       " 'seaborn-bright',\n",
       " 'seaborn-colorblind',\n",
       " 'seaborn-dark',\n",
       " 'seaborn-dark-palette',\n",
       " 'seaborn-darkgrid',\n",
       " 'seaborn-deep',\n",
       " 'seaborn-muted',\n",
       " 'seaborn-notebook',\n",
       " 'seaborn-paper',\n",
       " 'seaborn-pastel',\n",
       " 'seaborn-poster',\n",
       " 'seaborn-talk',\n",
       " 'seaborn-ticks',\n",
       " 'seaborn-white',\n",
       " 'seaborn-whitegrid',\n",
       " 'tableau-colorblind10']"
      ]
     },
     "execution_count": 40,
     "metadata": {},
     "output_type": "execute_result"
    }
   ],
   "source": [
    "plt.style.available"
   ]
  },
  {
   "cell_type": "markdown",
   "id": "b27a2e29",
   "metadata": {
    "papermill": {
     "duration": 0.071629,
     "end_time": "2022-04-18T09:08:02.991987",
     "exception": false,
     "start_time": "2022-04-18T09:08:02.920358",
     "status": "completed"
    },
    "tags": []
   },
   "source": [
    "### <p style=\"background-color:#535360;font-family:arial;color:#FFF7EF;font-size:250%;text-align:left;border-radius:10px 10px;\">Table USERS Summary</p>\n"
   ]
  },
  {
   "cell_type": "code",
   "execution_count": 41,
   "id": "610f42f9",
   "metadata": {
    "execution": {
     "iopub.execute_input": "2022-04-18T09:08:03.140210Z",
     "iopub.status.busy": "2022-04-18T09:08:03.139561Z",
     "iopub.status.idle": "2022-04-18T09:08:03.152058Z",
     "shell.execute_reply": "2022-04-18T09:08:03.152852Z",
     "shell.execute_reply.started": "2022-04-18T09:03:21.457103Z"
    },
    "papermill": {
     "duration": 0.088321,
     "end_time": "2022-04-18T09:08:03.153069",
     "exception": false,
     "start_time": "2022-04-18T09:08:03.064748",
     "status": "completed"
    },
    "tags": []
   },
   "outputs": [
    {
     "name": "stdout",
     "output_type": "stream",
     "text": [
      "<class 'pandas.core.frame.DataFrame'>\n",
      "RangeIndex: 2828 entries, 0 to 2827\n",
      "Data columns (total 5 columns):\n",
      " #   Column           Non-Null Count  Dtype         \n",
      "---  ------           --------------  -----         \n",
      " 0   user_id          2828 non-null   object        \n",
      " 1   usrs_created_at  2828 non-null   datetime64[ns]\n",
      " 2   country_name     2576 non-null   object        \n",
      " 3   usrs_state       2828 non-null   object        \n",
      " 4   account_id       2828 non-null   object        \n",
      "dtypes: datetime64[ns](1), object(4)\n",
      "memory usage: 110.6+ KB\n"
     ]
    }
   ],
   "source": [
    "usrs.info()"
   ]
  },
  {
   "cell_type": "markdown",
   "id": "7c14e19b",
   "metadata": {
    "papermill": {
     "duration": 0.073171,
     "end_time": "2022-04-18T09:08:03.300037",
     "exception": false,
     "start_time": "2022-04-18T09:08:03.226866",
     "status": "completed"
    },
    "tags": []
   },
   "source": [
    "<div class=\"alert alert-info\" role=\"alert\">\n",
    "\n",
    "- USRS has 252 missing values at country_name which is almost 10% of the total number of rows . Filled in missing values with \"Antarctica\".Since there's no value in either dropping them or naming them with a tag like \"Unknown\". Instead Antarctica will serve to plot them in the map Fig.\n",
    "\n",
    "- USRS had some country names in a format not according to international ISO3 notation (ie: México instead of Mexico, or Estados Unidos instead of United States). This names were corrected in order to use plotly library.\n",
    "\n",
    "</div>"
   ]
  },
  {
   "cell_type": "code",
   "execution_count": 42,
   "id": "667d310e",
   "metadata": {
    "execution": {
     "iopub.execute_input": "2022-04-18T09:08:03.450035Z",
     "iopub.status.busy": "2022-04-18T09:08:03.449388Z",
     "iopub.status.idle": "2022-04-18T09:08:03.473013Z",
     "shell.execute_reply": "2022-04-18T09:08:03.472470Z",
     "shell.execute_reply.started": "2022-04-18T09:03:21.481035Z"
    },
    "papermill": {
     "duration": 0.100054,
     "end_time": "2022-04-18T09:08:03.473179",
     "exception": false,
     "start_time": "2022-04-18T09:08:03.373125",
     "status": "completed"
    },
    "tags": []
   },
   "outputs": [],
   "source": [
    "# Filling NaNs with Antarctica for avoiding either dropping the values\n",
    "# or having issues with plotly\n",
    "usrs.country_name.fillna(\"Antarctica\", inplace=True)\n",
    "usrs.country_name.replace([\"Anonymous Proxy\"], \"Antarctica\", inplace=True)\n",
    "\n",
    "# Countries to ISO3 format\n",
    "usrs.country_name.replace([\"Brasil\"], \"Brazil\", inplace=True)\n",
    "usrs.country_name.replace([\"Estados Unidos\"], \"United States\", inplace=True)\n",
    "usrs.country_name.replace([\"México\"], \"Mexico\", inplace=True)\n",
    "usrs.country_name.replace([\"Cote d'Ivoire\"], \"Ivory Coast\", inplace=True)\n",
    "usrs.country_name.replace([\"Russian Federation\"], \"Russia\", inplace=True)\n",
    "usrs.country_name.replace([\"Korea, Republic of\"], \"South Korea\", inplace=True)\n",
    "usrs.country_name.replace([\"Viet Nam\"], \"Vietnam\", inplace=True)\n",
    "usrs.country_name.replace([\"Korea, Republic of\"], \"South Korea\", inplace=True)\n",
    "usrs.country_name.replace([\"Virgin Islands, British\"], \"British Virgin Islands\",\n",
    "                          inplace=True)\n",
    "usrs.country_name.replace([\"Moldova, Republic of\"], \"Moldova\",inplace=True)\n",
    "usrs.country_name.replace([\"Tanzania, United Republic of\"], \"Tanzania\", inplace=True)\n",
    "\n",
    "# Changed to Brazil for geographical closeness\n",
    "usrs.country_name.replace([\"Netherlands Antilles\"], \"Brazil\", inplace=True)\n"
   ]
  },
  {
   "cell_type": "code",
   "execution_count": 43,
   "id": "e5915c7c",
   "metadata": {
    "execution": {
     "iopub.execute_input": "2022-04-18T09:08:03.627353Z",
     "iopub.status.busy": "2022-04-18T09:08:03.626650Z",
     "iopub.status.idle": "2022-04-18T09:08:03.644494Z",
     "shell.execute_reply": "2022-04-18T09:08:03.645130Z",
     "shell.execute_reply.started": "2022-04-18T09:03:21.508027Z"
    },
    "papermill": {
     "duration": 0.099956,
     "end_time": "2022-04-18T09:08:03.645305",
     "exception": false,
     "start_time": "2022-04-18T09:08:03.545349",
     "status": "completed"
    },
    "tags": []
   },
   "outputs": [
    {
     "name": "stdout",
     "output_type": "stream",
     "text": [
      "<class 'pandas.core.frame.DataFrame'>\n",
      "RangeIndex: 2828 entries, 0 to 2827\n",
      "Data columns (total 7 columns):\n",
      " #   Column           Non-Null Count  Dtype          \n",
      "---  ------           --------------  -----          \n",
      " 0   user_id          2828 non-null   object         \n",
      " 1   usrs_created_at  2828 non-null   datetime64[ns] \n",
      " 2   country_name     2828 non-null   object         \n",
      " 3   usrs_state       2828 non-null   object         \n",
      " 4   account_id       2828 non-null   object         \n",
      " 5   current_date     2828 non-null   datetime64[ns] \n",
      " 6   usrs_duration    2828 non-null   timedelta64[ns]\n",
      "dtypes: datetime64[ns](2), object(4), timedelta64[ns](1)\n",
      "memory usage: 154.8+ KB\n",
      "None\n",
      "\n",
      "      user_id     usrs_created_at   country_name usrs_state  account_id  \\\n",
      "0  f76d3628cb 2009-09-10 20:34:10         Norway     active  c766847b75   \n",
      "1  ecf04f4dc8 2009-09-17 15:53:46  United States     active  fadb0700b8   \n",
      "2  2f77d13af9 2009-09-21 08:20:44  United States     active  0628aa0174   \n",
      "3  46cfd7f501 2009-09-30 11:58:36         Canada    deleted  29d41a7e1a   \n",
      "4  b7a0259dac 2009-10-09 23:31:44     Antarctica     active  3828d216f7   \n",
      "\n",
      "                current_date             usrs_duration  \n",
      "0 2022-04-18 09:08:03.623685 4602 days 12:33:53.623685  \n",
      "1 2022-04-18 09:08:03.623685 4595 days 17:14:17.623685  \n",
      "2 2022-04-18 09:08:03.623685 4592 days 00:47:19.623685  \n",
      "3 2022-04-18 09:08:03.623685 4582 days 21:09:27.623685  \n",
      "4 2022-04-18 09:08:03.623685 4573 days 09:36:19.623685  \n"
     ]
    }
   ],
   "source": [
    "# introducing two more columns related to date\n",
    "usrs[\"current_date\"] = pd.to_datetime(\"today\")\n",
    "usrs[\"usrs_duration\"] = usrs.current_date - usrs.usrs_created_at\n",
    "\n",
    "print(f\"{usrs.info()}\\n\\n{usrs.head()}\")\n"
   ]
  },
  {
   "cell_type": "code",
   "execution_count": 44,
   "id": "8349854b",
   "metadata": {
    "execution": {
     "iopub.execute_input": "2022-04-18T09:08:03.800387Z",
     "iopub.status.busy": "2022-04-18T09:08:03.795697Z",
     "iopub.status.idle": "2022-04-18T09:08:03.807177Z",
     "shell.execute_reply": "2022-04-18T09:08:03.806526Z",
     "shell.execute_reply.started": "2022-04-18T09:03:21.531728Z"
    },
    "papermill": {
     "duration": 0.088734,
     "end_time": "2022-04-18T09:08:03.807316",
     "exception": false,
     "start_time": "2022-04-18T09:08:03.718582",
     "status": "completed"
    },
    "tags": []
   },
   "outputs": [],
   "source": [
    "states_lst = usrs.usrs_state.unique().tolist()\n",
    "\n",
    "# subsetting DF for different approaches according to state\n",
    "states_df = []\n",
    "for stt in states_lst:\n",
    "    stt = usrs.loc[usrs[\"usrs_state\"] == stt]\n",
    "    states_df.append(stt)\n"
   ]
  },
  {
   "cell_type": "code",
   "execution_count": 45,
   "id": "519dbb58",
   "metadata": {
    "execution": {
     "iopub.execute_input": "2022-04-18T09:08:03.958601Z",
     "iopub.status.busy": "2022-04-18T09:08:03.957921Z",
     "iopub.status.idle": "2022-04-18T09:08:03.960960Z",
     "shell.execute_reply": "2022-04-18T09:08:03.960466Z",
     "shell.execute_reply.started": "2022-04-18T09:03:21.544275Z"
    },
    "papermill": {
     "duration": 0.0806,
     "end_time": "2022-04-18T09:08:03.961126",
     "exception": false,
     "start_time": "2022-04-18T09:08:03.880526",
     "status": "completed"
    },
    "tags": []
   },
   "outputs": [],
   "source": [
    "# subsetting in order to barplot\n",
    "active = states_df[0]\n",
    "deleted = states_df[1]\n"
   ]
  },
  {
   "cell_type": "code",
   "execution_count": 46,
   "id": "751d25f4",
   "metadata": {
    "execution": {
     "iopub.execute_input": "2022-04-18T09:08:04.115102Z",
     "iopub.status.busy": "2022-04-18T09:08:04.114407Z",
     "iopub.status.idle": "2022-04-18T09:08:04.122465Z",
     "shell.execute_reply": "2022-04-18T09:08:04.121917Z",
     "shell.execute_reply.started": "2022-04-18T09:03:21.556799Z"
    },
    "papermill": {
     "duration": 0.08852,
     "end_time": "2022-04-18T09:08:04.122611",
     "exception": false,
     "start_time": "2022-04-18T09:08:04.034091",
     "status": "completed"
    },
    "tags": []
   },
   "outputs": [],
   "source": [
    "# active users processing for visualization\n",
    "active = pd.DataFrame(active.groupby([\"country_name\"])[\"user_id\"].count())\n",
    "active.rename(columns={\"user_id\":\"users\"}, inplace=True)\n",
    "active = active.reset_index()\n",
    "active = active.sort_values(by=\"users\", ascending=False)\n",
    "active[\"norm_values\"] = active.users / active.users.sum()\n",
    "active[\"cum_sum\"] = active.norm_values.cumsum()\n"
   ]
  },
  {
   "cell_type": "code",
   "execution_count": 47,
   "id": "5a6f28f8",
   "metadata": {
    "execution": {
     "iopub.execute_input": "2022-04-18T09:08:04.271658Z",
     "iopub.status.busy": "2022-04-18T09:08:04.270967Z",
     "iopub.status.idle": "2022-04-18T09:08:04.281186Z",
     "shell.execute_reply": "2022-04-18T09:08:04.281692Z",
     "shell.execute_reply.started": "2022-04-18T09:03:21.581814Z"
    },
    "papermill": {
     "duration": 0.086282,
     "end_time": "2022-04-18T09:08:04.281859",
     "exception": false,
     "start_time": "2022-04-18T09:08:04.195577",
     "status": "completed"
    },
    "tags": []
   },
   "outputs": [],
   "source": [
    "# deleted users processing for visualization\n",
    "deleted = pd.DataFrame(deleted.groupby([\"country_name\"])[\"user_id\"].count())\n",
    "deleted.rename(columns={\"user_id\":\"users\"}, inplace=True)\n",
    "deleted = deleted.reset_index()\n",
    "deleted = deleted.sort_values(by=\"users\", ascending=False)\n",
    "deleted[\"norm_values\"] = deleted.users / deleted.users.sum()\n",
    "deleted[\"cum_sum\"] = deleted.norm_values.cumsum()\n"
   ]
  },
  {
   "cell_type": "code",
   "execution_count": 48,
   "id": "96f9164f",
   "metadata": {
    "execution": {
     "iopub.execute_input": "2022-04-18T09:08:04.432295Z",
     "iopub.status.busy": "2022-04-18T09:08:04.431578Z",
     "iopub.status.idle": "2022-04-18T09:08:25.472755Z",
     "shell.execute_reply": "2022-04-18T09:08:25.471965Z",
     "shell.execute_reply.started": "2022-04-18T09:03:21.598874Z"
    },
    "papermill": {
     "duration": 21.117336,
     "end_time": "2022-04-18T09:08:25.472945",
     "exception": false,
     "start_time": "2022-04-18T09:08:04.355609",
     "status": "completed"
    },
    "tags": []
   },
   "outputs": [
    {
     "name": "stdout",
     "output_type": "stream",
     "text": [
      "Collecting kaleido\r\n",
      "  Downloading kaleido-0.2.1-py2.py3-none-manylinux1_x86_64.whl (79.9 MB)\r\n",
      "     |████████████████████████████████| 79.9 MB 166 kB/s             \r\n",
      "\u001b[?25hInstalling collected packages: kaleido\r\n",
      "Successfully installed kaleido-0.2.1\r\n",
      "\u001b[33mWARNING: Running pip as the 'root' user can result in broken permissions and conflicting behaviour with the system package manager. It is recommended to use a virtual environment instead: https://pip.pypa.io/warnings/venv\u001b[0m\r\n",
      "Note: you may need to restart the kernel to use updated packages.\n"
     ]
    }
   ],
   "source": [
    "pip install kaleido"
   ]
  },
  {
   "cell_type": "code",
   "execution_count": 49,
   "id": "2c4333ce",
   "metadata": {
    "execution": {
     "iopub.execute_input": "2022-04-18T09:08:25.739205Z",
     "iopub.status.busy": "2022-04-18T09:08:25.738490Z",
     "iopub.status.idle": "2022-04-18T09:08:28.558873Z",
     "shell.execute_reply": "2022-04-18T09:08:28.558360Z",
     "shell.execute_reply.started": "2022-04-18T09:03:42.741811Z"
    },
    "papermill": {
     "duration": 2.953911,
     "end_time": "2022-04-18T09:08:28.559013",
     "exception": false,
     "start_time": "2022-04-18T09:08:25.605102",
     "status": "completed"
    },
    "tags": []
   },
   "outputs": [
    {
     "data": {
      "text/html": [
       "        <script type=\"text/javascript\">\n",
       "        window.PlotlyConfig = {MathJaxConfig: 'local'};\n",
       "        if (window.MathJax) {MathJax.Hub.Config({SVG: {font: \"STIX-Web\"}});}\n",
       "        if (typeof require !== 'undefined') {\n",
       "        require.undef(\"plotly\");\n",
       "        requirejs.config({\n",
       "            paths: {\n",
       "                'plotly': ['https://cdn.plot.ly/plotly-2.8.3.min']\n",
       "            }\n",
       "        });\n",
       "        require(['plotly'], function(Plotly) {\n",
       "            window._Plotly = Plotly;\n",
       "        });\n",
       "        }\n",
       "        </script>\n",
       "        "
      ]
     },
     "metadata": {},
     "output_type": "display_data"
    },
    {
     "data": {
      "text/html": [
       "<div>                            <div id=\"7585763c-7bef-4fd4-b50b-30328495c559\" class=\"plotly-graph-div\" style=\"height:525px; width:100%;\"></div>            <script type=\"text/javascript\">                require([\"plotly\"], function(Plotly) {                    window.PLOTLYENV=window.PLOTLYENV || {};                                    if (document.getElementById(\"7585763c-7bef-4fd4-b50b-30328495c559\")) {                    Plotly.newPlot(                        \"7585763c-7bef-4fd4-b50b-30328495c559\",                        [{\"autocolorscale\":false,\"colorbar\":{\"ticksuffix\":\"\",\"title\":{\"text\":\"Users\"}},\"colorscale\":[[0.0,\"rgb(255,255,217)\"],[0.125,\"rgb(237,248,177)\"],[0.25,\"rgb(199,233,180)\"],[0.375,\"rgb(127,205,187)\"],[0.5,\"rgb(65,182,196)\"],[0.625,\"rgb(29,145,192)\"],[0.75,\"rgb(34,94,168)\"],[0.875,\"rgb(37,52,148)\"],[1.0,\"rgb(8,29,88)\"]],\"locationmode\":\"country names\",\"locations\":[\"United States\",\"United Kingdom\",\"Antarctica\",\"Japan\",\"Malaysia\",\"Chile\",\"Mexico\",\"Canada\",\"Turkey\",\"Australia\",\"France\",\"Argentina\",\"Colombia\",\"Spain\",\"Netherlands\",\"Brazil\",\"Uganda\",\"Germany\",\"South Africa\",\"Italy\",\"Ireland\",\"Sweden\",\"India\",\"Peru\",\"Poland\",\"Belgium\",\"Philippines\",\"Ecuador\",\"New Zealand\",\"Zimbabwe\",\"Serbia\",\"Indonesia\",\"Norway\",\"Pakistan\",\"Switzerland\",\"Portugal\",\"Thailand\",\"Afghanistan\",\"Egypt\",\"Finland\",\"Estonia\",\"Czech Republic\",\"Dominican Republic\",\"United Arab Emirates\",\"Panama\",\"Russia\",\"Israel\",\"Venezuela\",\"Singapore\",\"Honduras\",\"Trinidad and Tobago\",\"Nigeria\",\"Saudi Arabia\",\"Ukraine\",\"Kenya\",\"Romania\",\"Botswana\",\"Croatia\",\"Costa Rica\",\"Jamaica\",\"Sri Lanka\",\"Denmark\",\"Nicaragua\",\"Slovenia\",\"Moldova\",\"Austria\",\"Tanzania\",\"Guatemala\",\"Greece\",\"Jersey\",\"Uruguay\",\"Cameroon\",\"Malawi\",\"Bulgaria\",\"South Korea\",\"Bahrain\",\"Cambodia\",\"Barbados\",\"Vietnam\",\"Belize\",\"Zambia\",\"Slovakia\",\"Bolivia\",\"British Virgin Islands\",\"Hong Kong\",\"Rwanda\",\"Puerto Rico\",\"Iraq\",\"Ghana\",\"Ivory Coast\",\"Kazakhstan\",\"Lesotho\",\"Angola\",\"Luxembourg\",\"Ethiopia\",\"Malta\",\"Mauritius\",\"Mayotte\",\"Mongolia\",\"Morocco\",\"Nepal\",\"El Salvador\",\"Oman\",\"Hungary\",\"Paraguay\",\"Cyprus\",\"Lithuania\"],\"marker\":{\"line\":{\"color\":\"#000000\",\"width\":0.5}},\"reversescale\":false,\"text\":[\"United States\",\"United Kingdom\",\"Antarctica\",\"Japan\",\"Malaysia\",\"Chile\",\"Mexico\",\"Canada\",\"Turkey\",\"Australia\",\"France\",\"Argentina\",\"Colombia\",\"Spain\",\"Netherlands\",\"Brazil\",\"Uganda\",\"Germany\",\"South Africa\",\"Italy\",\"Ireland\",\"Sweden\",\"India\",\"Peru\",\"Poland\",\"Belgium\",\"Philippines\",\"Ecuador\",\"New Zealand\",\"Zimbabwe\",\"Serbia\",\"Indonesia\",\"Norway\",\"Pakistan\",\"Switzerland\",\"Portugal\",\"Thailand\",\"Afghanistan\",\"Egypt\",\"Finland\",\"Estonia\",\"Czech Republic\",\"Dominican Republic\",\"United Arab Emirates\",\"Panama\",\"Russia\",\"Israel\",\"Venezuela\",\"Singapore\",\"Honduras\",\"Trinidad and Tobago\",\"Nigeria\",\"Saudi Arabia\",\"Ukraine\",\"Kenya\",\"Romania\",\"Botswana\",\"Croatia\",\"Costa Rica\",\"Jamaica\",\"Sri Lanka\",\"Denmark\",\"Nicaragua\",\"Slovenia\",\"Moldova\",\"Austria\",\"Tanzania\",\"Guatemala\",\"Greece\",\"Jersey\",\"Uruguay\",\"Cameroon\",\"Malawi\",\"Bulgaria\",\"South Korea\",\"Bahrain\",\"Cambodia\",\"Barbados\",\"Vietnam\",\"Belize\",\"Zambia\",\"Slovakia\",\"Bolivia\",\"British Virgin Islands\",\"Hong Kong\",\"Rwanda\",\"Puerto Rico\",\"Iraq\",\"Ghana\",\"Ivory Coast\",\"Kazakhstan\",\"Lesotho\",\"Angola\",\"Luxembourg\",\"Ethiopia\",\"Malta\",\"Mauritius\",\"Mayotte\",\"Mongolia\",\"Morocco\",\"Nepal\",\"El Salvador\",\"Oman\",\"Hungary\",\"Paraguay\",\"Cyprus\",\"Lithuania\"],\"z\":[0.33069932832872384,0.11734492295535362,0.09482418016594231,0.057289608850256815,0.05136309758988542,0.0375345713156855,0.03437376531015409,0.03121295930462268,0.01698933227973133,0.0150138285262742,0.014223627024891347,0.01382852627419992,0.011457921770051362,0.011457921770051362,0.011457921770051362,0.01066772026866851,0.009877518767285659,0.00869221651521138,0.005531410509679968,0.005136309758988542,0.004741209008297116,0.00434610825760569,0.00434610825760569,0.00434610825760569,0.0039510075069142635,0.0035559067562228367,0.0031608060055314103,0.0031608060055314103,0.0031608060055314103,0.002765705254839984,0.002765705254839984,0.002765705254839984,0.002370604504148558,0.002370604504148558,0.002370604504148558,0.0019755037534571317,0.0019755037534571317,0.0019755037534571317,0.0019755037534571317,0.0019755037534571317,0.0019755037534571317,0.0019755037534571317,0.0015804030027657052,0.0015804030027657052,0.0015804030027657052,0.0015804030027657052,0.0015804030027657052,0.001185302252074279,0.001185302252074279,0.001185302252074279,0.001185302252074279,0.001185302252074279,0.001185302252074279,0.001185302252074279,0.001185302252074279,0.001185302252074279,0.001185302252074279,0.001185302252074279,0.001185302252074279,0.001185302252074279,0.0007902015013828526,0.0007902015013828526,0.0007902015013828526,0.0007902015013828526,0.0007902015013828526,0.0007902015013828526,0.0007902015013828526,0.0007902015013828526,0.0007902015013828526,0.0007902015013828526,0.0007902015013828526,0.0007902015013828526,0.0007902015013828526,0.0003951007506914263,0.0003951007506914263,0.0003951007506914263,0.0003951007506914263,0.0003951007506914263,0.0003951007506914263,0.0003951007506914263,0.0003951007506914263,0.0003951007506914263,0.0003951007506914263,0.0003951007506914263,0.0003951007506914263,0.0003951007506914263,0.0003951007506914263,0.0003951007506914263,0.0003951007506914263,0.0003951007506914263,0.0003951007506914263,0.0003951007506914263,0.0003951007506914263,0.0003951007506914263,0.0003951007506914263,0.0003951007506914263,0.0003951007506914263,0.0003951007506914263,0.0003951007506914263,0.0003951007506914263,0.0003951007506914263,0.0003951007506914263,0.0003951007506914263,0.0003951007506914263,0.0003951007506914263,0.0003951007506914263,0.0003951007506914263],\"type\":\"choropleth\"}],                        {\"template\":{\"data\":{\"bar\":[{\"error_x\":{\"color\":\"#2a3f5f\"},\"error_y\":{\"color\":\"#2a3f5f\"},\"marker\":{\"line\":{\"color\":\"#E5ECF6\",\"width\":0.5},\"pattern\":{\"fillmode\":\"overlay\",\"size\":10,\"solidity\":0.2}},\"type\":\"bar\"}],\"barpolar\":[{\"marker\":{\"line\":{\"color\":\"#E5ECF6\",\"width\":0.5},\"pattern\":{\"fillmode\":\"overlay\",\"size\":10,\"solidity\":0.2}},\"type\":\"barpolar\"}],\"carpet\":[{\"aaxis\":{\"endlinecolor\":\"#2a3f5f\",\"gridcolor\":\"white\",\"linecolor\":\"white\",\"minorgridcolor\":\"white\",\"startlinecolor\":\"#2a3f5f\"},\"baxis\":{\"endlinecolor\":\"#2a3f5f\",\"gridcolor\":\"white\",\"linecolor\":\"white\",\"minorgridcolor\":\"white\",\"startlinecolor\":\"#2a3f5f\"},\"type\":\"carpet\"}],\"choropleth\":[{\"colorbar\":{\"outlinewidth\":0,\"ticks\":\"\"},\"type\":\"choropleth\"}],\"contour\":[{\"colorbar\":{\"outlinewidth\":0,\"ticks\":\"\"},\"colorscale\":[[0.0,\"#0d0887\"],[0.1111111111111111,\"#46039f\"],[0.2222222222222222,\"#7201a8\"],[0.3333333333333333,\"#9c179e\"],[0.4444444444444444,\"#bd3786\"],[0.5555555555555556,\"#d8576b\"],[0.6666666666666666,\"#ed7953\"],[0.7777777777777778,\"#fb9f3a\"],[0.8888888888888888,\"#fdca26\"],[1.0,\"#f0f921\"]],\"type\":\"contour\"}],\"contourcarpet\":[{\"colorbar\":{\"outlinewidth\":0,\"ticks\":\"\"},\"type\":\"contourcarpet\"}],\"heatmap\":[{\"colorbar\":{\"outlinewidth\":0,\"ticks\":\"\"},\"colorscale\":[[0.0,\"#0d0887\"],[0.1111111111111111,\"#46039f\"],[0.2222222222222222,\"#7201a8\"],[0.3333333333333333,\"#9c179e\"],[0.4444444444444444,\"#bd3786\"],[0.5555555555555556,\"#d8576b\"],[0.6666666666666666,\"#ed7953\"],[0.7777777777777778,\"#fb9f3a\"],[0.8888888888888888,\"#fdca26\"],[1.0,\"#f0f921\"]],\"type\":\"heatmap\"}],\"heatmapgl\":[{\"colorbar\":{\"outlinewidth\":0,\"ticks\":\"\"},\"colorscale\":[[0.0,\"#0d0887\"],[0.1111111111111111,\"#46039f\"],[0.2222222222222222,\"#7201a8\"],[0.3333333333333333,\"#9c179e\"],[0.4444444444444444,\"#bd3786\"],[0.5555555555555556,\"#d8576b\"],[0.6666666666666666,\"#ed7953\"],[0.7777777777777778,\"#fb9f3a\"],[0.8888888888888888,\"#fdca26\"],[1.0,\"#f0f921\"]],\"type\":\"heatmapgl\"}],\"histogram\":[{\"marker\":{\"pattern\":{\"fillmode\":\"overlay\",\"size\":10,\"solidity\":0.2}},\"type\":\"histogram\"}],\"histogram2d\":[{\"colorbar\":{\"outlinewidth\":0,\"ticks\":\"\"},\"colorscale\":[[0.0,\"#0d0887\"],[0.1111111111111111,\"#46039f\"],[0.2222222222222222,\"#7201a8\"],[0.3333333333333333,\"#9c179e\"],[0.4444444444444444,\"#bd3786\"],[0.5555555555555556,\"#d8576b\"],[0.6666666666666666,\"#ed7953\"],[0.7777777777777778,\"#fb9f3a\"],[0.8888888888888888,\"#fdca26\"],[1.0,\"#f0f921\"]],\"type\":\"histogram2d\"}],\"histogram2dcontour\":[{\"colorbar\":{\"outlinewidth\":0,\"ticks\":\"\"},\"colorscale\":[[0.0,\"#0d0887\"],[0.1111111111111111,\"#46039f\"],[0.2222222222222222,\"#7201a8\"],[0.3333333333333333,\"#9c179e\"],[0.4444444444444444,\"#bd3786\"],[0.5555555555555556,\"#d8576b\"],[0.6666666666666666,\"#ed7953\"],[0.7777777777777778,\"#fb9f3a\"],[0.8888888888888888,\"#fdca26\"],[1.0,\"#f0f921\"]],\"type\":\"histogram2dcontour\"}],\"mesh3d\":[{\"colorbar\":{\"outlinewidth\":0,\"ticks\":\"\"},\"type\":\"mesh3d\"}],\"parcoords\":[{\"line\":{\"colorbar\":{\"outlinewidth\":0,\"ticks\":\"\"}},\"type\":\"parcoords\"}],\"pie\":[{\"automargin\":true,\"type\":\"pie\"}],\"scatter\":[{\"marker\":{\"colorbar\":{\"outlinewidth\":0,\"ticks\":\"\"}},\"type\":\"scatter\"}],\"scatter3d\":[{\"line\":{\"colorbar\":{\"outlinewidth\":0,\"ticks\":\"\"}},\"marker\":{\"colorbar\":{\"outlinewidth\":0,\"ticks\":\"\"}},\"type\":\"scatter3d\"}],\"scattercarpet\":[{\"marker\":{\"colorbar\":{\"outlinewidth\":0,\"ticks\":\"\"}},\"type\":\"scattercarpet\"}],\"scattergeo\":[{\"marker\":{\"colorbar\":{\"outlinewidth\":0,\"ticks\":\"\"}},\"type\":\"scattergeo\"}],\"scattergl\":[{\"marker\":{\"colorbar\":{\"outlinewidth\":0,\"ticks\":\"\"}},\"type\":\"scattergl\"}],\"scattermapbox\":[{\"marker\":{\"colorbar\":{\"outlinewidth\":0,\"ticks\":\"\"}},\"type\":\"scattermapbox\"}],\"scatterpolar\":[{\"marker\":{\"colorbar\":{\"outlinewidth\":0,\"ticks\":\"\"}},\"type\":\"scatterpolar\"}],\"scatterpolargl\":[{\"marker\":{\"colorbar\":{\"outlinewidth\":0,\"ticks\":\"\"}},\"type\":\"scatterpolargl\"}],\"scatterternary\":[{\"marker\":{\"colorbar\":{\"outlinewidth\":0,\"ticks\":\"\"}},\"type\":\"scatterternary\"}],\"surface\":[{\"colorbar\":{\"outlinewidth\":0,\"ticks\":\"\"},\"colorscale\":[[0.0,\"#0d0887\"],[0.1111111111111111,\"#46039f\"],[0.2222222222222222,\"#7201a8\"],[0.3333333333333333,\"#9c179e\"],[0.4444444444444444,\"#bd3786\"],[0.5555555555555556,\"#d8576b\"],[0.6666666666666666,\"#ed7953\"],[0.7777777777777778,\"#fb9f3a\"],[0.8888888888888888,\"#fdca26\"],[1.0,\"#f0f921\"]],\"type\":\"surface\"}],\"table\":[{\"cells\":{\"fill\":{\"color\":\"#EBF0F8\"},\"line\":{\"color\":\"white\"}},\"header\":{\"fill\":{\"color\":\"#C8D4E3\"},\"line\":{\"color\":\"white\"}},\"type\":\"table\"}]},\"layout\":{\"annotationdefaults\":{\"arrowcolor\":\"#2a3f5f\",\"arrowhead\":0,\"arrowwidth\":1},\"autotypenumbers\":\"strict\",\"coloraxis\":{\"colorbar\":{\"outlinewidth\":0,\"ticks\":\"\"}},\"colorscale\":{\"diverging\":[[0,\"#8e0152\"],[0.1,\"#c51b7d\"],[0.2,\"#de77ae\"],[0.3,\"#f1b6da\"],[0.4,\"#fde0ef\"],[0.5,\"#f7f7f7\"],[0.6,\"#e6f5d0\"],[0.7,\"#b8e186\"],[0.8,\"#7fbc41\"],[0.9,\"#4d9221\"],[1,\"#276419\"]],\"sequential\":[[0.0,\"#0d0887\"],[0.1111111111111111,\"#46039f\"],[0.2222222222222222,\"#7201a8\"],[0.3333333333333333,\"#9c179e\"],[0.4444444444444444,\"#bd3786\"],[0.5555555555555556,\"#d8576b\"],[0.6666666666666666,\"#ed7953\"],[0.7777777777777778,\"#fb9f3a\"],[0.8888888888888888,\"#fdca26\"],[1.0,\"#f0f921\"]],\"sequentialminus\":[[0.0,\"#0d0887\"],[0.1111111111111111,\"#46039f\"],[0.2222222222222222,\"#7201a8\"],[0.3333333333333333,\"#9c179e\"],[0.4444444444444444,\"#bd3786\"],[0.5555555555555556,\"#d8576b\"],[0.6666666666666666,\"#ed7953\"],[0.7777777777777778,\"#fb9f3a\"],[0.8888888888888888,\"#fdca26\"],[1.0,\"#f0f921\"]]},\"colorway\":[\"#636efa\",\"#EF553B\",\"#00cc96\",\"#ab63fa\",\"#FFA15A\",\"#19d3f3\",\"#FF6692\",\"#B6E880\",\"#FF97FF\",\"#FECB52\"],\"font\":{\"color\":\"#2a3f5f\"},\"geo\":{\"bgcolor\":\"white\",\"lakecolor\":\"white\",\"landcolor\":\"#E5ECF6\",\"showlakes\":true,\"showland\":true,\"subunitcolor\":\"white\"},\"hoverlabel\":{\"align\":\"left\"},\"hovermode\":\"closest\",\"mapbox\":{\"style\":\"light\"},\"paper_bgcolor\":\"white\",\"plot_bgcolor\":\"#E5ECF6\",\"polar\":{\"angularaxis\":{\"gridcolor\":\"white\",\"linecolor\":\"white\",\"ticks\":\"\"},\"bgcolor\":\"#E5ECF6\",\"radialaxis\":{\"gridcolor\":\"white\",\"linecolor\":\"white\",\"ticks\":\"\"}},\"scene\":{\"xaxis\":{\"backgroundcolor\":\"#E5ECF6\",\"gridcolor\":\"white\",\"gridwidth\":2,\"linecolor\":\"white\",\"showbackground\":true,\"ticks\":\"\",\"zerolinecolor\":\"white\"},\"yaxis\":{\"backgroundcolor\":\"#E5ECF6\",\"gridcolor\":\"white\",\"gridwidth\":2,\"linecolor\":\"white\",\"showbackground\":true,\"ticks\":\"\",\"zerolinecolor\":\"white\"},\"zaxis\":{\"backgroundcolor\":\"#E5ECF6\",\"gridcolor\":\"white\",\"gridwidth\":2,\"linecolor\":\"white\",\"showbackground\":true,\"ticks\":\"\",\"zerolinecolor\":\"white\"}},\"shapedefaults\":{\"line\":{\"color\":\"#2a3f5f\"}},\"ternary\":{\"aaxis\":{\"gridcolor\":\"white\",\"linecolor\":\"white\",\"ticks\":\"\"},\"baxis\":{\"gridcolor\":\"white\",\"linecolor\":\"white\",\"ticks\":\"\"},\"bgcolor\":\"#E5ECF6\",\"caxis\":{\"gridcolor\":\"white\",\"linecolor\":\"white\",\"ticks\":\"\"}},\"title\":{\"x\":0.05},\"xaxis\":{\"automargin\":true,\"gridcolor\":\"white\",\"linecolor\":\"white\",\"ticks\":\"\",\"title\":{\"standoff\":15},\"zerolinecolor\":\"white\",\"zerolinewidth\":2},\"yaxis\":{\"automargin\":true,\"gridcolor\":\"white\",\"linecolor\":\"white\",\"ticks\":\"\",\"title\":{\"standoff\":15},\"zerolinecolor\":\"white\",\"zerolinewidth\":2}}},\"title\":{\"text\":\"Company SaaS Active Users by Country\",\"y\":0.9,\"x\":0.5,\"xanchor\":\"center\",\"yanchor\":\"top\"},\"geo\":{\"projection\":{\"type\":\"kavrayskiy7\"},\"scope\":\"world\",\"resolution\":110,\"showcoastlines\":false,\"showocean\":true,\"showcountries\":true,\"oceancolor\":\"#eaeaea\",\"lakecolor\":\"#eaeaea\",\"coastlinecolor\":\"#dadada\",\"bgcolor\":\"#000000\"},\"showlegend\":true},                        {\"responsive\": true}                    ).then(function(){\n",
       "                            \n",
       "var gd = document.getElementById('7585763c-7bef-4fd4-b50b-30328495c559');\n",
       "var x = new MutationObserver(function (mutations, observer) {{\n",
       "        var display = window.getComputedStyle(gd).display;\n",
       "        if (!display || display === 'none') {{\n",
       "            console.log([gd, 'removed!']);\n",
       "            Plotly.purge(gd);\n",
       "            observer.disconnect();\n",
       "        }}\n",
       "}});\n",
       "\n",
       "// Listen for the removal of the full notebook cells\n",
       "var notebookContainer = gd.closest('#notebook-container');\n",
       "if (notebookContainer) {{\n",
       "    x.observe(notebookContainer, {childList: true});\n",
       "}}\n",
       "\n",
       "// Listen for the clearing of the current output cell\n",
       "var outputEl = gd.closest('.output');\n",
       "if (outputEl) {{\n",
       "    x.observe(outputEl, {childList: true});\n",
       "}}\n",
       "\n",
       "                        })                };                });            </script>        </div>"
      ]
     },
     "metadata": {},
     "output_type": "display_data"
    }
   ],
   "source": [
    "# creating Active users fig with plotly\n",
    "fig = go.Figure(go.Choropleth(locations = active['country_name'],\n",
    "                              locationmode = \"country names\", z = active['norm_values'],\n",
    "                              text = active['country_name'], colorscale = 'YlGnBu',\n",
    "                              autocolorscale=False, reversescale=False,\n",
    "                              marker_line_color='#000000', marker_line_width=0.5,\n",
    "                              colorbar_ticksuffix = '', colorbar_title = 'Users'))\n",
    "\n",
    "# Further fig customization\n",
    "fig.update_layout(title_text = 'Company SaaS Active Users by Country', showlegend = True,\n",
    "                  title={'y':0.9, 'x':0.5, 'xanchor': 'center', 'yanchor': 'top'},\n",
    "                  geo = dict(scope='world', resolution=110, projection_type='kavrayskiy7',\n",
    "                             showcoastlines=False, showocean=True, showcountries=True,\n",
    "                             oceancolor='#eaeaea', lakecolor='#eaeaea',\n",
    "                             coastlinecolor='#dadada', bgcolor=\"#000000\"))\n",
    " \n",
    "# display interactive image\n",
    "fig.write_image(f\"Active users.png\")\n",
    "fig.show()\n"
   ]
  },
  {
   "cell_type": "code",
   "execution_count": 50,
   "id": "47c914fb",
   "metadata": {
    "execution": {
     "iopub.execute_input": "2022-04-18T09:08:28.831946Z",
     "iopub.status.busy": "2022-04-18T09:08:28.831194Z",
     "iopub.status.idle": "2022-04-18T09:08:29.111305Z",
     "shell.execute_reply": "2022-04-18T09:08:29.111906Z",
     "shell.execute_reply.started": "2022-04-18T09:03:45.581547Z"
    },
    "papermill": {
     "duration": 0.42055,
     "end_time": "2022-04-18T09:08:29.112108",
     "exception": false,
     "start_time": "2022-04-18T09:08:28.691558",
     "status": "completed"
    },
    "tags": []
   },
   "outputs": [
    {
     "data": {
      "text/html": [
       "<div>                            <div id=\"9ceaf384-12a3-4c18-9a13-c318b9d31c86\" class=\"plotly-graph-div\" style=\"height:525px; width:100%;\"></div>            <script type=\"text/javascript\">                require([\"plotly\"], function(Plotly) {                    window.PLOTLYENV=window.PLOTLYENV || {};                                    if (document.getElementById(\"9ceaf384-12a3-4c18-9a13-c318b9d31c86\")) {                    Plotly.newPlot(                        \"9ceaf384-12a3-4c18-9a13-c318b9d31c86\",                        [{\"autocolorscale\":false,\"colorbar\":{\"ticksuffix\":\"\",\"title\":{\"text\":\"Users\"}},\"colorscale\":[[0.0,\"rgb(0,0,0)\"],[0.3333333333333333,\"rgb(230,0,0)\"],[0.6666666666666666,\"rgb(255,210,0)\"],[1.0,\"rgb(255,255,255)\"]],\"locationmode\":\"country names\",\"locations\":[\"United States\",\"United Kingdom\",\"Uganda\",\"Antarctica\",\"Chile\",\"Canada\",\"Australia\",\"France\",\"India\",\"Malaysia\",\"Argentina\",\"Italy\",\"Spain\",\"Egypt\",\"Japan\",\"Switzerland\",\"Vietnam\",\"Israel\",\"Rwanda\",\"Netherlands\",\"Brazil\",\"Germany\",\"Thailand\",\"Sweden\",\"Romania\",\"Russia\",\"Aland Islands\",\"Puerto Rico\",\"Poland\",\"Peru\",\"Norway\",\"Kenya\",\"Indonesia\",\"Hungary\",\"Ghana\",\"Ecuador\",\"Dominican Republic\",\"Jordan\"],\"marker\":{\"line\":{\"color\":\"#000000\",\"width\":0.5}},\"reversescale\":true,\"text\":[\"United States\",\"United Kingdom\",\"Uganda\",\"Antarctica\",\"Chile\",\"Canada\",\"Australia\",\"France\",\"India\",\"Malaysia\",\"Argentina\",\"Italy\",\"Spain\",\"Egypt\",\"Japan\",\"Switzerland\",\"Vietnam\",\"Israel\",\"Rwanda\",\"Netherlands\",\"Brazil\",\"Germany\",\"Thailand\",\"Sweden\",\"Romania\",\"Russia\",\"Aland Islands\",\"Puerto Rico\",\"Poland\",\"Peru\",\"Norway\",\"Kenya\",\"Indonesia\",\"Hungary\",\"Ghana\",\"Ecuador\",\"Dominican Republic\",\"Jordan\"],\"z\":[0.3890784982935154,0.18430034129692832,0.06143344709897611,0.051194539249146756,0.04778156996587031,0.034129692832764506,0.020477815699658702,0.020477815699658702,0.017064846416382253,0.013651877133105802,0.013651877133105802,0.010238907849829351,0.010238907849829351,0.010238907849829351,0.010238907849829351,0.010238907849829351,0.006825938566552901,0.006825938566552901,0.006825938566552901,0.006825938566552901,0.006825938566552901,0.006825938566552901,0.0034129692832764505,0.0034129692832764505,0.0034129692832764505,0.0034129692832764505,0.0034129692832764505,0.0034129692832764505,0.0034129692832764505,0.0034129692832764505,0.0034129692832764505,0.0034129692832764505,0.0034129692832764505,0.0034129692832764505,0.0034129692832764505,0.0034129692832764505,0.0034129692832764505,0.0034129692832764505],\"type\":\"choropleth\"}],                        {\"template\":{\"data\":{\"bar\":[{\"error_x\":{\"color\":\"#2a3f5f\"},\"error_y\":{\"color\":\"#2a3f5f\"},\"marker\":{\"line\":{\"color\":\"#E5ECF6\",\"width\":0.5},\"pattern\":{\"fillmode\":\"overlay\",\"size\":10,\"solidity\":0.2}},\"type\":\"bar\"}],\"barpolar\":[{\"marker\":{\"line\":{\"color\":\"#E5ECF6\",\"width\":0.5},\"pattern\":{\"fillmode\":\"overlay\",\"size\":10,\"solidity\":0.2}},\"type\":\"barpolar\"}],\"carpet\":[{\"aaxis\":{\"endlinecolor\":\"#2a3f5f\",\"gridcolor\":\"white\",\"linecolor\":\"white\",\"minorgridcolor\":\"white\",\"startlinecolor\":\"#2a3f5f\"},\"baxis\":{\"endlinecolor\":\"#2a3f5f\",\"gridcolor\":\"white\",\"linecolor\":\"white\",\"minorgridcolor\":\"white\",\"startlinecolor\":\"#2a3f5f\"},\"type\":\"carpet\"}],\"choropleth\":[{\"colorbar\":{\"outlinewidth\":0,\"ticks\":\"\"},\"type\":\"choropleth\"}],\"contour\":[{\"colorbar\":{\"outlinewidth\":0,\"ticks\":\"\"},\"colorscale\":[[0.0,\"#0d0887\"],[0.1111111111111111,\"#46039f\"],[0.2222222222222222,\"#7201a8\"],[0.3333333333333333,\"#9c179e\"],[0.4444444444444444,\"#bd3786\"],[0.5555555555555556,\"#d8576b\"],[0.6666666666666666,\"#ed7953\"],[0.7777777777777778,\"#fb9f3a\"],[0.8888888888888888,\"#fdca26\"],[1.0,\"#f0f921\"]],\"type\":\"contour\"}],\"contourcarpet\":[{\"colorbar\":{\"outlinewidth\":0,\"ticks\":\"\"},\"type\":\"contourcarpet\"}],\"heatmap\":[{\"colorbar\":{\"outlinewidth\":0,\"ticks\":\"\"},\"colorscale\":[[0.0,\"#0d0887\"],[0.1111111111111111,\"#46039f\"],[0.2222222222222222,\"#7201a8\"],[0.3333333333333333,\"#9c179e\"],[0.4444444444444444,\"#bd3786\"],[0.5555555555555556,\"#d8576b\"],[0.6666666666666666,\"#ed7953\"],[0.7777777777777778,\"#fb9f3a\"],[0.8888888888888888,\"#fdca26\"],[1.0,\"#f0f921\"]],\"type\":\"heatmap\"}],\"heatmapgl\":[{\"colorbar\":{\"outlinewidth\":0,\"ticks\":\"\"},\"colorscale\":[[0.0,\"#0d0887\"],[0.1111111111111111,\"#46039f\"],[0.2222222222222222,\"#7201a8\"],[0.3333333333333333,\"#9c179e\"],[0.4444444444444444,\"#bd3786\"],[0.5555555555555556,\"#d8576b\"],[0.6666666666666666,\"#ed7953\"],[0.7777777777777778,\"#fb9f3a\"],[0.8888888888888888,\"#fdca26\"],[1.0,\"#f0f921\"]],\"type\":\"heatmapgl\"}],\"histogram\":[{\"marker\":{\"pattern\":{\"fillmode\":\"overlay\",\"size\":10,\"solidity\":0.2}},\"type\":\"histogram\"}],\"histogram2d\":[{\"colorbar\":{\"outlinewidth\":0,\"ticks\":\"\"},\"colorscale\":[[0.0,\"#0d0887\"],[0.1111111111111111,\"#46039f\"],[0.2222222222222222,\"#7201a8\"],[0.3333333333333333,\"#9c179e\"],[0.4444444444444444,\"#bd3786\"],[0.5555555555555556,\"#d8576b\"],[0.6666666666666666,\"#ed7953\"],[0.7777777777777778,\"#fb9f3a\"],[0.8888888888888888,\"#fdca26\"],[1.0,\"#f0f921\"]],\"type\":\"histogram2d\"}],\"histogram2dcontour\":[{\"colorbar\":{\"outlinewidth\":0,\"ticks\":\"\"},\"colorscale\":[[0.0,\"#0d0887\"],[0.1111111111111111,\"#46039f\"],[0.2222222222222222,\"#7201a8\"],[0.3333333333333333,\"#9c179e\"],[0.4444444444444444,\"#bd3786\"],[0.5555555555555556,\"#d8576b\"],[0.6666666666666666,\"#ed7953\"],[0.7777777777777778,\"#fb9f3a\"],[0.8888888888888888,\"#fdca26\"],[1.0,\"#f0f921\"]],\"type\":\"histogram2dcontour\"}],\"mesh3d\":[{\"colorbar\":{\"outlinewidth\":0,\"ticks\":\"\"},\"type\":\"mesh3d\"}],\"parcoords\":[{\"line\":{\"colorbar\":{\"outlinewidth\":0,\"ticks\":\"\"}},\"type\":\"parcoords\"}],\"pie\":[{\"automargin\":true,\"type\":\"pie\"}],\"scatter\":[{\"marker\":{\"colorbar\":{\"outlinewidth\":0,\"ticks\":\"\"}},\"type\":\"scatter\"}],\"scatter3d\":[{\"line\":{\"colorbar\":{\"outlinewidth\":0,\"ticks\":\"\"}},\"marker\":{\"colorbar\":{\"outlinewidth\":0,\"ticks\":\"\"}},\"type\":\"scatter3d\"}],\"scattercarpet\":[{\"marker\":{\"colorbar\":{\"outlinewidth\":0,\"ticks\":\"\"}},\"type\":\"scattercarpet\"}],\"scattergeo\":[{\"marker\":{\"colorbar\":{\"outlinewidth\":0,\"ticks\":\"\"}},\"type\":\"scattergeo\"}],\"scattergl\":[{\"marker\":{\"colorbar\":{\"outlinewidth\":0,\"ticks\":\"\"}},\"type\":\"scattergl\"}],\"scattermapbox\":[{\"marker\":{\"colorbar\":{\"outlinewidth\":0,\"ticks\":\"\"}},\"type\":\"scattermapbox\"}],\"scatterpolar\":[{\"marker\":{\"colorbar\":{\"outlinewidth\":0,\"ticks\":\"\"}},\"type\":\"scatterpolar\"}],\"scatterpolargl\":[{\"marker\":{\"colorbar\":{\"outlinewidth\":0,\"ticks\":\"\"}},\"type\":\"scatterpolargl\"}],\"scatterternary\":[{\"marker\":{\"colorbar\":{\"outlinewidth\":0,\"ticks\":\"\"}},\"type\":\"scatterternary\"}],\"surface\":[{\"colorbar\":{\"outlinewidth\":0,\"ticks\":\"\"},\"colorscale\":[[0.0,\"#0d0887\"],[0.1111111111111111,\"#46039f\"],[0.2222222222222222,\"#7201a8\"],[0.3333333333333333,\"#9c179e\"],[0.4444444444444444,\"#bd3786\"],[0.5555555555555556,\"#d8576b\"],[0.6666666666666666,\"#ed7953\"],[0.7777777777777778,\"#fb9f3a\"],[0.8888888888888888,\"#fdca26\"],[1.0,\"#f0f921\"]],\"type\":\"surface\"}],\"table\":[{\"cells\":{\"fill\":{\"color\":\"#EBF0F8\"},\"line\":{\"color\":\"white\"}},\"header\":{\"fill\":{\"color\":\"#C8D4E3\"},\"line\":{\"color\":\"white\"}},\"type\":\"table\"}]},\"layout\":{\"annotationdefaults\":{\"arrowcolor\":\"#2a3f5f\",\"arrowhead\":0,\"arrowwidth\":1},\"autotypenumbers\":\"strict\",\"coloraxis\":{\"colorbar\":{\"outlinewidth\":0,\"ticks\":\"\"}},\"colorscale\":{\"diverging\":[[0,\"#8e0152\"],[0.1,\"#c51b7d\"],[0.2,\"#de77ae\"],[0.3,\"#f1b6da\"],[0.4,\"#fde0ef\"],[0.5,\"#f7f7f7\"],[0.6,\"#e6f5d0\"],[0.7,\"#b8e186\"],[0.8,\"#7fbc41\"],[0.9,\"#4d9221\"],[1,\"#276419\"]],\"sequential\":[[0.0,\"#0d0887\"],[0.1111111111111111,\"#46039f\"],[0.2222222222222222,\"#7201a8\"],[0.3333333333333333,\"#9c179e\"],[0.4444444444444444,\"#bd3786\"],[0.5555555555555556,\"#d8576b\"],[0.6666666666666666,\"#ed7953\"],[0.7777777777777778,\"#fb9f3a\"],[0.8888888888888888,\"#fdca26\"],[1.0,\"#f0f921\"]],\"sequentialminus\":[[0.0,\"#0d0887\"],[0.1111111111111111,\"#46039f\"],[0.2222222222222222,\"#7201a8\"],[0.3333333333333333,\"#9c179e\"],[0.4444444444444444,\"#bd3786\"],[0.5555555555555556,\"#d8576b\"],[0.6666666666666666,\"#ed7953\"],[0.7777777777777778,\"#fb9f3a\"],[0.8888888888888888,\"#fdca26\"],[1.0,\"#f0f921\"]]},\"colorway\":[\"#636efa\",\"#EF553B\",\"#00cc96\",\"#ab63fa\",\"#FFA15A\",\"#19d3f3\",\"#FF6692\",\"#B6E880\",\"#FF97FF\",\"#FECB52\"],\"font\":{\"color\":\"#2a3f5f\"},\"geo\":{\"bgcolor\":\"white\",\"lakecolor\":\"white\",\"landcolor\":\"#E5ECF6\",\"showlakes\":true,\"showland\":true,\"subunitcolor\":\"white\"},\"hoverlabel\":{\"align\":\"left\"},\"hovermode\":\"closest\",\"mapbox\":{\"style\":\"light\"},\"paper_bgcolor\":\"white\",\"plot_bgcolor\":\"#E5ECF6\",\"polar\":{\"angularaxis\":{\"gridcolor\":\"white\",\"linecolor\":\"white\",\"ticks\":\"\"},\"bgcolor\":\"#E5ECF6\",\"radialaxis\":{\"gridcolor\":\"white\",\"linecolor\":\"white\",\"ticks\":\"\"}},\"scene\":{\"xaxis\":{\"backgroundcolor\":\"#E5ECF6\",\"gridcolor\":\"white\",\"gridwidth\":2,\"linecolor\":\"white\",\"showbackground\":true,\"ticks\":\"\",\"zerolinecolor\":\"white\"},\"yaxis\":{\"backgroundcolor\":\"#E5ECF6\",\"gridcolor\":\"white\",\"gridwidth\":2,\"linecolor\":\"white\",\"showbackground\":true,\"ticks\":\"\",\"zerolinecolor\":\"white\"},\"zaxis\":{\"backgroundcolor\":\"#E5ECF6\",\"gridcolor\":\"white\",\"gridwidth\":2,\"linecolor\":\"white\",\"showbackground\":true,\"ticks\":\"\",\"zerolinecolor\":\"white\"}},\"shapedefaults\":{\"line\":{\"color\":\"#2a3f5f\"}},\"ternary\":{\"aaxis\":{\"gridcolor\":\"white\",\"linecolor\":\"white\",\"ticks\":\"\"},\"baxis\":{\"gridcolor\":\"white\",\"linecolor\":\"white\",\"ticks\":\"\"},\"bgcolor\":\"#E5ECF6\",\"caxis\":{\"gridcolor\":\"white\",\"linecolor\":\"white\",\"ticks\":\"\"}},\"title\":{\"x\":0.05},\"xaxis\":{\"automargin\":true,\"gridcolor\":\"white\",\"linecolor\":\"white\",\"ticks\":\"\",\"title\":{\"standoff\":15},\"zerolinecolor\":\"white\",\"zerolinewidth\":2},\"yaxis\":{\"automargin\":true,\"gridcolor\":\"white\",\"linecolor\":\"white\",\"ticks\":\"\",\"title\":{\"standoff\":15},\"zerolinecolor\":\"white\",\"zerolinewidth\":2}}},\"title\":{\"text\":\"Company SaaS Deleted Users by Country\",\"y\":0.9,\"x\":0.5,\"xanchor\":\"center\",\"yanchor\":\"top\"},\"geo\":{\"projection\":{\"type\":\"kavrayskiy7\"},\"scope\":\"world\",\"resolution\":110,\"showcoastlines\":false,\"showocean\":true,\"showcountries\":true,\"oceancolor\":\"#eaeaea\",\"lakecolor\":\"#eaeaea\",\"coastlinecolor\":\"#dadada\",\"bgcolor\":\"#000000\"},\"showlegend\":true},                        {\"responsive\": true}                    ).then(function(){\n",
       "                            \n",
       "var gd = document.getElementById('9ceaf384-12a3-4c18-9a13-c318b9d31c86');\n",
       "var x = new MutationObserver(function (mutations, observer) {{\n",
       "        var display = window.getComputedStyle(gd).display;\n",
       "        if (!display || display === 'none') {{\n",
       "            console.log([gd, 'removed!']);\n",
       "            Plotly.purge(gd);\n",
       "            observer.disconnect();\n",
       "        }}\n",
       "}});\n",
       "\n",
       "// Listen for the removal of the full notebook cells\n",
       "var notebookContainer = gd.closest('#notebook-container');\n",
       "if (notebookContainer) {{\n",
       "    x.observe(notebookContainer, {childList: true});\n",
       "}}\n",
       "\n",
       "// Listen for the clearing of the current output cell\n",
       "var outputEl = gd.closest('.output');\n",
       "if (outputEl) {{\n",
       "    x.observe(outputEl, {childList: true});\n",
       "}}\n",
       "\n",
       "                        })                };                });            </script>        </div>"
      ]
     },
     "metadata": {},
     "output_type": "display_data"
    }
   ],
   "source": [
    "# creating Deleted users fig with plotly\n",
    "fig = go.Figure(go.Choropleth(locations = deleted['country_name'],\n",
    "                              locationmode = \"country names\", z = deleted['norm_values'],\n",
    "                              text = deleted['country_name'], colorscale = 'hot',\n",
    "                              autocolorscale=False, reversescale=True,\n",
    "                              marker_line_color='#000000', marker_line_width=0.5,\n",
    "                              colorbar_ticksuffix = '', colorbar_title = 'Users'))\n",
    " \n",
    "# Further fig customization\n",
    "fig.update_layout(title_text = 'Company SaaS Deleted Users by Country', showlegend = True,\n",
    "                  title={'y':0.9, 'x':0.5, 'xanchor': 'center', 'yanchor': 'top'},\n",
    "                  geo = dict(scope='world', resolution=110, projection_type='kavrayskiy7',\n",
    "                             showcoastlines=False, showocean=True, showcountries=True,\n",
    "                             oceancolor='#eaeaea', lakecolor='#eaeaea',\n",
    "                             coastlinecolor='#dadada', bgcolor=\"#000000\"))\n",
    " \n",
    "# display interactive image\n",
    "fig.write_image(f\"Deleted users.png\")\n",
    "fig.show()\n"
   ]
  },
  {
   "cell_type": "markdown",
   "id": "62ca759e",
   "metadata": {
    "papermill": {
     "duration": 0.13059,
     "end_time": "2022-04-18T09:08:29.375112",
     "exception": false,
     "start_time": "2022-04-18T09:08:29.244522",
     "status": "completed"
    },
    "tags": []
   },
   "source": [
    "### <p style=\"background-color:#535360;font-family:arial;color:#FFF7EF;font-size:250%;text-align:left;border-radius:10px 10px;\">Conclusion</p>\n"
   ]
  },
  {
   "cell_type": "markdown",
   "id": "693188fc",
   "metadata": {
    "papermill": {
     "duration": 0.138852,
     "end_time": "2022-04-18T09:08:29.645148",
     "exception": false,
     "start_time": "2022-04-18T09:08:29.506296",
     "status": "completed"
    },
    "tags": []
   },
   "source": [
    "<div class=\"alert alert-info\" role=\"alert\">Here by doing individual table analysis we got good understanding of the data bit by bit, a more comprehensive approach is required in order to provide greater insights.For future ,let's dig a bit deeper on details for cancelled subscriptions aiming to provide some insights that could help us to develop a retention strategy.\n",
    "</div>"
   ]
  }
 ],
 "metadata": {
  "kernelspec": {
   "display_name": "Python 3",
   "language": "python",
   "name": "python3"
  },
  "language_info": {
   "codemirror_mode": {
    "name": "ipython",
    "version": 3
   },
   "file_extension": ".py",
   "mimetype": "text/x-python",
   "name": "python",
   "nbconvert_exporter": "python",
   "pygments_lexer": "ipython3",
   "version": "3.7.12"
  },
  "papermill": {
   "default_parameters": {},
   "duration": 55.105557,
   "end_time": "2022-04-18T09:08:30.696238",
   "environment_variables": {},
   "exception": null,
   "input_path": "__notebook__.ipynb",
   "output_path": "__notebook__.ipynb",
   "parameters": {},
   "start_time": "2022-04-18T09:07:35.590681",
   "version": "2.3.3"
  }
 },
 "nbformat": 4,
 "nbformat_minor": 5
}
